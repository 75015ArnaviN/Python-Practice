{
 "cells": [
  {
   "cell_type": "markdown",
   "id": "9e28f123",
   "metadata": {},
   "source": [
    "Q9. Write a menu driven program.\n",
    "Ask the user which input needs to be converted \n",
    "1. binary 2. Octal 3. Hex\n",
    "Then convert given string to integer using int() function"
   ]
  },
  {
   "cell_type": "code",
   "execution_count": 3,
   "id": "14772147",
   "metadata": {},
   "outputs": [
    {
     "name": "stdout",
     "output_type": "stream",
     "text": [
      "Hello\n"
     ]
    }
   ],
   "source": [
    "while(True):\n",
    "    choice = int(input(\"which input needs to be converted  1. binary 2. Octal 3. Hex 4. Exit\"))\n",
    "    value = input(\"Enter value to be converted\")\n",
    "    match choice:\n",
    "        case 1:\n",
    "            print(\"Binary to int conversion\")\n",
    "            print(value, \" int is \", int(value,2))\n",
    "        case 2:\n",
    "            print(\"Octal to int conversion\")\n",
    "            print(value, \" int is \", int(value,8))\n",
    "        case 3:\n",
    "            print(\"Hex to int conversion\")\n",
    "            print(value, \" int is \", int(value,16))\n",
    "        case 4:\n",
    "            print(\"Exiting ...\")\n",
    "            break # Come out of the while loop"
   ]
  },
  {
   "cell_type": "markdown",
   "id": "8f9adde2",
   "metadata": {},
   "source": [
    "WAP to create calculator\n",
    "take two numbers from user\n",
    "Ask the operation add, sub, mult, div"
   ]
  },
  {
   "cell_type": "code",
   "execution_count": 4,
   "id": "9b09c689",
   "metadata": {},
   "outputs": [
    {
     "name": "stdout",
     "output_type": "stream",
     "text": [
      "Enter first number10\n",
      "Enter second number23\n"
     ]
    }
   ],
   "source": [
    "num1 = float(input(\"Enter first number\"))\n",
    "num2 = float(input(\"Enter second number\"))"
   ]
  },
  {
   "cell_type": "code",
   "execution_count": 5,
   "id": "3be3e0ed",
   "metadata": {},
   "outputs": [
    {
     "name": "stdout",
     "output_type": "stream",
     "text": [
      "Operation to be performed add , sub , mult, divadd\n",
      "Addition is  33.0\n"
     ]
    }
   ],
   "source": [
    "op = input(\"Operation to be performed add , sub , mult, div\")\n",
    "match op:\n",
    "    case \"+\"|\"add\" | \"Add\":\n",
    "        print(\"Addition is \", num1 + num2)\n",
    "    case \"-\"|\"sub\" | \"Sub\":\n",
    "        print(\"Subtraction is \", num1 - num2)\n",
    "    case \"*\"|\"mult\" | \"Mult\":\n",
    "        print(\"Multiplication is\", num1 * num2)\n",
    "    case \"/\"|\"div\" | \"Div\":\n",
    "        print(\"Division is \", num1 / num2)"
   ]
  },
  {
   "cell_type": "code",
   "execution_count": null,
   "id": "ef5dfbb7",
   "metadata": {},
   "outputs": [],
   "source": []
  }
 ],
 "metadata": {
  "kernelspec": {
   "display_name": "Python 3 (ipykernel)",
   "language": "python",
   "name": "python3"
  },
  "language_info": {
   "codemirror_mode": {
    "name": "ipython",
    "version": 3
   },
   "file_extension": ".py",
   "mimetype": "text/x-python",
   "name": "python",
   "nbconvert_exporter": "python",
   "pygments_lexer": "ipython3",
   "version": "3.11.4"
  }
 },
 "nbformat": 4,
 "nbformat_minor": 5
}
