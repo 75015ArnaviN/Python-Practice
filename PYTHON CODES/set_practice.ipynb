{
 "cells": [
  {
   "cell_type": "markdown",
   "id": "f146513f",
   "metadata": {},
   "source": [
    "# set creation"
   ]
  },
  {
   "cell_type": "code",
   "execution_count": 2,
   "id": "3c54c15f",
   "metadata": {},
   "outputs": [
    {
     "name": "stdout",
     "output_type": "stream",
     "text": [
      "<class 'set'>\n"
     ]
    }
   ],
   "source": [
    "s1= set()\n",
    "print(s1)"
   ]
  },
  {
   "cell_type": "code",
   "execution_count": 3,
   "id": "0b0bfa0a",
   "metadata": {},
   "outputs": [
    {
     "name": "stdout",
     "output_type": "stream",
     "text": [
      "{1, 2, 3, 5, 6}\n"
     ]
    }
   ],
   "source": [
    "s2={1,2,3,5,6,2}\n",
    "print(s2)"
   ]
  },
  {
   "cell_type": "code",
   "execution_count": 15,
   "id": "e4e26a51",
   "metadata": {},
   "outputs": [
    {
     "name": "stdout",
     "output_type": "stream",
     "text": [
      "{'D', 'A', 'C'}\n"
     ]
    }
   ],
   "source": [
    "s3=set('CDAC')\n",
    "print(s3)"
   ]
  },
  {
   "cell_type": "code",
   "execution_count": 6,
   "id": "89d6a7c2",
   "metadata": {},
   "outputs": [
    {
     "name": "stdout",
     "output_type": "stream",
     "text": [
      "{1, 2, 3}\n"
     ]
    },
    {
     "ename": "TypeError",
     "evalue": "unhashable type: 'list'",
     "output_type": "error",
     "traceback": [
      "\u001b[1;31m---------------------------------------------------------------------------\u001b[0m",
      "\u001b[1;31mTypeError\u001b[0m                                 Traceback (most recent call last)",
      "Cell \u001b[1;32mIn[6], line 3\u001b[0m\n\u001b[0;32m      1\u001b[0m s4\u001b[38;5;241m=\u001b[39m\u001b[38;5;28mset\u001b[39m([\u001b[38;5;241m1\u001b[39m,\u001b[38;5;241m2\u001b[39m,\u001b[38;5;241m3\u001b[39m,])\n\u001b[0;32m      2\u001b[0m \u001b[38;5;28mprint\u001b[39m(s4)\n\u001b[1;32m----> 3\u001b[0m s4\u001b[38;5;241m=\u001b[39m\u001b[38;5;28mset\u001b[39m([\u001b[38;5;241m1\u001b[39m,\u001b[38;5;241m2\u001b[39m,\u001b[38;5;241m3\u001b[39m,[\u001b[38;5;241m1\u001b[39m,\u001b[38;5;241m2\u001b[39m],])\n",
      "\u001b[1;31mTypeError\u001b[0m: unhashable type: 'list'"
     ]
    }
   ],
   "source": [
    "s4=set([1,2,3,])\n",
    "print(s4)\n",
    "s4=set([1,2,3,[1,2],])"
   ]
  },
  {
   "cell_type": "markdown",
   "id": "f61cdcbd",
   "metadata": {},
   "source": [
    "# set comprehension"
   ]
  },
  {
   "cell_type": "code",
   "execution_count": 7,
   "id": "7eca88b2",
   "metadata": {},
   "outputs": [
    {
     "name": "stdout",
     "output_type": "stream",
     "text": [
      "{3, 6, 9, 12, 15, 18, 21, 24, 27, 30, 33, 36, 39, 42, 45, 48, 51, 54, 57, 60, 63, 66, 69, 72, 75, 78, 81, 84, 87, 90, 93, 96, 99}\n"
     ]
    }
   ],
   "source": [
    "s1= { idx for idx in range(1,100) if idx%3 ==0}\n",
    "print(s1)"
   ]
  },
  {
   "cell_type": "markdown",
   "id": "1fc40e55",
   "metadata": {},
   "source": [
    "# Hash value vs id\n",
    "\n",
    "id --> gives memory location\n",
    "hash --> gives hash value using contents "
   ]
  },
  {
   "cell_type": "code",
   "execution_count": 10,
   "id": "005b10a3",
   "metadata": {},
   "outputs": [
    {
     "name": "stdout",
     "output_type": "stream",
     "text": [
      "2505646878592 3952409569436607343\n",
      "2505660698880 3952409569436607343\n"
     ]
    }
   ],
   "source": [
    "l1=(10,20,30)\n",
    "l2=(10,20,30)\n",
    "print(id(l1),hash(l1))\n",
    "print(id(l2),hash(l2))"
   ]
  },
  {
   "cell_type": "markdown",
   "id": "8d673062",
   "metadata": {},
   "source": [
    "# Common functions of set"
   ]
  },
  {
   "cell_type": "code",
   "execution_count": 23,
   "id": "9797e823",
   "metadata": {},
   "outputs": [
    {
     "name": "stdout",
     "output_type": "stream",
     "text": [
      "{1, 2, 3, 4, 5} {1, 34, 4, 5, 10, 11}\n"
     ]
    }
   ],
   "source": [
    "s1= {1,2,3,4,5}\n",
    "s2={5,4,10,11,34,1}\n",
    "print(s1,s2)"
   ]
  },
  {
   "cell_type": "code",
   "execution_count": 24,
   "id": "430c3024",
   "metadata": {},
   "outputs": [
    {
     "data": {
      "text/plain": [
       "{1, 2, 3, 4, 5, 10, 11, 34}"
      ]
     },
     "execution_count": 24,
     "metadata": {},
     "output_type": "execute_result"
    }
   ],
   "source": [
    "s1 | s2 # union operation"
   ]
  },
  {
   "cell_type": "code",
   "execution_count": 25,
   "id": "904debf1",
   "metadata": {},
   "outputs": [],
   "source": [
    "s1 |= s2 # update operation"
   ]
  },
  {
   "cell_type": "code",
   "execution_count": 27,
   "id": "42c00e2b",
   "metadata": {},
   "outputs": [
    {
     "name": "stdout",
     "output_type": "stream",
     "text": [
      "{1, 2, 3, 4, 5, 34, 10, 11} {1, 34, 4, 5, 10, 11}\n"
     ]
    }
   ],
   "source": [
    "print(s1, s2)"
   ]
  },
  {
   "cell_type": "code",
   "execution_count": 15,
   "id": "5ee319ee",
   "metadata": {},
   "outputs": [
    {
     "name": "stdout",
     "output_type": "stream",
     "text": [
      "{1, 2, 3, 4, 5, 34, 1.2, 'b', 10, 11, 'a'}\n"
     ]
    }
   ],
   "source": [
    "s1= {1,2,3,4,5}\n",
    "s2={5,4,10,11,34,1}\n",
    "s3={1,1.2,'a','b'}\n",
    "\n",
    "s1 |= s2 | s3 # update operation\n",
    "print(s1)"
   ]
  },
  {
   "cell_type": "code",
   "execution_count": 17,
   "id": "3b06d66d",
   "metadata": {},
   "outputs": [
    {
     "name": "stdout",
     "output_type": "stream",
     "text": [
      "{1, 2, 3, 4, 5, 34, 'b', 1.2, 10, 11, 'a'}\n"
     ]
    }
   ],
   "source": [
    "s1= {1,2,3,4,5}\n",
    "s2={5,4,10,11,34,1}\n",
    "s3={1,1.2,'a','b'}\n",
    "\n",
    "s1.update(s2,s3)\n",
    "print(s1)"
   ]
  },
  {
   "cell_type": "code",
   "execution_count": 18,
   "id": "f037d4a6",
   "metadata": {},
   "outputs": [
    {
     "data": {
      "text/plain": [
       "{1, 4, 5}"
      ]
     },
     "execution_count": 18,
     "metadata": {},
     "output_type": "execute_result"
    }
   ],
   "source": [
    "s1= {1,2,3,4,5}\n",
    "s2={5,4,10,11,34,1}\n",
    "s3={1,1.2,'a','b'}\n",
    "\n",
    "s1 & s2"
   ]
  },
  {
   "cell_type": "code",
   "execution_count": 19,
   "id": "195e7b5b",
   "metadata": {},
   "outputs": [
    {
     "name": "stdout",
     "output_type": "stream",
     "text": [
      "{1, 4, 5}\n"
     ]
    }
   ],
   "source": [
    "s1 &= s2 # intersection update\n",
    "print(s1)"
   ]
  },
  {
   "cell_type": "code",
   "execution_count": 20,
   "id": "b5933768",
   "metadata": {},
   "outputs": [
    {
     "name": "stdout",
     "output_type": "stream",
     "text": [
      "{1, 4, 5}\n"
     ]
    }
   ],
   "source": [
    "s1= {1,2,3,4,5}\n",
    "s2={5,4,10,11,34,1}\n",
    "s3={1,1.2,'a','b'}\n",
    "\n",
    "s1.intersection_update(s2)\n",
    "print(s1)"
   ]
  },
  {
   "cell_type": "code",
   "execution_count": 21,
   "id": "6980fd85",
   "metadata": {},
   "outputs": [
    {
     "name": "stdout",
     "output_type": "stream",
     "text": [
      "{1}\n"
     ]
    }
   ],
   "source": [
    "s1= {1,2,3,4,5}\n",
    "s2={5,4,10,11,34,1}\n",
    "s3={1,1.2,'a','b'}\n",
    "s1.intersection_update(s2,s3)\n",
    "print(s1)"
   ]
  },
  {
   "cell_type": "code",
   "execution_count": 23,
   "id": "4d49b62a",
   "metadata": {},
   "outputs": [
    {
     "data": {
      "text/plain": [
       "({2, 3}, {10, 11, 34})"
      ]
     },
     "execution_count": 23,
     "metadata": {},
     "output_type": "execute_result"
    }
   ],
   "source": [
    "s1= {1,2,3,4,5}\n",
    "s2={5,4,10,11,34,1}\n",
    "s1 - s2, s2 - s1"
   ]
  },
  {
   "cell_type": "code",
   "execution_count": 24,
   "id": "993baf3b",
   "metadata": {},
   "outputs": [
    {
     "name": "stdout",
     "output_type": "stream",
     "text": [
      "{2, 3}\n"
     ]
    }
   ],
   "source": [
    "s1= {1,2,3,4,5}\n",
    "s2={5,4,10,11,34,1}\n",
    "s1 -= s2\n",
    "print(s1)"
   ]
  },
  {
   "cell_type": "code",
   "execution_count": 25,
   "id": "753ee72b",
   "metadata": {},
   "outputs": [
    {
     "name": "stdout",
     "output_type": "stream",
     "text": [
      "{2, 3}\n"
     ]
    }
   ],
   "source": [
    "s1= {1,2,3,4,5}\n",
    "s2={5,4,10,11,34,1}\n",
    "s1.difference_update(s2)\n",
    "print(s1)"
   ]
  },
  {
   "cell_type": "code",
   "execution_count": 26,
   "id": "d37e9d18",
   "metadata": {},
   "outputs": [
    {
     "data": {
      "text/plain": [
       "{2, 3, 10, 11, 34}"
      ]
     },
     "execution_count": 26,
     "metadata": {},
     "output_type": "execute_result"
    }
   ],
   "source": [
    "s1= {1,2,3,4,5}\n",
    "s2={5,4,10,11,34,1}\n",
    "s1 ^ s2"
   ]
  },
  {
   "cell_type": "code",
   "execution_count": 27,
   "id": "c3b3b10e",
   "metadata": {},
   "outputs": [
    {
     "name": "stdout",
     "output_type": "stream",
     "text": [
      "{2, 3, 34, 10, 11}\n"
     ]
    }
   ],
   "source": [
    "s1= {1,2,3,4,5}\n",
    "s2={5,4,10,11,34,1}\n",
    "s1 ^=s2\n",
    "print(s1)"
   ]
  },
  {
   "cell_type": "code",
   "execution_count": 28,
   "id": "ab1e54af",
   "metadata": {},
   "outputs": [
    {
     "name": "stdout",
     "output_type": "stream",
     "text": [
      "{2, 3, 34, 10, 11}\n"
     ]
    }
   ],
   "source": [
    "s1= {1,2,3,4,5}\n",
    "s2={5,4,10,11,34,1}\n",
    "s1.symmetric_difference_update(s2)\n",
    "print(s1)"
   ]
  },
  {
   "cell_type": "markdown",
   "id": "ef64a930",
   "metadata": {},
   "source": [
    "# Set assignment"
   ]
  },
  {
   "cell_type": "markdown",
   "id": "d181b2fe",
   "metadata": {},
   "source": [
    "1. Add a list of elements to a given set\n",
    "Given:\n",
    "\n",
    "\n",
    "sampleSet = {\"Yellow\", \"Orange\", \"Black\"}\n",
    "\n",
    "\n",
    "sampleList = [\"Blue\", \"Green\", \"Red\",”Yellow”,”orange”]"
   ]
  },
  {
   "cell_type": "code",
   "execution_count": 28,
   "id": "2380e60e",
   "metadata": {},
   "outputs": [],
   "source": [
    "sampleSet = {\"Yellow\", \"Orange\", \"Black\"}\n",
    "sampleList = [\"Blue\", \"Green\", \"Red\",\"Yellow\",\"orange\"]\n",
    "# add single element --> add()\n",
    "for e in sampleList:\n",
    "    sampleSet.add(e)"
   ]
  },
  {
   "cell_type": "code",
   "execution_count": 32,
   "id": "58b70b95",
   "metadata": {},
   "outputs": [
    {
     "data": {
      "text/plain": [
       "{'Black', 'Blue', 'Green', 'Orange', 'Red', 'Yellow', 'orange'}"
      ]
     },
     "execution_count": 32,
     "metadata": {},
     "output_type": "execute_result"
    }
   ],
   "source": [
    "sampleSet"
   ]
  },
  {
   "cell_type": "code",
   "execution_count": 33,
   "id": "254ab3fb",
   "metadata": {},
   "outputs": [
    {
     "name": "stdout",
     "output_type": "stream",
     "text": [
      "Enter a sentence. Words are space seperatedi am in pune i am at iacsd iacsd is at akurdi\n",
      "{'pune', 'is', 'am', 'i', 'at', 'iacsd', 'akurdi', 'in'}\n"
     ]
    }
   ],
   "source": [
    "# Find unique words from sentence\n",
    "sentence = input(\"Enter a sentence. Words are space seperated\")\n",
    "words_list = sentence.split()\n",
    "unique_words = set(words_list)\n",
    "print(unique_words)"
   ]
  },
  {
   "cell_type": "code",
   "execution_count": 34,
   "id": "2ac180c3",
   "metadata": {},
   "outputs": [
    {
     "name": "stdout",
     "output_type": "stream",
     "text": [
      "Enter a sentence. Words are space seperatedi am in pune i am at iacsd iacsd is at akurdi\n"
     ]
    },
    {
     "data": {
      "text/plain": [
       "{'akurdi', 'am', 'at', 'i', 'iacsd', 'in', 'is', 'pune'}"
      ]
     },
     "execution_count": 34,
     "metadata": {},
     "output_type": "execute_result"
    }
   ],
   "source": [
    "set(input(\"Enter a sentence. Words are space seperated\").split())"
   ]
  },
  {
   "cell_type": "code",
   "execution_count": null,
   "id": "1f990d3c",
   "metadata": {},
   "outputs": [],
   "source": []
  }
 ],
 "metadata": {
  "kernelspec": {
   "display_name": "Python 3 (ipykernel)",
   "language": "python",
   "name": "python3"
  },
  "language_info": {
   "codemirror_mode": {
    "name": "ipython",
    "version": 3
   },
   "file_extension": ".py",
   "mimetype": "text/x-python",
   "name": "python",
   "nbconvert_exporter": "python",
   "pygments_lexer": "ipython3",
   "version": "3.11.4"
  }
 },
 "nbformat": 4,
 "nbformat_minor": 5
}
