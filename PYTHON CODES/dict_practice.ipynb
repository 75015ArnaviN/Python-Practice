{
 "cells": [
  {
   "cell_type": "code",
   "execution_count": 1,
   "id": "d3fb5dbd",
   "metadata": {},
   "outputs": [
    {
     "name": "stdout",
     "output_type": "stream",
     "text": [
      "{1: 23, 'k1': 'v1', 90.9: 'wer'}\n"
     ]
    }
   ],
   "source": [
    "#create a dictionary\n",
    "d1={1:23,'k1':'v1',90.9:'wer'}\n",
    "print(d1)"
   ]
  },
  {
   "cell_type": "code",
   "execution_count": 3,
   "id": "6d12f84a",
   "metadata": {},
   "outputs": [
    {
     "name": "stdout",
     "output_type": "stream",
     "text": [
      "{} <class 'dict'>\n"
     ]
    }
   ],
   "source": [
    "d2={}\n",
    "print(d2, type(d2))"
   ]
  },
  {
   "cell_type": "code",
   "execution_count": 4,
   "id": "d5190fbe",
   "metadata": {},
   "outputs": [
    {
     "name": "stdout",
     "output_type": "stream",
     "text": [
      "1\n",
      "k1\n",
      "90.9\n"
     ]
    }
   ],
   "source": [
    "# print all keys\n",
    "d1={1:23,'k1':'v1',90.9:'wer'}\n",
    "for key in d1:\n",
    "    print(key)"
   ]
  },
  {
   "cell_type": "code",
   "execution_count": 6,
   "id": "16c4bd99",
   "metadata": {},
   "outputs": [
    {
     "name": "stdout",
     "output_type": "stream",
     "text": [
      "[1, 'k1', 90.9] [1, 'k1', 90.9]\n"
     ]
    }
   ],
   "source": [
    "d1={1:23,'k1':'v1',90.9:'wer'}\n",
    "print(list(d1), list(d1.keys()))"
   ]
  },
  {
   "cell_type": "code",
   "execution_count": 7,
   "id": "9863d370",
   "metadata": {},
   "outputs": [
    {
     "name": "stdout",
     "output_type": "stream",
     "text": [
      "23\n",
      "v1\n",
      "wer\n"
     ]
    }
   ],
   "source": [
    "# print all values\n",
    "d1={1:23,'k1':'v1',90.9:'wer'}\n",
    "for val in d1.values():\n",
    "    print(val)"
   ]
  },
  {
   "cell_type": "code",
   "execution_count": 8,
   "id": "f2c32cca",
   "metadata": {},
   "outputs": [
    {
     "name": "stdout",
     "output_type": "stream",
     "text": [
      "[23, 'v1', 'wer']\n"
     ]
    }
   ],
   "source": [
    "print(list(d1.values()))"
   ]
  },
  {
   "cell_type": "code",
   "execution_count": 9,
   "id": "2d6e7444",
   "metadata": {},
   "outputs": [
    {
     "name": "stdout",
     "output_type": "stream",
     "text": [
      "1 23\n",
      "k1 v1\n",
      "90.9 wer\n"
     ]
    }
   ],
   "source": [
    "# print all keys and values\n",
    "d1={1:23,'k1':'v1',90.9:'wer'}\n",
    "for key,val in d1.items():\n",
    "    print(key,val)"
   ]
  },
  {
   "cell_type": "code",
   "execution_count": 10,
   "id": "cffee228",
   "metadata": {},
   "outputs": [
    {
     "name": "stdout",
     "output_type": "stream",
     "text": [
      "[(1, 23), ('k1', 'v1'), (90.9, 'wer')]\n"
     ]
    }
   ],
   "source": [
    "print(list(d1.items()))"
   ]
  },
  {
   "cell_type": "code",
   "execution_count": 26,
   "id": "116364c8",
   "metadata": {},
   "outputs": [
    {
     "data": {
      "text/plain": [
       "([1, 'k1', 90.9],\n",
       " [1, 'k1', 90.9],\n",
       " [23, 'v1', 'wer'],\n",
       " [(1, 23), ('k1', 'v1'), (90.9, 'wer')])"
      ]
     },
     "execution_count": 26,
     "metadata": {},
     "output_type": "execute_result"
    }
   ],
   "source": [
    "d1={1:23,'k1':'v1',90.9:'wer'}\n",
    "list(d1), list(d1.keys()), list(d1.values()),list(d1.items())"
   ]
  },
  {
   "cell_type": "code",
   "execution_count": 27,
   "id": "6c8472eb",
   "metadata": {},
   "outputs": [
    {
     "data": {
      "text/plain": [
       "{}"
      ]
     },
     "execution_count": 27,
     "metadata": {},
     "output_type": "execute_result"
    }
   ],
   "source": [
    "d1.clear()\n",
    "d1"
   ]
  },
  {
   "cell_type": "markdown",
   "id": "82504ad4",
   "metadata": {},
   "source": [
    "# different ways of creating dictionary"
   ]
  },
  {
   "cell_type": "code",
   "execution_count": 11,
   "id": "a484e68f",
   "metadata": {},
   "outputs": [
    {
     "data": {
      "text/plain": [
       "{'one': 1, 'two': 2, 'three': 3}"
      ]
     },
     "execution_count": 11,
     "metadata": {},
     "output_type": "execute_result"
    }
   ],
   "source": [
    "a=dict(one=1,two=2,three=3)\n",
    "a"
   ]
  },
  {
   "cell_type": "code",
   "execution_count": 12,
   "id": "17cd4155",
   "metadata": {},
   "outputs": [
    {
     "data": {
      "text/plain": [
       "{'one': 1, 'two': 2, 'three': 3}"
      ]
     },
     "execution_count": 12,
     "metadata": {},
     "output_type": "execute_result"
    }
   ],
   "source": [
    "b={'one': 1, 'two': 2, 'three': 3}\n",
    "b"
   ]
  },
  {
   "cell_type": "code",
   "execution_count": 15,
   "id": "9661c189",
   "metadata": {},
   "outputs": [
    {
     "name": "stdout",
     "output_type": "stream",
     "text": [
      "[('one', 1), ('two', 2), ('three', 3)]\n",
      "{'one': 1, 'two': 2, 'three': 3}\n"
     ]
    }
   ],
   "source": [
    "c=dict(zip(['one','two','three'],[1,2,3]))\n",
    "print(list(zip(['one','two','three'],[1,2,3])))\n",
    "print(c)"
   ]
  },
  {
   "cell_type": "code",
   "execution_count": 17,
   "id": "3bc58ad9",
   "metadata": {},
   "outputs": [
    {
     "data": {
      "text/plain": [
       "{'one': 1, 'two': 2, 'three': 3}"
      ]
     },
     "execution_count": 17,
     "metadata": {},
     "output_type": "execute_result"
    }
   ],
   "source": [
    "d=dict([('one', 1), ('two', 2), ('three', 3)])\n",
    "d"
   ]
  },
  {
   "cell_type": "code",
   "execution_count": 18,
   "id": "8721b3a2",
   "metadata": {},
   "outputs": [
    {
     "data": {
      "text/plain": [
       "{'three': 3, 'one': 1, 'two': 2}"
      ]
     },
     "execution_count": 18,
     "metadata": {},
     "output_type": "execute_result"
    }
   ],
   "source": [
    "e=dict({'three': 3,'one': 1, 'two': 2, })\n",
    "e"
   ]
  },
  {
   "cell_type": "code",
   "execution_count": 19,
   "id": "b01b932d",
   "metadata": {},
   "outputs": [
    {
     "data": {
      "text/plain": [
       "{'three': 3, 'one': 1, 'two': 2}"
      ]
     },
     "execution_count": 19,
     "metadata": {},
     "output_type": "execute_result"
    }
   ],
   "source": [
    "f=dict({'three': 3, 'one': 1,},two=2)\n",
    "f"
   ]
  },
  {
   "cell_type": "code",
   "execution_count": 24,
   "id": "1941f838",
   "metadata": {},
   "outputs": [
    {
     "data": {
      "text/plain": [
       "True"
      ]
     },
     "execution_count": 24,
     "metadata": {},
     "output_type": "execute_result"
    }
   ],
   "source": [
    "a==b==c==d==e==f"
   ]
  },
  {
   "cell_type": "markdown",
   "id": "3729bded",
   "metadata": {},
   "source": [
    "# fromkeys"
   ]
  },
  {
   "cell_type": "code",
   "execution_count": 28,
   "id": "ddfa664f",
   "metadata": {},
   "outputs": [
    {
     "data": {
      "text/plain": [
       "{1: 90, 2: 87, 3: 89, 4: 95, 5: 90, 6: 75, 7: 67, 8: 90, 9: 80}"
      ]
     },
     "execution_count": 28,
     "metadata": {},
     "output_type": "execute_result"
    }
   ],
   "source": [
    "d1={1:90,2:87,3:89,4:95,5:90,6:75,7:67,8:90,9:80}\n",
    "d1"
   ]
  },
  {
   "cell_type": "code",
   "execution_count": 29,
   "id": "d8aae4e6",
   "metadata": {},
   "outputs": [
    {
     "data": {
      "text/plain": [
       "{1: None,\n",
       " 2: None,\n",
       " 3: None,\n",
       " 4: None,\n",
       " 5: None,\n",
       " 6: None,\n",
       " 7: None,\n",
       " 8: None,\n",
       " 9: None}"
      ]
     },
     "execution_count": 29,
     "metadata": {},
     "output_type": "execute_result"
    }
   ],
   "source": [
    "d2 = dict.fromkeys(d1)\n",
    "d2"
   ]
  },
  {
   "cell_type": "code",
   "execution_count": 30,
   "id": "95130818",
   "metadata": {},
   "outputs": [
    {
     "data": {
      "text/plain": [
       "{1: None, 5: None, 9: None}"
      ]
     },
     "execution_count": 30,
     "metadata": {},
     "output_type": "execute_result"
    }
   ],
   "source": [
    "d3=dict.fromkeys([1,5,9])\n",
    "d3"
   ]
  },
  {
   "cell_type": "code",
   "execution_count": 31,
   "id": "2bdf6793",
   "metadata": {},
   "outputs": [
    {
     "data": {
      "text/plain": [
       "{1: 90, 5: 90, 9: 90}"
      ]
     },
     "execution_count": 31,
     "metadata": {},
     "output_type": "execute_result"
    }
   ],
   "source": [
    "d3=dict.fromkeys([1,5,9],90)\n",
    "d3"
   ]
  },
  {
   "cell_type": "markdown",
   "id": "b27395cb",
   "metadata": {},
   "source": [
    "# get function"
   ]
  },
  {
   "cell_type": "code",
   "execution_count": 36,
   "id": "da8aff41",
   "metadata": {},
   "outputs": [
    {
     "name": "stdout",
     "output_type": "stream",
     "text": [
      "None\n"
     ]
    },
    {
     "ename": "KeyError",
     "evalue": "900",
     "output_type": "error",
     "traceback": [
      "\u001b[1;31m---------------------------------------------------------------------------\u001b[0m",
      "\u001b[1;31mKeyError\u001b[0m                                  Traceback (most recent call last)",
      "Cell \u001b[1;32mIn[36], line 3\u001b[0m\n\u001b[0;32m      1\u001b[0m d1\u001b[38;5;241m=\u001b[39m{\u001b[38;5;241m1\u001b[39m:\u001b[38;5;241m90\u001b[39m,\u001b[38;5;241m2\u001b[39m:\u001b[38;5;241m87\u001b[39m,\u001b[38;5;241m3\u001b[39m:\u001b[38;5;241m89\u001b[39m,\u001b[38;5;241m4\u001b[39m:\u001b[38;5;241m95\u001b[39m,\u001b[38;5;241m5\u001b[39m:\u001b[38;5;241m90\u001b[39m,\u001b[38;5;241m6\u001b[39m:\u001b[38;5;241m75\u001b[39m,\u001b[38;5;241m7\u001b[39m:\u001b[38;5;241m67\u001b[39m,\u001b[38;5;241m8\u001b[39m:\u001b[38;5;241m90\u001b[39m,\u001b[38;5;241m9\u001b[39m:\u001b[38;5;241m80\u001b[39m}\n\u001b[0;32m      2\u001b[0m \u001b[38;5;28mprint\u001b[39m(d1\u001b[38;5;241m.\u001b[39mget(\u001b[38;5;241m100\u001b[39m))\n\u001b[1;32m----> 3\u001b[0m \u001b[38;5;28mprint\u001b[39m(d1[\u001b[38;5;241m900\u001b[39m])\n",
      "\u001b[1;31mKeyError\u001b[0m: 900"
     ]
    }
   ],
   "source": [
    "d1={1:90,2:87,3:89,4:95,5:90,6:75,7:67,8:90,9:80}\n",
    "print(d1.get(100))\n",
    "print(d1[900])"
   ]
  },
  {
   "cell_type": "markdown",
   "id": "8077a57f",
   "metadata": {},
   "source": [
    "# set default"
   ]
  },
  {
   "cell_type": "code",
   "execution_count": 1,
   "id": "f76be9f1",
   "metadata": {},
   "outputs": [
    {
     "data": {
      "text/plain": [
       "88"
      ]
     },
     "execution_count": 1,
     "metadata": {},
     "output_type": "execute_result"
    }
   ],
   "source": [
    "d1={1:90,2:87,3:89,4:95,5:90,6:75,7:67,8:90,9:80}\n",
    "d1[7]=88\n",
    "#d1[25]=\"ABC\"\n",
    "d1.setdefault(7,88)"
   ]
  },
  {
   "cell_type": "code",
   "execution_count": 4,
   "id": "317f9d62",
   "metadata": {},
   "outputs": [],
   "source": [
    "d1.setdefault(23)"
   ]
  },
  {
   "cell_type": "code",
   "execution_count": 53,
   "id": "c81c33fb",
   "metadata": {},
   "outputs": [
    {
     "data": {
      "text/plain": [
       "'ABC'"
      ]
     },
     "execution_count": 53,
     "metadata": {},
     "output_type": "execute_result"
    }
   ],
   "source": [
    "d1.setdefault(25,\"ABC\")"
   ]
  },
  {
   "cell_type": "code",
   "execution_count": 54,
   "id": "4ce39075",
   "metadata": {},
   "outputs": [
    {
     "data": {
      "text/plain": [
       "{1: 90,\n",
       " 2: 87,\n",
       " 3: 89,\n",
       " 4: 95,\n",
       " 5: 90,\n",
       " 6: 75,\n",
       " 7: 88,\n",
       " 8: 90,\n",
       " 9: 80,\n",
       " 23: None,\n",
       " 25: 'ABC'}"
      ]
     },
     "execution_count": 54,
     "metadata": {},
     "output_type": "execute_result"
    }
   ],
   "source": [
    "d1"
   ]
  },
  {
   "cell_type": "markdown",
   "id": "8184fc28",
   "metadata": {},
   "source": [
    "# Update operation"
   ]
  },
  {
   "cell_type": "code",
   "execution_count": 55,
   "id": "9250b4b4",
   "metadata": {},
   "outputs": [
    {
     "data": {
      "text/plain": [
       "{1: 10, 2: 200, 3: 3000, 4: 55, 101: 99, 102: 98, 103: 97}"
      ]
     },
     "execution_count": 55,
     "metadata": {},
     "output_type": "execute_result"
    }
   ],
   "source": [
    "d1={1:10,2:200,3:3000,4:4}\n",
    "d2={101:99,102:98,103:97,4:55}\n",
    "d1 | d2"
   ]
  },
  {
   "cell_type": "code",
   "execution_count": 57,
   "id": "b5a948e2",
   "metadata": {},
   "outputs": [
    {
     "data": {
      "text/plain": [
       "{1: 10, 2: 200, 3: 3000, 4: 55, 101: 99, 102: 98, 103: 97}"
      ]
     },
     "execution_count": 57,
     "metadata": {},
     "output_type": "execute_result"
    }
   ],
   "source": [
    "d1.update(d2)\n",
    "d1"
   ]
  },
  {
   "cell_type": "code",
   "execution_count": 58,
   "id": "dba8a655",
   "metadata": {},
   "outputs": [
    {
     "data": {
      "text/plain": [
       "{101: 99, 102: 98, 103: 97, 4: 4, 1: 10, 2: 200, 3: 3000}"
      ]
     },
     "execution_count": 58,
     "metadata": {},
     "output_type": "execute_result"
    }
   ],
   "source": [
    "d1={1:10,2:200,3:3000,4:4}\n",
    "d2={101:99,102:98,103:97,4:55}\n",
    "d2.update(d1)\n",
    "d2"
   ]
  },
  {
   "cell_type": "code",
   "execution_count": 59,
   "id": "f173e2af",
   "metadata": {},
   "outputs": [
    {
     "data": {
      "text/plain": [
       "{101: 99, 102: 98, 103: 97, 4: 4, 1: 10, 2: 200, 3: 3000}"
      ]
     },
     "execution_count": 59,
     "metadata": {},
     "output_type": "execute_result"
    }
   ],
   "source": [
    "d1={1:10,2:200,3:3000,4:4}\n",
    "d2={101:99,102:98,103:97,4:55}\n",
    "d2 | d1"
   ]
  },
  {
   "cell_type": "markdown",
   "id": "6587c8b4",
   "metadata": {},
   "source": [
    "# Dictionary Comprehension"
   ]
  },
  {
   "cell_type": "code",
   "execution_count": 61,
   "id": "2ea027f5",
   "metadata": {},
   "outputs": [],
   "source": [
    "d = {x:x**0.5 for x in range(1,100)}"
   ]
  },
  {
   "cell_type": "code",
   "execution_count": 62,
   "id": "229dbe71",
   "metadata": {},
   "outputs": [
    {
     "data": {
      "text/plain": [
       "{1: 1.0,\n",
       " 2: 1.4142135623730951,\n",
       " 3: 1.7320508075688772,\n",
       " 4: 2.0,\n",
       " 5: 2.23606797749979,\n",
       " 6: 2.449489742783178,\n",
       " 7: 2.6457513110645907,\n",
       " 8: 2.8284271247461903,\n",
       " 9: 3.0,\n",
       " 10: 3.1622776601683795,\n",
       " 11: 3.3166247903554,\n",
       " 12: 3.4641016151377544,\n",
       " 13: 3.605551275463989,\n",
       " 14: 3.7416573867739413,\n",
       " 15: 3.872983346207417,\n",
       " 16: 4.0,\n",
       " 17: 4.123105625617661,\n",
       " 18: 4.242640687119285,\n",
       " 19: 4.358898943540674,\n",
       " 20: 4.47213595499958,\n",
       " 21: 4.58257569495584,\n",
       " 22: 4.69041575982343,\n",
       " 23: 4.795831523312719,\n",
       " 24: 4.898979485566356,\n",
       " 25: 5.0,\n",
       " 26: 5.0990195135927845,\n",
       " 27: 5.196152422706632,\n",
       " 28: 5.291502622129181,\n",
       " 29: 5.385164807134504,\n",
       " 30: 5.477225575051661,\n",
       " 31: 5.5677643628300215,\n",
       " 32: 5.656854249492381,\n",
       " 33: 5.744562646538029,\n",
       " 34: 5.830951894845301,\n",
       " 35: 5.916079783099616,\n",
       " 36: 6.0,\n",
       " 37: 6.082762530298219,\n",
       " 38: 6.164414002968976,\n",
       " 39: 6.244997998398398,\n",
       " 40: 6.324555320336759,\n",
       " 41: 6.4031242374328485,\n",
       " 42: 6.48074069840786,\n",
       " 43: 6.557438524302,\n",
       " 44: 6.6332495807108,\n",
       " 45: 6.708203932499369,\n",
       " 46: 6.782329983125268,\n",
       " 47: 6.855654600401044,\n",
       " 48: 6.928203230275509,\n",
       " 49: 7.0,\n",
       " 50: 7.0710678118654755,\n",
       " 51: 7.14142842854285,\n",
       " 52: 7.211102550927978,\n",
       " 53: 7.280109889280518,\n",
       " 54: 7.3484692283495345,\n",
       " 55: 7.416198487095663,\n",
       " 56: 7.483314773547883,\n",
       " 57: 7.54983443527075,\n",
       " 58: 7.615773105863909,\n",
       " 59: 7.681145747868608,\n",
       " 60: 7.745966692414834,\n",
       " 61: 7.810249675906654,\n",
       " 62: 7.874007874011811,\n",
       " 63: 7.937253933193772,\n",
       " 64: 8.0,\n",
       " 65: 8.06225774829855,\n",
       " 66: 8.12403840463596,\n",
       " 67: 8.18535277187245,\n",
       " 68: 8.246211251235321,\n",
       " 69: 8.306623862918075,\n",
       " 70: 8.366600265340756,\n",
       " 71: 8.426149773176359,\n",
       " 72: 8.48528137423857,\n",
       " 73: 8.54400374531753,\n",
       " 74: 8.602325267042627,\n",
       " 75: 8.660254037844387,\n",
       " 76: 8.717797887081348,\n",
       " 77: 8.774964387392123,\n",
       " 78: 8.831760866327848,\n",
       " 79: 8.888194417315589,\n",
       " 80: 8.94427190999916,\n",
       " 81: 9.0,\n",
       " 82: 9.055385138137417,\n",
       " 83: 9.1104335791443,\n",
       " 84: 9.16515138991168,\n",
       " 85: 9.219544457292887,\n",
       " 86: 9.273618495495704,\n",
       " 87: 9.327379053088816,\n",
       " 88: 9.38083151964686,\n",
       " 89: 9.433981132056603,\n",
       " 90: 9.486832980505138,\n",
       " 91: 9.539392014169456,\n",
       " 92: 9.591663046625438,\n",
       " 93: 9.643650760992955,\n",
       " 94: 9.695359714832659,\n",
       " 95: 9.746794344808963,\n",
       " 96: 9.797958971132712,\n",
       " 97: 9.848857801796104,\n",
       " 98: 9.899494936611665,\n",
       " 99: 9.9498743710662}"
      ]
     },
     "execution_count": 62,
     "metadata": {},
     "output_type": "execute_result"
    }
   ],
   "source": [
    "d"
   ]
  },
  {
   "cell_type": "code",
   "execution_count": 63,
   "id": "1b74ded0",
   "metadata": {},
   "outputs": [],
   "source": [
    "d_5 = { k:v for k,v in d.items() if k%5==0}"
   ]
  },
  {
   "cell_type": "code",
   "execution_count": 64,
   "id": "7cd24017",
   "metadata": {},
   "outputs": [
    {
     "data": {
      "text/plain": [
       "{5: 2.23606797749979,\n",
       " 10: 3.1622776601683795,\n",
       " 15: 3.872983346207417,\n",
       " 20: 4.47213595499958,\n",
       " 25: 5.0,\n",
       " 30: 5.477225575051661,\n",
       " 35: 5.916079783099616,\n",
       " 40: 6.324555320336759,\n",
       " 45: 6.708203932499369,\n",
       " 50: 7.0710678118654755,\n",
       " 55: 7.416198487095663,\n",
       " 60: 7.745966692414834,\n",
       " 65: 8.06225774829855,\n",
       " 70: 8.366600265340756,\n",
       " 75: 8.660254037844387,\n",
       " 80: 8.94427190999916,\n",
       " 85: 9.219544457292887,\n",
       " 90: 9.486832980505138,\n",
       " 95: 9.746794344808963}"
      ]
     },
     "execution_count": 64,
     "metadata": {},
     "output_type": "execute_result"
    }
   ],
   "source": [
    "d_5"
   ]
  },
  {
   "cell_type": "markdown",
   "id": "ca463064",
   "metadata": {},
   "source": [
    "# Assignments"
   ]
  },
  {
   "cell_type": "code",
   "execution_count": 6,
   "id": "deb86d3e",
   "metadata": {},
   "outputs": [],
   "source": [
    "trans = {'a':'n', 'b':'o', 'c':'p', 'd':'q', 'e':'r', 'f':'s', 'g':'t', \n",
    "         'h':'u', 'i':'v', 'j':'w', 'k':'x', 'l':'y', 'm':'z', 'n':'a', \n",
    "         'o':'b', 'p':'c', 'q':'d', 'r':'e', 's':'f', 't':'g', 'u':'h', \n",
    "         'v':'i', 'w':'j', 'x':'k', 'y':'l', 'z':'m', \n",
    "         'A':'N', 'B':'O', 'C':'P', 'D':'Q', 'E':'R', 'F':'S', 'G':'T', \n",
    "         'H':'U', 'I':'V', 'J':'W', 'K':'X', 'L':'Y', 'M':'Z', 'N':'A', \n",
    "         'O':'B', 'P':'C', 'Q':'D', 'R':'E', 'S':'F', 'T':'G', 'U':'H', \n",
    "         'V':'I', 'W':'J', 'X':'K', 'Y':'L', 'Z':'M'}"
   ]
  },
  {
   "cell_type": "code",
   "execution_count": 7,
   "id": "d0b00762",
   "metadata": {},
   "outputs": [
    {
     "data": {
      "text/plain": [
       "'nop oaz uwx ! @ # uwu & % ^'"
      ]
     },
     "execution_count": 7,
     "metadata": {},
     "output_type": "execute_result"
    }
   ],
   "source": [
    "input_str=\"abc bnm hjk ! @ # hjh & % ^\"\n",
    "translated_str = \"\"\n",
    "for char in input_str:\n",
    "#     if char in trans:\n",
    "#     if trans.get(char) != None:\n",
    "    if char.isalpha() == True:\n",
    "        new_char = trans[char]\n",
    "    else:\n",
    "        new_char = char\n",
    "        \n",
    "    translated_str = translated_str + new_char\n",
    "translated_str"
   ]
  },
  {
   "cell_type": "code",
   "execution_count": 11,
   "id": "24910945",
   "metadata": {},
   "outputs": [
    {
     "ename": "NameError",
     "evalue": "name 'alphabate' is not defined",
     "output_type": "error",
     "traceback": [
      "\u001b[1;31m---------------------------------------------------------------------------\u001b[0m",
      "\u001b[1;31mNameError\u001b[0m                                 Traceback (most recent call last)",
      "Cell \u001b[1;32mIn[11], line 1\u001b[0m\n\u001b[1;32m----> 1\u001b[0m alphabate\n",
      "\u001b[1;31mNameError\u001b[0m: name 'alphabate' is not defined"
     ]
    }
   ],
   "source": [
    "alphabate"
   ]
  },
  {
   "cell_type": "code",
   "execution_count": null,
   "id": "6af7e738",
   "metadata": {},
   "outputs": [],
   "source": []
  }
 ],
 "metadata": {
  "kernelspec": {
   "display_name": "Python 3 (ipykernel)",
   "language": "python",
   "name": "python3"
  },
  "language_info": {
   "codemirror_mode": {
    "name": "ipython",
    "version": 3
   },
   "file_extension": ".py",
   "mimetype": "text/x-python",
   "name": "python",
   "nbconvert_exporter": "python",
   "pygments_lexer": "ipython3",
   "version": "3.11.4"
  }
 },
 "nbformat": 4,
 "nbformat_minor": 5
}
