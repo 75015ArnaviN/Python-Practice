{
 "cells": [
  {
   "cell_type": "code",
   "execution_count": 1,
   "id": "4c9e6478",
   "metadata": {},
   "outputs": [],
   "source": [
    "l1=list()\n",
    "l2=[]"
   ]
  },
  {
   "cell_type": "code",
   "execution_count": 2,
   "id": "1bed589f",
   "metadata": {},
   "outputs": [
    {
     "name": "stdout",
     "output_type": "stream",
     "text": [
      "[]\n"
     ]
    }
   ],
   "source": [
    "print(l1)"
   ]
  },
  {
   "cell_type": "code",
   "execution_count": 3,
   "id": "490463d8",
   "metadata": {},
   "outputs": [
    {
     "name": "stdout",
     "output_type": "stream",
     "text": [
      "[]\n"
     ]
    }
   ],
   "source": [
    "print(l2)"
   ]
  },
  {
   "cell_type": "code",
   "execution_count": 6,
   "id": "7e2a8bd0",
   "metadata": {},
   "outputs": [
    {
     "name": "stdout",
     "output_type": "stream",
     "text": [
      "[51, 53, 55, 57, 59, 61, 63, 65, 67, 69, 71, 73, 75, 77, 79, 81, 83, 85, 87, 89, 91, 93, 95, 97, 99]\n",
      "[51, 53, 55, 57, 59, 61, 63, 65, 67, 69, 71, 73, 75, 77, 79, 81, 83, 85, 87, 89, 91, 93, 95, 97, 99]\n"
     ]
    }
   ],
   "source": [
    "# all odd numbers between 50 to 100\n",
    "l2 = list(range(51,100,2))\n",
    "l1 = []\n",
    "for idx in range(51,100,2):\n",
    "    l1.append(idx)\n",
    "#     print(idx)\n",
    "print(l1)\n",
    "print(l2)"
   ]
  },
  {
   "cell_type": "code",
   "execution_count": 10,
   "id": "2e41d9cc",
   "metadata": {},
   "outputs": [
    {
     "name": "stdout",
     "output_type": "stream",
     "text": [
      "[51, 57, 63, 69, 75, 77, 81, 87, 91, 93, 99]\n"
     ]
    }
   ],
   "source": [
    "l1 = []\n",
    "for idx in range(51,100,2):\n",
    "    if (idx%3 == 0) or (idx%7==0):\n",
    "        l1.append(idx)\n",
    "#     print(idx)\n",
    "print(l1)"
   ]
  },
  {
   "cell_type": "code",
   "execution_count": 11,
   "id": "12f9e81f",
   "metadata": {},
   "outputs": [
    {
     "name": "stdout",
     "output_type": "stream",
     "text": [
      "0 51\n",
      "1 57\n",
      "2 63\n",
      "3 69\n",
      "4 75\n",
      "5 77\n",
      "6 81\n",
      "7 87\n",
      "8 91\n",
      "9 93\n",
      "10 99\n"
     ]
    }
   ],
   "source": [
    "for idx,element in enumerate(l1):\n",
    "    print(idx,element)"
   ]
  },
  {
   "cell_type": "code",
   "execution_count": 13,
   "id": "5c57dbda",
   "metadata": {},
   "outputs": [
    {
     "name": "stdout",
     "output_type": "stream",
     "text": [
      "67\n",
      "89\n"
     ]
    }
   ],
   "source": [
    "# create a list of rollnos of your 5 friends\n",
    "rollnos = [54,67,98,89,77]\n",
    "#print all roll nos which are on even index \n",
    "# print all alternate lements in a list starting from first element\n",
    "for idx, element in enumerate(rollnos):\n",
    "    if idx % 2 ==0:\n",
    "        print(element)"
   ]
  },
  {
   "cell_type": "code",
   "execution_count": 14,
   "id": "26548de2",
   "metadata": {},
   "outputs": [
    {
     "name": "stdout",
     "output_type": "stream",
     "text": [
      "0\n",
      "1\n",
      "2\n",
      "3\n",
      "4\n"
     ]
    }
   ],
   "source": [
    "for idx in range(5):#[0,1,2,3,4]\n",
    "    print(idx)\n",
    "    idx +=5"
   ]
  },
  {
   "cell_type": "code",
   "execution_count": null,
   "id": "10610245",
   "metadata": {},
   "outputs": [],
   "source": [
    "L1=[5,2,8]\n",
    "L2 = [ element  for  element in L1  if element > 3]"
   ]
  },
  {
   "cell_type": "code",
   "execution_count": null,
   "id": "3923a3e4",
   "metadata": {},
   "outputs": [],
   "source": [
    "l2 = []\n",
    "for element in l1:\n",
    "    if element > 3:\n",
    "        l2.append(element)"
   ]
  },
  {
   "cell_type": "code",
   "execution_count": 15,
   "id": "7f70a1a3",
   "metadata": {},
   "outputs": [],
   "source": [
    "l1=[45,23,11,22,100]\n",
    "squares =[]"
   ]
  },
  {
   "cell_type": "code",
   "execution_count": 16,
   "id": "becdc23d",
   "metadata": {},
   "outputs": [],
   "source": [
    "for element in l1:\n",
    "    squares.append(element ** 2)"
   ]
  },
  {
   "cell_type": "code",
   "execution_count": 18,
   "id": "8202c6b7",
   "metadata": {},
   "outputs": [
    {
     "name": "stdout",
     "output_type": "stream",
     "text": [
      "[45, 23, 11, 22, 100]\n",
      "[2025, 529, 121, 484, 10000]\n"
     ]
    }
   ],
   "source": [
    "print(l1)\n",
    "print(squares)"
   ]
  },
  {
   "cell_type": "code",
   "execution_count": 19,
   "id": "c894e8ef",
   "metadata": {},
   "outputs": [
    {
     "name": "stdout",
     "output_type": "stream",
     "text": [
      "[2025, 529, 121, 484, 10000]\n"
     ]
    }
   ],
   "source": [
    "sq = [ element**2 for element in l1 ]\n",
    "print(sq)"
   ]
  },
  {
   "cell_type": "code",
   "execution_count": 26,
   "id": "7be2beae",
   "metadata": {},
   "outputs": [
    {
     "name": "stdout",
     "output_type": "stream",
     "text": [
      "[40, 1, 40, 2, 40] 5\n",
      "[40, 1, 40, 2, 40, 3] 6\n",
      "[1, 40, 2, 40, 3] 5\n",
      "[1, 2, 40, 3] 4\n"
     ]
    }
   ],
   "source": [
    "l1=[40,1,40,2,40]\n",
    "print(l1,len(l1))\n",
    "l1.append(3)\n",
    "print(l1,len(l1))\n",
    "l1.remove(40)\n",
    "print(l1,len(l1))\n",
    "del l1[1]\n",
    "print(l1,len(l1))"
   ]
  },
  {
   "cell_type": "code",
   "execution_count": 32,
   "id": "49d501c3",
   "metadata": {},
   "outputs": [
    {
     "name": "stdout",
     "output_type": "stream",
     "text": [
      "0 10\n",
      "[20, 30, 40, 50]\n",
      "1 30\n",
      "[20, 40, 50]\n",
      "2 50\n",
      "[20, 40]\n"
     ]
    }
   ],
   "source": [
    "l1=[10,20,30,40,50]\n",
    "for idx,element in enumerate(l1):\n",
    "    print(idx, element)\n",
    "    l1.remove(element)\n",
    "#     del l1[idx]\n",
    "    print(l1)"
   ]
  },
  {
   "cell_type": "markdown",
   "id": "b00d8420",
   "metadata": {},
   "source": [
    "# Slicing in Lists"
   ]
  },
  {
   "cell_type": "code",
   "execution_count": 33,
   "id": "88e60bc3",
   "metadata": {},
   "outputs": [],
   "source": [
    "l1 = [10,20,30,40,50,60]    "
   ]
  },
  {
   "cell_type": "code",
   "execution_count": 34,
   "id": "17566389",
   "metadata": {},
   "outputs": [
    {
     "data": {
      "text/plain": [
       "[30, 40]"
      ]
     },
     "execution_count": 34,
     "metadata": {},
     "output_type": "execute_result"
    }
   ],
   "source": [
    "l1[2:4]"
   ]
  },
  {
   "cell_type": "code",
   "execution_count": 35,
   "id": "423621c7",
   "metadata": {},
   "outputs": [
    {
     "data": {
      "text/plain": [
       "[20, 30, 40, 50]"
      ]
     },
     "execution_count": 35,
     "metadata": {},
     "output_type": "execute_result"
    }
   ],
   "source": [
    "l1[-5:-1]"
   ]
  },
  {
   "cell_type": "code",
   "execution_count": 36,
   "id": "0c7d5d4a",
   "metadata": {},
   "outputs": [
    {
     "data": {
      "text/plain": [
       "[]"
      ]
     },
     "execution_count": 36,
     "metadata": {},
     "output_type": "execute_result"
    }
   ],
   "source": [
    "l1[0:0:1]"
   ]
  },
  {
   "cell_type": "code",
   "execution_count": 37,
   "id": "c409a25c",
   "metadata": {},
   "outputs": [
    {
     "data": {
      "text/plain": [
       "[]"
      ]
     },
     "execution_count": 37,
     "metadata": {},
     "output_type": "execute_result"
    }
   ],
   "source": [
    "l1[2:2:1]"
   ]
  },
  {
   "cell_type": "code",
   "execution_count": 38,
   "id": "773368b2",
   "metadata": {},
   "outputs": [
    {
     "data": {
      "text/plain": [
       "[]"
      ]
     },
     "execution_count": 38,
     "metadata": {},
     "output_type": "execute_result"
    }
   ],
   "source": [
    "l1[-1:-1:-1]"
   ]
  },
  {
   "cell_type": "code",
   "execution_count": 39,
   "id": "7039346d",
   "metadata": {},
   "outputs": [
    {
     "data": {
      "text/plain": [
       "[]"
      ]
     },
     "execution_count": 39,
     "metadata": {},
     "output_type": "execute_result"
    }
   ],
   "source": [
    "l1[4:1:1]"
   ]
  },
  {
   "cell_type": "code",
   "execution_count": 40,
   "id": "46e34bb4",
   "metadata": {},
   "outputs": [
    {
     "data": {
      "text/plain": [
       "[10]"
      ]
     },
     "execution_count": 40,
     "metadata": {},
     "output_type": "execute_result"
    }
   ],
   "source": [
    "l1[::200]"
   ]
  },
  {
   "cell_type": "code",
   "execution_count": 41,
   "id": "4e7cb1a9",
   "metadata": {},
   "outputs": [
    {
     "data": {
      "text/plain": [
       "[10, 20, 30, 40, 50, 60]"
      ]
     },
     "execution_count": 41,
     "metadata": {},
     "output_type": "execute_result"
    }
   ],
   "source": [
    "l1[:]"
   ]
  },
  {
   "cell_type": "code",
   "execution_count": 42,
   "id": "02c2580a",
   "metadata": {},
   "outputs": [
    {
     "data": {
      "text/plain": [
       "False"
      ]
     },
     "execution_count": 42,
     "metadata": {},
     "output_type": "execute_result"
    }
   ],
   "source": [
    "l1 is l1[:]"
   ]
  },
  {
   "cell_type": "code",
   "execution_count": 44,
   "id": "c1b7e43b",
   "metadata": {},
   "outputs": [
    {
     "data": {
      "text/plain": [
       "[60, 50, 40, 30, 20, 10]"
      ]
     },
     "execution_count": 44,
     "metadata": {},
     "output_type": "execute_result"
    }
   ],
   "source": [
    "l1[::-1]"
   ]
  },
  {
   "cell_type": "code",
   "execution_count": 45,
   "id": "2af8e78c",
   "metadata": {},
   "outputs": [
    {
     "data": {
      "text/plain": [
       "[10, 20, 30, 40, 50, 60]"
      ]
     },
     "execution_count": 45,
     "metadata": {},
     "output_type": "execute_result"
    }
   ],
   "source": [
    "l1"
   ]
  },
  {
   "cell_type": "code",
   "execution_count": 48,
   "id": "ed6dd6b7",
   "metadata": {},
   "outputs": [
    {
     "data": {
      "text/plain": [
       "[30, 60]"
      ]
     },
     "execution_count": 48,
     "metadata": {},
     "output_type": "execute_result"
    }
   ],
   "source": [
    "l1[2::-3]"
   ]
  },
  {
   "cell_type": "markdown",
   "id": "66f03467",
   "metadata": {},
   "source": [
    "# List within list"
   ]
  },
  {
   "cell_type": "code",
   "execution_count": 54,
   "id": "c518ca43",
   "metadata": {},
   "outputs": [],
   "source": [
    "l=[[34,12],[123,567,89],[0,[90]],100,900] "
   ]
  },
  {
   "cell_type": "code",
   "execution_count": 55,
   "id": "67921b2e",
   "metadata": {},
   "outputs": [
    {
     "data": {
      "text/plain": [
       "34"
      ]
     },
     "execution_count": 55,
     "metadata": {},
     "output_type": "execute_result"
    }
   ],
   "source": [
    "l[0][0]"
   ]
  },
  {
   "cell_type": "code",
   "execution_count": 56,
   "id": "fb3290ea",
   "metadata": {},
   "outputs": [
    {
     "data": {
      "text/plain": [
       "567"
      ]
     },
     "execution_count": 56,
     "metadata": {},
     "output_type": "execute_result"
    }
   ],
   "source": [
    "l[1][1]"
   ]
  },
  {
   "cell_type": "code",
   "execution_count": 58,
   "id": "131d85ad",
   "metadata": {},
   "outputs": [
    {
     "data": {
      "text/plain": [
       "90"
      ]
     },
     "execution_count": 58,
     "metadata": {},
     "output_type": "execute_result"
    }
   ],
   "source": [
    "l[2][1][0]"
   ]
  },
  {
   "cell_type": "markdown",
   "id": "7980cae1",
   "metadata": {},
   "source": [
    "# zip function"
   ]
  },
  {
   "cell_type": "code",
   "execution_count": 59,
   "id": "b38880cf",
   "metadata": {},
   "outputs": [
    {
     "name": "stdout",
     "output_type": "stream",
     "text": [
      "10 67\n",
      "20 78\n",
      "30 89\n"
     ]
    }
   ],
   "source": [
    "l1=[10,20,30]\n",
    "l2=[67,78,89]\n",
    "for e1,e2 in zip(l1,l2):\n",
    "    print(e1,e2)"
   ]
  },
  {
   "cell_type": "code",
   "execution_count": null,
   "id": "ad99ad48",
   "metadata": {},
   "outputs": [],
   "source": []
  }
 ],
 "metadata": {
  "kernelspec": {
   "display_name": "Python 3 (ipykernel)",
   "language": "python",
   "name": "python3"
  },
  "language_info": {
   "codemirror_mode": {
    "name": "ipython",
    "version": 3
   },
   "file_extension": ".py",
   "mimetype": "text/x-python",
   "name": "python",
   "nbconvert_exporter": "python",
   "pygments_lexer": "ipython3",
   "version": "3.11.4"
  }
 },
 "nbformat": 4,
 "nbformat_minor": 5
}
