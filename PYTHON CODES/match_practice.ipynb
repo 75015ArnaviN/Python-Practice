{
 "cells": [
  {
   "cell_type": "markdown",
   "metadata": {
    "id": "x8PxRQWv8wTY"
   },
   "source": [
    "# Write a menu driven program.\n",
    "Ask the user which input format needs to be converted to integer\n",
    "\n",
    "\n",
    " 1 Binary 2 Octal 3 Hex\n",
    "\n",
    "\n",
    "Then convert given string to integer using int() function"
   ]
  },
  {
   "cell_type": "code",
   "execution_count": 2,
   "metadata": {
    "colab": {
     "base_uri": "https://localhost:8080/"
    },
    "executionInfo": {
     "elapsed": 47520,
     "status": "ok",
     "timestamp": 1694431224347,
     "user": {
      "displayName": "shantanu sp1010",
      "userId": "06429835069678775799"
     },
     "user_tz": -330
    },
    "id": "TjLgex479drS",
    "outputId": "925049b0-d259-4f9e-c84a-fdc72ea3d25f"
   },
   "outputs": [
    {
     "name": "stdout",
     "output_type": "stream",
     "text": [
      "which input format needs to be converted to integer 1. Binary 2. Octal 3. Hex1\n"
     ]
    }
   ],
   "source": [
    "option= input(\"which input format needs to be converted to integer 1. Binary 2. Octal 3. Hex\")"
   ]
  },
  {
   "cell_type": "code",
   "execution_count": 5,
   "metadata": {
    "colab": {
     "base_uri": "https://localhost:8080/"
    },
    "executionInfo": {
     "elapsed": 8,
     "status": "ok",
     "timestamp": 1694431371909,
     "user": {
      "displayName": "shantanu sp1010",
      "userId": "06429835069678775799"
     },
     "user_tz": -330
    },
    "id": "vUqd-W2n-Kkh",
    "outputId": "190f28d2-dd3e-4b3e-894b-04f204101783"
   },
   "outputs": [
    {
     "name": "stdout",
     "output_type": "stream",
     "text": [
      "Binary to int conversion\n",
      "Enter binary string with prefix 0b1010\n",
      "Integer value is 10\n"
     ]
    }
   ],
   "source": [
    "match option:\n",
    "  case '1':\n",
    "    print(\"Binary to int conversion\")\n",
    "    bin_str=input(\"Enter binary string with prefix 0b\")\n",
    "    int_val = int(bin_str,base=2)\n",
    "    print(\"Integer value is\", int_val)\n",
    "  case '2':\n",
    "    print(\"Octal to int conversion\")\n",
    "    bin_str=input(\"Enter Octal string with prefix 0o\")\n",
    "    int_val = int(bin_str,base=2)\n",
    "    print(\"Integer value is\", int_val)\n",
    "  case '3':\n",
    "    print(\"Hex to int conversion\")\n",
    "    bin_str=input(\"Enter Hex string with prefix 0x\")\n",
    "    int_val = int(bin_str,base=2)\n",
    "    print(\"Integer value is\", int_val)"
   ]
  },
  {
   "cell_type": "code",
   "execution_count": null,
   "metadata": {
    "id": "yFi-k2ZLBS_k"
   },
   "outputs": [],
   "source": [
    "# Another approach\n",
    "in_str = input(\"Enter the no to be converted\")\n",
    "option= input(\"which input format needs to be converted to integer 1. Binary 2. Octal 3. Hex\")\n",
    "\n",
    "match option:\n",
    "  case '1':\n",
    "    print(\"Binary input Converted int is \", int(in_str,2))\n",
    "  case '2':\n",
    "    print(\"Octal input Converted int is \", int(in_str,8))\n",
    "  case '3':\n",
    "    print(\"Hex input Converted int is \", int(in_str,16))"
   ]
  },
  {
   "cell_type": "markdown",
   "metadata": {
    "id": "OSAo4jIs5Tb8"
   },
   "source": [
    "# Write a calculator which takes two operands(int/float) and one operator as input and performs given operation\n",
    "\n",
    "Ex. 2 + 3  o/p 5\n",
    "\n",
    "34.67 - 67  o/p -32.33"
   ]
  },
  {
   "cell_type": "code",
   "execution_count": null,
   "metadata": {
    "colab": {
     "base_uri": "https://localhost:8080/"
    },
    "executionInfo": {
     "elapsed": 4627,
     "status": "ok",
     "timestamp": 1694430310998,
     "user": {
      "displayName": "shantanu sp1010",
      "userId": "06429835069678775799"
     },
     "user_tz": -330
    },
    "id": "RfyrHukE55-5",
    "outputId": "950bcef4-e403-482b-bef9-9ffd14677e61"
   },
   "outputs": [
    {
     "name": "stdout",
     "output_type": "stream",
     "text": [
      "Enter the expression with two operands (int/float) and one operator123 - 89\n"
     ]
    }
   ],
   "source": [
    "exp = input(\"Enter the expression with two operands (int/float) and one operator, seperated by space\")"
   ]
  },
  {
   "cell_type": "code",
   "execution_count": null,
   "metadata": {
    "colab": {
     "base_uri": "https://localhost:8080/"
    },
    "executionInfo": {
     "elapsed": 7,
     "status": "ok",
     "timestamp": 1694430353996,
     "user": {
      "displayName": "shantanu sp1010",
      "userId": "06429835069678775799"
     },
     "user_tz": -330
    },
    "id": "qXeE2nIV6EZi",
    "outputId": "68305bd9-ad01-4220-d01a-0dbd6311fe06"
   },
   "outputs": [
    {
     "name": "stdout",
     "output_type": "stream",
     "text": [
      "34.0\n"
     ]
    }
   ],
   "source": [
    "par1, op, par2 = exp.split()\n",
    "par1 = float(par1)\n",
    "par2 = float(par2)\n",
    "match op:\n",
    "  case \"+\":\n",
    "    print(par1 + par2)\n",
    "  case \"-\":\n",
    "    print(par1 - par2)\n",
    "  case \"*\":\n",
    "    print(par1 * par2)"
   ]
  },
  {
   "cell_type": "markdown",
   "metadata": {
    "id": "A9inG7zX4KEF"
   },
   "source": [
    "# WAP to take list as input\n",
    "\n",
    "if there is an integer then add it to total, if element is string then concat it to name and if float then append it in another list named 'floats_list'"
   ]
  },
  {
   "cell_type": "code",
   "execution_count": null,
   "metadata": {
    "id": "_k3DotMD4Ia0"
   },
   "outputs": [],
   "source": [
    "l=[1,2,3,6.7,'a',6.9,'bc']"
   ]
  },
  {
   "cell_type": "code",
   "execution_count": null,
   "metadata": {
    "id": "JyL3FrHg4k1q"
   },
   "outputs": [],
   "source": [
    "total =0\n",
    "name=\"\"\n",
    "floats_list=[]\n",
    "for elem in l:\n",
    "  match elem:\n",
    "    case int():\n",
    "      total += elem\n",
    "    case str():\n",
    "      name += elem\n",
    "    case float():\n",
    "      floats_list.append(elem)\n",
    "    case other:\n",
    "      print(other, \"can't be processed!! \")"
   ]
  },
  {
   "cell_type": "code",
   "execution_count": null,
   "metadata": {
    "colab": {
     "base_uri": "https://localhost:8080/"
    },
    "executionInfo": {
     "elapsed": 7,
     "status": "ok",
     "timestamp": 1694429913958,
     "user": {
      "displayName": "shantanu sp1010",
      "userId": "06429835069678775799"
     },
     "user_tz": -330
    },
    "id": "5YFDe6Ey5Hum",
    "outputId": "0b59086f-dedd-4e6e-e8da-bace6958b735"
   },
   "outputs": [
    {
     "name": "stdout",
     "output_type": "stream",
     "text": [
      "6\n"
     ]
    }
   ],
   "source": [
    "print(total)"
   ]
  },
  {
   "cell_type": "code",
   "execution_count": null,
   "metadata": {
    "colab": {
     "base_uri": "https://localhost:8080/"
    },
    "executionInfo": {
     "elapsed": 6,
     "status": "ok",
     "timestamp": 1694429922507,
     "user": {
      "displayName": "shantanu sp1010",
      "userId": "06429835069678775799"
     },
     "user_tz": -330
    },
    "id": "ve7hTOyt5J31",
    "outputId": "444940a2-e3d2-49dc-b604-f4d4da0d5fa2"
   },
   "outputs": [
    {
     "name": "stdout",
     "output_type": "stream",
     "text": [
      "abc\n"
     ]
    }
   ],
   "source": [
    "print(name)"
   ]
  },
  {
   "cell_type": "code",
   "execution_count": null,
   "metadata": {
    "colab": {
     "base_uri": "https://localhost:8080/"
    },
    "executionInfo": {
     "elapsed": 8,
     "status": "ok",
     "timestamp": 1694429930800,
     "user": {
      "displayName": "shantanu sp1010",
      "userId": "06429835069678775799"
     },
     "user_tz": -330
    },
    "id": "Btktnql65MBc",
    "outputId": "b3d292b3-fe3b-4d12-c633-2463194a96f4"
   },
   "outputs": [
    {
     "name": "stdout",
     "output_type": "stream",
     "text": [
      "[6.7, 6.9]\n"
     ]
    }
   ],
   "source": [
    "print(floats_list)"
   ]
  },
  {
   "cell_type": "code",
   "execution_count": null,
   "metadata": {
    "id": "tcA18_Gd5OCp"
   },
   "outputs": [],
   "source": []
  },
  {
   "cell_type": "markdown",
   "metadata": {
    "id": "N1qkhmwl7coH"
   },
   "source": [
    "# Further reference"
   ]
  },
  {
   "cell_type": "markdown",
   "metadata": {
    "id": "qlFQY9es7Nr3"
   },
   "source": [
    "### Match supports very vast range of patterns and inputs. CHeck more details at python documentation link https://peps.python.org/pep-0636/"
   ]
  },
  {
   "cell_type": "code",
   "execution_count": null,
   "metadata": {
    "id": "BARrHSL07bZR"
   },
   "outputs": [],
   "source": []
  }
 ],
 "metadata": {
  "colab": {
   "authorship_tag": "ABX9TyPbfMrFmJh/gt7l+TN7eTJQ",
   "collapsed_sections": [
    "OSAo4jIs5Tb8",
    "A9inG7zX4KEF"
   ],
   "provenance": []
  },
  "kernelspec": {
   "display_name": "Python 3 (ipykernel)",
   "language": "python",
   "name": "python3"
  },
  "language_info": {
   "codemirror_mode": {
    "name": "ipython",
    "version": 3
   },
   "file_extension": ".py",
   "mimetype": "text/x-python",
   "name": "python",
   "nbconvert_exporter": "python",
   "pygments_lexer": "ipython3",
   "version": "3.11.4"
  }
 },
 "nbformat": 4,
 "nbformat_minor": 1
}
