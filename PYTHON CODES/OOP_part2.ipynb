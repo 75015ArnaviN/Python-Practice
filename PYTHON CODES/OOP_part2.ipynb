{
 "cells": [
  {
   "cell_type": "markdown",
   "id": "629214b3",
   "metadata": {},
   "source": [
    "# Adding or deleting attributes from an object"
   ]
  },
  {
   "cell_type": "code",
   "execution_count": 38,
   "id": "cf7197a4",
   "metadata": {},
   "outputs": [],
   "source": [
    "class demo:\n",
    "    def __init__(self):\n",
    "        self.a1=\"first\"\n",
    "        self.a2=\"second\""
   ]
  },
  {
   "cell_type": "code",
   "execution_count": 39,
   "id": "e8386a0e",
   "metadata": {},
   "outputs": [
    {
     "name": "stdout",
     "output_type": "stream",
     "text": [
      "first second\n"
     ]
    }
   ],
   "source": [
    "d1=demo()\n",
    "print(d1.a1,d1.a2)"
   ]
  },
  {
   "cell_type": "code",
   "execution_count": 40,
   "id": "415b6a0b",
   "metadata": {},
   "outputs": [
    {
     "name": "stdout",
     "output_type": "stream",
     "text": [
      "first second third\n"
     ]
    }
   ],
   "source": [
    "d1.a3=\"third\"\n",
    "print(d1.a1,d1.a2,d1.a3)"
   ]
  },
  {
   "cell_type": "code",
   "execution_count": 42,
   "id": "a25e77ff",
   "metadata": {},
   "outputs": [
    {
     "name": "stdout",
     "output_type": "stream",
     "text": [
      "first second\n"
     ]
    }
   ],
   "source": [
    "d2=demo()\n",
    "print(d2.a1,d2.a2)"
   ]
  },
  {
   "cell_type": "code",
   "execution_count": 43,
   "id": "3055d4ed",
   "metadata": {},
   "outputs": [
    {
     "ename": "AttributeError",
     "evalue": "'demo' object has no attribute 'a3'",
     "output_type": "error",
     "traceback": [
      "\u001b[1;31m---------------------------------------------------------------------------\u001b[0m",
      "\u001b[1;31mAttributeError\u001b[0m                            Traceback (most recent call last)",
      "Cell \u001b[1;32mIn[43], line 1\u001b[0m\n\u001b[1;32m----> 1\u001b[0m \u001b[38;5;28mprint\u001b[39m(d2\u001b[38;5;241m.\u001b[39ma3)\n",
      "\u001b[1;31mAttributeError\u001b[0m: 'demo' object has no attribute 'a3'"
     ]
    }
   ],
   "source": [
    "print(d2.a3)"
   ]
  },
  {
   "cell_type": "code",
   "execution_count": 44,
   "id": "74a2e6e4",
   "metadata": {},
   "outputs": [],
   "source": [
    "del d2.a2"
   ]
  },
  {
   "cell_type": "code",
   "execution_count": 45,
   "id": "53141cde",
   "metadata": {},
   "outputs": [
    {
     "data": {
      "text/plain": [
       "'second'"
      ]
     },
     "execution_count": 45,
     "metadata": {},
     "output_type": "execute_result"
    }
   ],
   "source": [
    "d1.a2"
   ]
  },
  {
   "cell_type": "code",
   "execution_count": 46,
   "id": "89851ec6",
   "metadata": {},
   "outputs": [
    {
     "name": "stdout",
     "output_type": "stream",
     "text": [
      "first\n"
     ]
    }
   ],
   "source": [
    "class demo:\n",
    "    def __init__(self):\n",
    "        self.a1=\"first\"\n",
    "        self.a2=\"second\"\n",
    "d1=demo()\n",
    "# d1.a1=\"new a1\"\n",
    "d1.A1=\"new a1\" # capital A1 is adding new attribute!!\n",
    "print(d1.a1)"
   ]
  },
  {
   "cell_type": "markdown",
   "id": "6aa315ee",
   "metadata": {},
   "source": [
    "# What child can inherit  from parent ?\n",
    "\n",
    "#### All attributes and function!!"
   ]
  },
  {
   "cell_type": "code",
   "execution_count": 58,
   "id": "100bffaa",
   "metadata": {},
   "outputs": [],
   "source": [
    "class A: # all classes are child of Object class\n",
    "    ca1=10\n",
    "    def __init__(self): # This method is over-ridden by B\n",
    "        self.i1=90\n",
    "        self.__hidden_treasure=\"KOHINOOR,DIAMONDS,GOLD,PLATINUM\"\n",
    "    def method1(self):\n",
    "        print(\"Instance method in A\")\n",
    "\n",
    "class B(A):\n",
    "    def __init__(self):# This is method oevrridding\n",
    "        A.__init__(self)\n",
    "        self.i2=100\n",
    "    def display(self):\n",
    "        print(self.i1,self.i2,self.ca1,self._A__hidden_treasure)"
   ]
  },
  {
   "cell_type": "code",
   "execution_count": 59,
   "id": "af9c85a1",
   "metadata": {},
   "outputs": [],
   "source": [
    "b=B()"
   ]
  },
  {
   "cell_type": "code",
   "execution_count": 60,
   "id": "0d155527",
   "metadata": {},
   "outputs": [
    {
     "name": "stdout",
     "output_type": "stream",
     "text": [
      "90 100 10 KOHINOOR,DIAMONDS,GOLD,PLATINUM\n",
      "Instance method in A\n"
     ]
    }
   ],
   "source": [
    "b.display()\n",
    "b.method1()"
   ]
  },
  {
   "cell_type": "code",
   "execution_count": 4,
   "id": "75a1bc4f",
   "metadata": {},
   "outputs": [],
   "source": [
    "class A: # all classes are child of Object class\n",
    "    def __init__(self): # This method is over-ridden by B\n",
    "        self.i1=90\n",
    "\n",
    "class B(A):\n",
    "    def __init__(self):# This is method oevrridding\n",
    "        A.__init__(self)\n",
    "        print(self.i1)\n",
    "        self.i1=100\n",
    "        self.i2=100\n",
    "    def display(self):\n",
    "        print(self.i1,self.i2)\n",
    "class C(A):\n",
    "    def __init__(self):# This is method oevrridding\n",
    "        A.__init__(self) \n",
    "    def display(self):\n",
    "        print(self.i1)    "
   ]
  },
  {
   "cell_type": "code",
   "execution_count": 5,
   "id": "2f51b54f",
   "metadata": {},
   "outputs": [
    {
     "name": "stdout",
     "output_type": "stream",
     "text": [
      "90\n",
      "100 100\n"
     ]
    }
   ],
   "source": [
    "b=B()\n",
    "b.display()"
   ]
  },
  {
   "cell_type": "code",
   "execution_count": 69,
   "id": "c6b16ed1",
   "metadata": {},
   "outputs": [
    {
     "name": "stdout",
     "output_type": "stream",
     "text": [
      "90\n"
     ]
    }
   ],
   "source": [
    "c=C()\n",
    "c.display()"
   ]
  },
  {
   "cell_type": "code",
   "execution_count": null,
   "id": "92d613a6",
   "metadata": {},
   "outputs": [],
   "source": []
  },
  {
   "cell_type": "code",
   "execution_count": null,
   "id": "e8d31f32",
   "metadata": {},
   "outputs": [],
   "source": []
  },
  {
   "cell_type": "markdown",
   "id": "a123ed22",
   "metadata": {},
   "source": [
    "# Over riding of method"
   ]
  },
  {
   "cell_type": "markdown",
   "id": "43515667",
   "metadata": {},
   "source": [
    "### Replace the method of Base class\n"
   ]
  },
  {
   "cell_type": "code",
   "execution_count": 70,
   "id": "143f3ad5",
   "metadata": {},
   "outputs": [],
   "source": [
    "class A:\n",
    "    def method1(self):\n",
    "        print(\"Instance method of A\")\n",
    "class B(A):\n",
    "    def method1(self):\n",
    "        print(\"Completely change method1 from A\")"
   ]
  },
  {
   "cell_type": "code",
   "execution_count": 71,
   "id": "b70e6c2a",
   "metadata": {},
   "outputs": [
    {
     "name": "stdout",
     "output_type": "stream",
     "text": [
      "Completely change method1 from A\n"
     ]
    }
   ],
   "source": [
    "b=B()\n",
    "b.method1()"
   ]
  },
  {
   "cell_type": "markdown",
   "id": "c196b36b",
   "metadata": {},
   "source": [
    "### Extend the method in Base class"
   ]
  },
  {
   "cell_type": "code",
   "execution_count": 72,
   "id": "f6268b05",
   "metadata": {},
   "outputs": [],
   "source": [
    "class A:\n",
    "    def method1(self):\n",
    "        print(\"Instance method of A\")\n",
    "class B(A):\n",
    "    def method1(self):\n",
    "        A.method1(self) # call method1 from class A ( base class)\n",
    "        print(\"Add to method1 from A\")"
   ]
  },
  {
   "cell_type": "code",
   "execution_count": 73,
   "id": "15eca194",
   "metadata": {},
   "outputs": [
    {
     "name": "stdout",
     "output_type": "stream",
     "text": [
      "Instance method of A\n",
      "Add to method1 from A\n"
     ]
    }
   ],
   "source": [
    "b=B()\n",
    "b.method1()"
   ]
  },
  {
   "cell_type": "markdown",
   "id": "6c270883",
   "metadata": {},
   "source": [
    "# Example"
   ]
  },
  {
   "cell_type": "code",
   "execution_count": 7,
   "id": "bebf8f8c",
   "metadata": {},
   "outputs": [],
   "source": [
    "class Employee:\n",
    "    def __init__(self):\n",
    "        self.empid=input(\"Enter empid\")\n",
    "        self.name=input(\"Enter name\")\n",
    "        self.salary=input(\"Enter salary\")\n",
    "    def display(self):\n",
    "        print(self.empid,self.name,self.salary)"
   ]
  },
  {
   "cell_type": "code",
   "execution_count": 8,
   "id": "16903c5b",
   "metadata": {},
   "outputs": [],
   "source": [
    "class Manager(Employee):\n",
    "    def __init__(self,projectids):\n",
    "#         Employee.__init__(self)\n",
    "        super().__init__()\n",
    "        self.budget=1000000\n",
    "        self.projectids=projectids\n",
    "    def display(self):\n",
    "#         Employee.display(self)\n",
    "        super().display()\n",
    "        print(\"Display of manager\")\n",
    "    def display_project_ids(self):\n",
    "        print(self.empid,self.name,self.projectids)"
   ]
  },
  {
   "cell_type": "code",
   "execution_count": 9,
   "id": "472b7344",
   "metadata": {},
   "outputs": [
    {
     "name": "stdout",
     "output_type": "stream",
     "text": [
      "Enter empid123\n",
      "Enter nameav\n",
      "Enter salary1233333\n",
      "123 av 1233333\n",
      "Display of manager\n",
      "123 av [1, 2, 4]\n"
     ]
    }
   ],
   "source": [
    "m1=Manager([1,2,4])\n",
    "m1.display()\n",
    "m1.display_project_ids()"
   ]
  },
  {
   "cell_type": "code",
   "execution_count": null,
   "id": "a9a58f3a",
   "metadata": {},
   "outputs": [],
   "source": [
    "\n",
    "\n"
   ]
  },
  {
   "cell_type": "markdown",
   "id": "026cedcd",
   "metadata": {},
   "source": [
    "# Abstract class and method"
   ]
  },
  {
   "cell_type": "code",
   "execution_count": 94,
   "id": "6ec89e75",
   "metadata": {},
   "outputs": [],
   "source": [
    "import abc\n",
    "from abc import ABC\n",
    "from abc import abstractmethod"
   ]
  },
  {
   "cell_type": "code",
   "execution_count": 92,
   "id": "a48acc08",
   "metadata": {},
   "outputs": [],
   "source": [
    "class sample_abs(ABC):\n",
    "    @abstractmethod\n",
    "    def abs_method(self):\n",
    "        pass"
   ]
  },
  {
   "cell_type": "code",
   "execution_count": 100,
   "id": "19d22dda",
   "metadata": {},
   "outputs": [],
   "source": [
    "class implement_abs(sample_abs):\n",
    "#     pass\n",
    "    def abs_method(self):\n",
    "        print(\"Implementation of abstract method\")"
   ]
  },
  {
   "cell_type": "code",
   "execution_count": 101,
   "id": "153a6ff2",
   "metadata": {},
   "outputs": [
    {
     "name": "stdout",
     "output_type": "stream",
     "text": [
      "Implementation of abstract method\n"
     ]
    }
   ],
   "source": [
    "i1 = implement_abs()\n",
    "i1.abs_method()"
   ]
  },
  {
   "cell_type": "code",
   "execution_count": 93,
   "id": "ddb0c03a",
   "metadata": {},
   "outputs": [
    {
     "ename": "TypeError",
     "evalue": "Can't instantiate abstract class sample_abs with abstract method abs_method",
     "output_type": "error",
     "traceback": [
      "\u001b[1;31m---------------------------------------------------------------------------\u001b[0m",
      "\u001b[1;31mTypeError\u001b[0m                                 Traceback (most recent call last)",
      "Cell \u001b[1;32mIn[93], line 1\u001b[0m\n\u001b[1;32m----> 1\u001b[0m s1 \u001b[38;5;241m=\u001b[39m sample_abs()\n",
      "\u001b[1;31mTypeError\u001b[0m: Can't instantiate abstract class sample_abs with abstract method abs_method"
     ]
    }
   ],
   "source": [
    "s1 = sample_abs()"
   ]
  },
  {
   "cell_type": "markdown",
   "id": "5abfddbb",
   "metadata": {},
   "source": [
    "# Example of abstract class"
   ]
  },
  {
   "cell_type": "code",
   "execution_count": 102,
   "id": "afaf14ba",
   "metadata": {},
   "outputs": [],
   "source": [
    "class usb_drive(ABC):\n",
    "    @abstractmethod\n",
    "    def read(self):\n",
    "        pass\n",
    "    @abstractmethod\n",
    "    def write(self,data):\n",
    "        pass"
   ]
  },
  {
   "cell_type": "code",
   "execution_count": 107,
   "id": "9a5b49a6",
   "metadata": {},
   "outputs": [],
   "source": [
    "class sandisk_usb(usb_drive):\n",
    "    def read(self):\n",
    "        print(\"Reading the usb of sandisk\")\n",
    "    def write(self,data):\n",
    "        print(\"Writing the usb of sandisk\", data)\n",
    "        "
   ]
  },
  {
   "cell_type": "code",
   "execution_count": 108,
   "id": "30ede83c",
   "metadata": {},
   "outputs": [
    {
     "name": "stdout",
     "output_type": "stream",
     "text": [
      "Reading the usb of sandisk\n",
      "Writing the usb of sandisk mydata\n"
     ]
    }
   ],
   "source": [
    "su = sandisk_usb()\n",
    "su.read()\n",
    "su.write(\"mydata\")"
   ]
  },
  {
   "cell_type": "markdown",
   "id": "59635802",
   "metadata": {},
   "source": [
    "## Variations in code of abstract class"
   ]
  },
  {
   "cell_type": "code",
   "execution_count": 109,
   "id": "159b3ac3",
   "metadata": {},
   "outputs": [],
   "source": [
    "class usb_drive(ABC):\n",
    "    @abstractmethod\n",
    "    def read(self):\n",
    "        print(\"hi\") # not ideally right --> syntax is ok\n",
    "    @abstractmethod\n",
    "    def write(self,data):\n",
    "        pass"
   ]
  },
  {
   "cell_type": "code",
   "execution_count": 112,
   "id": "18c954db",
   "metadata": {},
   "outputs": [],
   "source": [
    "class new_usb(usb_drive):\n",
    "    def read(self):\n",
    "        print(\"new usb\")\n",
    "    def write(self,data):\n",
    "        print(data)"
   ]
  },
  {
   "cell_type": "code",
   "execution_count": 114,
   "id": "39e401fe",
   "metadata": {},
   "outputs": [
    {
     "name": "stdout",
     "output_type": "stream",
     "text": [
      "new usb\n",
      "mydata\n"
     ]
    }
   ],
   "source": [
    "nu =new_usb() \n",
    "nu.read()\n",
    "nu.write(\"mydata\")"
   ]
  },
  {
   "cell_type": "markdown",
   "id": "7c006212",
   "metadata": {},
   "source": [
    "# __new__ method"
   ]
  },
  {
   "cell_type": "code",
   "execution_count": 115,
   "id": "8802927d",
   "metadata": {},
   "outputs": [],
   "source": [
    "class myclass:\n",
    "    pass"
   ]
  },
  {
   "cell_type": "code",
   "execution_count": 116,
   "id": "789fb5de",
   "metadata": {},
   "outputs": [
    {
     "data": {
      "text/plain": [
       "'Create and return a new object.  See help(type) for accurate signature.'"
      ]
     },
     "execution_count": 116,
     "metadata": {},
     "output_type": "execute_result"
    }
   ],
   "source": [
    "myclass.__new__.__doc__"
   ]
  },
  {
   "cell_type": "markdown",
   "id": "2598eb51",
   "metadata": {},
   "source": [
    "# OPerator Overriding / Overloading"
   ]
  },
  {
   "cell_type": "markdown",
   "id": "f5bab6b0",
   "metadata": {},
   "source": [
    "Create a class point \n",
    "\n",
    "it creates 2d point --> x,y\n",
    "\n",
    "support following operations\n",
    "\n",
    "adding two points --> \n",
    "\n",
    "  when two points are added, p1(x1,y1) + p2(x2,y2) \n",
    "  it should return new point Object (x1+x2, y1+y2)\n",
    "  \n",
    "substract\n",
    "\n",
    "distance method -->\n",
    "   return the euclidean distance between two points"
   ]
  },
  {
   "cell_type": "code",
   "execution_count": 152,
   "id": "92b5a86f",
   "metadata": {},
   "outputs": [],
   "source": [
    "class point:\n",
    "    def __init__(self,x,y):\n",
    "        self.x=x\n",
    "        self.y=y\n",
    "    \n",
    "    def __add__(self,other):\n",
    "        print(other)\n",
    "        match other:\n",
    "            case point():\n",
    "                new_x = self.x + other.x\n",
    "                new_y = self.y + other.y\n",
    "                return point(new_x,new_y)\n",
    "            case int()|float():\n",
    "                new_x = self.x + other\n",
    "                new_y = self.y + other\n",
    "                return point(new_x,new_y)\n",
    "\n",
    "        if type(other) == type(1):\n",
    "            print(\"int\")\n",
    "        if type(other) == type(point(0,0)):\n",
    "            print(\"point\")\n",
    "        \n",
    "    def __radd__(self,other):\n",
    "        print(other)\n",
    "        match other:\n",
    "            case point():\n",
    "                new_x = self.x + other.x\n",
    "                new_y = self.y + other.y\n",
    "                return point(new_x,new_y)\n",
    "            case int()|float():\n",
    "                new_x = self.x + other\n",
    "                new_y = self.y + other\n",
    "                return point(new_x,new_y)\n",
    "\n",
    "            \n",
    "    def __sub__(self,other):\n",
    "        print(other)\n",
    "        match other:\n",
    "            case point():\n",
    "                new_x = self.x - other.x\n",
    "                new_y = self.y - other.y\n",
    "                return point(new_x,new_y)\n",
    "            case int()|float():\n",
    "                new_x = self.x - other\n",
    "                new_y = self.y - other\n",
    "                return point(new_x,new_y)\n",
    "    def __rsub__(self,other):\n",
    "        print(other)\n",
    "        match other:\n",
    "            case point():\n",
    "                new_x = self.x - other.x\n",
    "                new_y = self.y - other.y\n",
    "                return point(new_x,new_y)\n",
    "            case int()|float():\n",
    "                new_x = self.x - other\n",
    "                new_y = self.y - other\n",
    "                return point(new_x,new_y)\n",
    "    \n",
    "    def dist(self,other):\n",
    "        x=(self.x  -other.x)**2\n",
    "        y=(self.y  -other.y)**2\n",
    "        return (x+y)**0.5 \n",
    "    "
   ]
  },
  {
   "cell_type": "code",
   "execution_count": 153,
   "id": "ed2ff9e1",
   "metadata": {},
   "outputs": [],
   "source": [
    "p1=point(10,10)\n",
    "p2=point(20,20)"
   ]
  },
  {
   "cell_type": "code",
   "execution_count": 154,
   "id": "fcecd7b8",
   "metadata": {},
   "outputs": [
    {
     "name": "stdout",
     "output_type": "stream",
     "text": [
      "<__main__.point object at 0x000001A072376AD0>\n"
     ]
    },
    {
     "data": {
      "text/plain": [
       "(30, 30)"
      ]
     },
     "execution_count": 154,
     "metadata": {},
     "output_type": "execute_result"
    }
   ],
   "source": [
    "p3=p1+p2\n",
    "p3.x, p3.y"
   ]
  },
  {
   "cell_type": "code",
   "execution_count": 156,
   "id": "77e834a1",
   "metadata": {},
   "outputs": [
    {
     "name": "stdout",
     "output_type": "stream",
     "text": [
      "4\n"
     ]
    },
    {
     "data": {
      "text/plain": [
       "(6, 6)"
      ]
     },
     "execution_count": 156,
     "metadata": {},
     "output_type": "execute_result"
    }
   ],
   "source": [
    "p3=4-p1\n",
    "p3.x,p3.y"
   ]
  },
  {
   "cell_type": "code",
   "execution_count": 157,
   "id": "99bedeed",
   "metadata": {},
   "outputs": [
    {
     "name": "stdout",
     "output_type": "stream",
     "text": [
      "77.77\n"
     ]
    },
    {
     "data": {
      "text/plain": [
       "(87.77, 87.77)"
      ]
     },
     "execution_count": 157,
     "metadata": {},
     "output_type": "execute_result"
    }
   ],
   "source": [
    "p3=p1+77.77\n",
    "p3.x,p3.y"
   ]
  },
  {
   "cell_type": "code",
   "execution_count": 158,
   "id": "34633344",
   "metadata": {},
   "outputs": [
    {
     "name": "stdout",
     "output_type": "stream",
     "text": [
      "4\n",
      "77.77\n"
     ]
    },
    {
     "data": {
      "text/plain": [
       "(91.77, 91.77)"
      ]
     },
     "execution_count": 158,
     "metadata": {},
     "output_type": "execute_result"
    }
   ],
   "source": [
    "p3=4+p1+77.77\n",
    "p3.x,p3.y"
   ]
  },
  {
   "cell_type": "code",
   "execution_count": null,
   "id": "5ad7d3d4",
   "metadata": {},
   "outputs": [],
   "source": [
    "p3=p1+(34,56)"
   ]
  },
  {
   "cell_type": "code",
   "execution_count": 159,
   "id": "6c4c0dc4",
   "metadata": {},
   "outputs": [
    {
     "name": "stdout",
     "output_type": "stream",
     "text": [
      "<__main__.point object at 0x000001A0723DEAD0>\n"
     ]
    }
   ],
   "source": [
    "print(p3)"
   ]
  },
  {
   "cell_type": "code",
   "execution_count": 143,
   "id": "16bb93ef",
   "metadata": {},
   "outputs": [
    {
     "data": {
      "text/plain": [
       "str"
      ]
     },
     "execution_count": 143,
     "metadata": {},
     "output_type": "execute_result"
    }
   ],
   "source": [
    "type(\"jk\")"
   ]
  },
  {
   "cell_type": "code",
   "execution_count": 142,
   "id": "10dc66a4",
   "metadata": {},
   "outputs": [
    {
     "data": {
      "text/plain": [
       "int"
      ]
     },
     "execution_count": 142,
     "metadata": {},
     "output_type": "execute_result"
    }
   ],
   "source": [
    "int"
   ]
  },
  {
   "cell_type": "markdown",
   "id": "d07b2730",
   "metadata": {},
   "source": [
    "# Str vs repr"
   ]
  },
  {
   "cell_type": "code",
   "execution_count": null,
   "id": "946d38fb",
   "metadata": {},
   "outputs": [],
   "source": [
    "\"\"\"# Str vs repr\n",
    "\n",
    "# Difference in repr and str\n",
    "\n",
    "1) __repr__() is invoked when you simply \n",
    "write object's name on interactive python console \n",
    "and press enter.\n",
    "\n",
    "2) __str__() is invoked when you use object \n",
    "    with print statement.\n",
    "\n",
    "3) In case, if __str__ is missing, then print \n",
    "    and any function using str() invokes \n",
    "    __repr__() of object.\n",
    "\n",
    "4) __str__() of containers, when invoked will \n",
    "    execute __repr__() method of its contained \n",
    "    elements.\n",
    "\n",
    "5) str() called within __str__() could \n",
    "    potentially recurse without a base case, \n",
    "    and error on maximum recursion depth.\n",
    "\n",
    "6) __repr__() can call repr() which will \n",
    "    attempt to avoid infinite recursion \n",
    "    automatically, replacing an already \n",
    "    represented object with ....\n",
    "\"\"\"\n",
    " "
   ]
  },
  {
   "cell_type": "code",
   "execution_count": 163,
   "id": "81c21b9e",
   "metadata": {},
   "outputs": [
    {
     "name": "stdout",
     "output_type": "stream",
     "text": [
      "[10, '45'] 45\n"
     ]
    },
    {
     "data": {
      "text/plain": [
       "'45'"
      ]
     },
     "execution_count": 163,
     "metadata": {},
     "output_type": "execute_result"
    }
   ],
   "source": [
    "s1=\"45\"\n",
    "l2=[10,s1]\n",
    "print(l2,s1)\n",
    "s1"
   ]
  },
  {
   "cell_type": "code",
   "execution_count": 168,
   "id": "267253cb",
   "metadata": {},
   "outputs": [],
   "source": [
    "class point:\n",
    "    def __init__(self,x=10,y=10):\n",
    "        self.x=x\n",
    "        self.y=y\n",
    "    def __str__(self):\n",
    "        return \"This is point. x= \" + str(self.x) + \" y= \" + str(self.y)"
   ]
  },
  {
   "cell_type": "code",
   "execution_count": 169,
   "id": "d449deb7",
   "metadata": {},
   "outputs": [
    {
     "name": "stdout",
     "output_type": "stream",
     "text": [
      "This is point. x= 10 y= 10\n"
     ]
    }
   ],
   "source": [
    "p4 = point()\n",
    "print(p4)  # print calls __str__ method of point class"
   ]
  },
  {
   "cell_type": "code",
   "execution_count": 170,
   "id": "4f759215",
   "metadata": {},
   "outputs": [
    {
     "data": {
      "text/plain": [
       "<__main__.point at 0x1a0723dd390>"
      ]
     },
     "execution_count": 170,
     "metadata": {},
     "output_type": "execute_result"
    }
   ],
   "source": [
    "p4  # __repr__ getting called"
   ]
  },
  {
   "cell_type": "code",
   "execution_count": 15,
   "id": "4a120617",
   "metadata": {},
   "outputs": [
    {
     "name": "stdout",
     "output_type": "stream",
     "text": [
      "True\n",
      "True\n",
      "True\n",
      "True\n",
      "True\n",
      "True\n",
      "True\n"
     ]
    }
   ],
   "source": [
    "l1=[1,3,4,5,8,9,7]\n",
    "for i in l1:\n",
    "    print(isinstance(i,int))  "
   ]
  },
  {
   "cell_type": "code",
   "execution_count": null,
   "id": "d95f2ce4",
   "metadata": {},
   "outputs": [],
   "source": []
  },
  {
   "cell_type": "code",
   "execution_count": null,
   "id": "eac1b4a3",
   "metadata": {},
   "outputs": [],
   "source": []
  }
 ],
 "metadata": {
  "kernelspec": {
   "display_name": "Python 3 (ipykernel)",
   "language": "python",
   "name": "python3"
  },
  "language_info": {
   "codemirror_mode": {
    "name": "ipython",
    "version": 3
   },
   "file_extension": ".py",
   "mimetype": "text/x-python",
   "name": "python",
   "nbconvert_exporter": "python",
   "pygments_lexer": "ipython3",
   "version": "3.11.4"
  }
 },
 "nbformat": 4,
 "nbformat_minor": 5
}
