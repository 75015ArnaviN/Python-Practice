{
 "cells": [
  {
   "cell_type": "code",
   "execution_count": 16,
   "id": "c408a0f1",
   "metadata": {},
   "outputs": [
    {
     "name": "stdout",
     "output_type": "stream",
     "text": [
      "(90, 23, 34) () (1000,)\n"
     ]
    }
   ],
   "source": [
    "# How to create tuple\n",
    "t=(90,23,34) # direct assignment\n",
    "t1=tuple()\n",
    "t2=(1000,) # single value tuple\n",
    "print(t,t1,t2)"
   ]
  },
  {
   "cell_type": "code",
   "execution_count": 3,
   "id": "4b32ae90",
   "metadata": {},
   "outputs": [
    {
     "name": "stdout",
     "output_type": "stream",
     "text": [
      "7000 <class 'int'>\n"
     ]
    }
   ],
   "source": [
    "# NOT A TUPLE\n",
    "t=(1000*7)\n",
    "print(t,type(t))"
   ]
  },
  {
   "cell_type": "code",
   "execution_count": 8,
   "id": "1a25b5ab",
   "metadata": {},
   "outputs": [
    {
     "name": "stdout",
     "output_type": "stream",
     "text": [
      "1\n",
      "(1, 2, 13)\n"
     ]
    }
   ],
   "source": [
    "#hashable tuple\n",
    "t=(1,2,13)\n",
    "print(t[0])\n",
    "print(t[:3])"
   ]
  },
  {
   "cell_type": "code",
   "execution_count": 3,
   "id": "853838d2",
   "metadata": {},
   "outputs": [
    {
     "ename": "TypeError",
     "evalue": "'tuple' object does not support item assignment",
     "output_type": "error",
     "traceback": [
      "\u001b[1;31m---------------------------------------------------------------------------\u001b[0m",
      "\u001b[1;31mTypeError\u001b[0m                                 Traceback (most recent call last)",
      "Cell \u001b[1;32mIn[3], line 1\u001b[0m\n\u001b[1;32m----> 1\u001b[0m t[\u001b[38;5;241m0\u001b[39m] \u001b[38;5;241m=\u001b[39m \u001b[38;5;241m90\u001b[39m\n",
      "\u001b[1;31mTypeError\u001b[0m: 'tuple' object does not support item assignment"
     ]
    }
   ],
   "source": [
    "t[0] = 90 # Not allowed"
   ]
  },
  {
   "cell_type": "code",
   "execution_count": 5,
   "id": "5c9882d4",
   "metadata": {},
   "outputs": [
    {
     "name": "stdout",
     "output_type": "stream",
     "text": [
      "0 [2, 3]\n",
      "[100, 3, 900, 90, 67, 43, 23, 12, 100, 123, 3455, 555, 666]\n"
     ]
    }
   ],
   "source": [
    "#Not hashable tuple\n",
    "tm = (0,[2,3],4,5)\n",
    "print(tm[0],tm[1])\n",
    "tm[1][0]=100\n",
    "tm[1].append(900)\n",
    "tm[1].extend([90,67,43,23,12,100,123,3455,555,666])\n",
    "print(tm[1])"
   ]
  },
  {
   "cell_type": "code",
   "execution_count": 6,
   "id": "08d51848",
   "metadata": {},
   "outputs": [
    {
     "ename": "TypeError",
     "evalue": "'tuple' object does not support item assignment",
     "output_type": "error",
     "traceback": [
      "\u001b[1;31m---------------------------------------------------------------------------\u001b[0m",
      "\u001b[1;31mTypeError\u001b[0m                                 Traceback (most recent call last)",
      "Cell \u001b[1;32mIn[6], line 1\u001b[0m\n\u001b[1;32m----> 1\u001b[0m tm[\u001b[38;5;241m2\u001b[39m]\u001b[38;5;241m=\u001b[39m\u001b[38;5;241m500\u001b[39m\n",
      "\u001b[1;31mTypeError\u001b[0m: 'tuple' object does not support item assignment"
     ]
    }
   ],
   "source": [
    "tm[2]=500"
   ]
  },
  {
   "cell_type": "code",
   "execution_count": 7,
   "id": "0417b0c5",
   "metadata": {},
   "outputs": [
    {
     "ename": "TypeError",
     "evalue": "'tuple' object doesn't support item deletion",
     "output_type": "error",
     "traceback": [
      "\u001b[1;31m---------------------------------------------------------------------------\u001b[0m",
      "\u001b[1;31mTypeError\u001b[0m                                 Traceback (most recent call last)",
      "Cell \u001b[1;32mIn[7], line 1\u001b[0m\n\u001b[1;32m----> 1\u001b[0m \u001b[38;5;28;01mdel\u001b[39;00m tm[\u001b[38;5;241m1\u001b[39m]\n",
      "\u001b[1;31mTypeError\u001b[0m: 'tuple' object doesn't support item deletion"
     ]
    }
   ],
   "source": [
    "del tm[1]"
   ]
  },
  {
   "cell_type": "code",
   "execution_count": 8,
   "id": "55ec7e0a",
   "metadata": {},
   "outputs": [
    {
     "name": "stdout",
     "output_type": "stream",
     "text": [
      "Return the hash value for the given object.\n",
      "\n",
      "Two objects that compare equal must also have the same hash value, but the\n",
      "reverse is not necessarily true.\n"
     ]
    }
   ],
   "source": [
    "print(hash.__doc__)"
   ]
  },
  {
   "cell_type": "code",
   "execution_count": 9,
   "id": "b33b67d0",
   "metadata": {},
   "outputs": [
    {
     "data": {
      "text/plain": [
       "529344067295497451"
      ]
     },
     "execution_count": 9,
     "metadata": {},
     "output_type": "execute_result"
    }
   ],
   "source": [
    "t=(1,2,3)\n",
    "hash(t) # hashable tuple"
   ]
  },
  {
   "cell_type": "code",
   "execution_count": 11,
   "id": "a651b81d",
   "metadata": {},
   "outputs": [
    {
     "ename": "TypeError",
     "evalue": "unhashable type: 'list'",
     "output_type": "error",
     "traceback": [
      "\u001b[1;31m---------------------------------------------------------------------------\u001b[0m",
      "\u001b[1;31mTypeError\u001b[0m                                 Traceback (most recent call last)",
      "Cell \u001b[1;32mIn[11], line 2\u001b[0m\n\u001b[0;32m      1\u001b[0m tm \u001b[38;5;241m=\u001b[39m (\u001b[38;5;241m0\u001b[39m,[\u001b[38;5;241m2\u001b[39m,\u001b[38;5;241m3\u001b[39m],\u001b[38;5;241m4\u001b[39m,\u001b[38;5;241m5\u001b[39m)\n\u001b[1;32m----> 2\u001b[0m \u001b[38;5;28mhash\u001b[39m(tm)\n",
      "\u001b[1;31mTypeError\u001b[0m: unhashable type: 'list'"
     ]
    }
   ],
   "source": [
    "tm = (0,[2,3],4,5)\n",
    "hash(tm) # not hashable tuple"
   ]
  },
  {
   "cell_type": "code",
   "execution_count": 12,
   "id": "a161c687",
   "metadata": {},
   "outputs": [
    {
     "ename": "TypeError",
     "evalue": "unhashable type: 'list'",
     "output_type": "error",
     "traceback": [
      "\u001b[1;31m---------------------------------------------------------------------------\u001b[0m",
      "\u001b[1;31mTypeError\u001b[0m                                 Traceback (most recent call last)",
      "Cell \u001b[1;32mIn[12], line 2\u001b[0m\n\u001b[0;32m      1\u001b[0m tr\u001b[38;5;241m=\u001b[39m(((([\u001b[38;5;241m12\u001b[39m]))),\u001b[38;5;241m89\u001b[39m)\n\u001b[1;32m----> 2\u001b[0m \u001b[38;5;28mhash\u001b[39m(tr)\n",
      "\u001b[1;31mTypeError\u001b[0m: unhashable type: 'list'"
     ]
    }
   ],
   "source": [
    "tr=(((([12]))),89)\n",
    "hash(tr)"
   ]
  },
  {
   "cell_type": "markdown",
   "id": "a43551d9",
   "metadata": {},
   "source": [
    "# Tuple Can be used to assign multiple values on same line\n"
   ]
  },
  {
   "cell_type": "code",
   "execution_count": 14,
   "id": "1e4ccd3a",
   "metadata": {},
   "outputs": [
    {
     "name": "stdout",
     "output_type": "stream",
     "text": [
      "1 2\n"
     ]
    }
   ],
   "source": [
    "x,y = 1,2\n",
    "print(x,y)"
   ]
  },
  {
   "cell_type": "code",
   "execution_count": 15,
   "id": "66dcdd12",
   "metadata": {},
   "outputs": [
    {
     "name": "stdout",
     "output_type": "stream",
     "text": [
      "2 1\n"
     ]
    }
   ],
   "source": [
    "# swap two values\n",
    "x,y = y,x\n",
    "print(x,y)"
   ]
  },
  {
   "cell_type": "markdown",
   "id": "22eb7da5",
   "metadata": {},
   "source": [
    "# Packing and Unpacking\n"
   ]
  },
  {
   "cell_type": "code",
   "execution_count": 18,
   "id": "17257c25",
   "metadata": {},
   "outputs": [
    {
     "name": "stdout",
     "output_type": "stream",
     "text": [
      "(10, 20, 30) <class 'tuple'>\n"
     ]
    }
   ],
   "source": [
    "t=10,20,30\n",
    "print(t, type(t))"
   ]
  },
  {
   "cell_type": "code",
   "execution_count": 20,
   "id": "4be20971",
   "metadata": {},
   "outputs": [
    {
     "name": "stdout",
     "output_type": "stream",
     "text": [
      "40 [50, 60] <class 'list'> 70\n"
     ]
    }
   ],
   "source": [
    "a,*b, c  = (40,50,60,70) \n",
    "print(a,b,type(b),c)"
   ]
  },
  {
   "cell_type": "markdown",
   "id": "ca52b737",
   "metadata": {},
   "source": [
    "# Zip function detailed working"
   ]
  },
  {
   "cell_type": "code",
   "execution_count": 24,
   "id": "ac3e555f",
   "metadata": {},
   "outputs": [
    {
     "name": "stdout",
     "output_type": "stream",
     "text": [
      "[300, 200, 100]\n",
      "90 300\n",
      "45 200\n",
      "67 100\n"
     ]
    }
   ],
   "source": [
    "l1=[90,45,67]\n",
    "l2=[100,200,300]\n",
    "l2.reverse()\n",
    "print(l2)\n",
    "for e1, e2 in zip(l1,l2):\n",
    "    print(e1,e2)"
   ]
  },
  {
   "cell_type": "code",
   "execution_count": 23,
   "id": "9278271c",
   "metadata": {},
   "outputs": [
    {
     "data": {
      "text/plain": [
       "[(90, 300), (45, 200), (67, 100)]"
      ]
     },
     "execution_count": 23,
     "metadata": {},
     "output_type": "execute_result"
    }
   ],
   "source": [
    "list(zip(l1,l2))"
   ]
  },
  {
   "cell_type": "code",
   "execution_count": 30,
   "id": "969ebc23",
   "metadata": {},
   "outputs": [
    {
     "data": {
      "text/plain": [
       "((90, 100), (45, 200), (67, 300))"
      ]
     },
     "execution_count": 30,
     "metadata": {},
     "output_type": "execute_result"
    }
   ],
   "source": [
    "tuple(zip(l1,l2))"
   ]
  },
  {
   "cell_type": "code",
   "execution_count": 25,
   "id": "6e17e4fd",
   "metadata": {},
   "outputs": [
    {
     "name": "stdout",
     "output_type": "stream",
     "text": [
      "90 100\n",
      "45 200\n",
      "67 300\n"
     ]
    }
   ],
   "source": [
    "l1=[90,45,67,56,89]\n",
    "l2=[100,200,300]\n",
    "for e1, e2 in zip(l1,l2):\n",
    "    print(e1,e2)"
   ]
  },
  {
   "cell_type": "code",
   "execution_count": 26,
   "id": "a62291b0",
   "metadata": {},
   "outputs": [
    {
     "name": "stdout",
     "output_type": "stream",
     "text": [
      "90 100\n",
      "45 200\n",
      "67 300\n"
     ]
    }
   ],
   "source": [
    "l1=[90,45,67]\n",
    "l2=[100,200,300,400,500]\n",
    "for e1, e2 in zip(l1,l2):\n",
    "    print(e1,e2)"
   ]
  },
  {
   "cell_type": "code",
   "execution_count": 27,
   "id": "b9ea0680",
   "metadata": {},
   "outputs": [
    {
     "name": "stdout",
     "output_type": "stream",
     "text": [
      "0 90\n",
      "4 45\n",
      "5 78\n"
     ]
    }
   ],
   "source": [
    "t1=(0,4,5)\n",
    "t2=(90,45,78)\n",
    "for e1, e2 in zip(t1,t2):\n",
    "    print(e1,e2)"
   ]
  },
  {
   "cell_type": "code",
   "execution_count": 28,
   "id": "ab773011",
   "metadata": {},
   "outputs": [
    {
     "name": "stdout",
     "output_type": "stream",
     "text": [
      "I C\n",
      "A D\n",
      "C A\n",
      "S C\n"
     ]
    }
   ],
   "source": [
    "s1=\"IACSD\"\n",
    "s2=\"CDAC\"\n",
    "for c1,c2 in zip(s1,s2):\n",
    "    print(c1,c2)"
   ]
  },
  {
   "cell_type": "code",
   "execution_count": 29,
   "id": "be0072a5",
   "metadata": {},
   "outputs": [
    {
     "name": "stdout",
     "output_type": "stream",
     "text": [
      "90 0 I\n",
      "45 4 A\n",
      "67 5 C\n"
     ]
    }
   ],
   "source": [
    "l1=[90,45,67]\n",
    "t1=(0,4,5)\n",
    "s1=\"IACSD\"\n",
    "for e1,e2,e3 in zip(l1,t1,s1):\n",
    "    print(e1,e2,e3)"
   ]
  },
  {
   "cell_type": "markdown",
   "id": "a84c0cd5",
   "metadata": {},
   "source": [
    "# reverse the tuple"
   ]
  },
  {
   "cell_type": "code",
   "execution_count": 33,
   "id": "41ef0c39",
   "metadata": {},
   "outputs": [
    {
     "name": "stdout",
     "output_type": "stream",
     "text": [
      "(60, 50, 40, 30, 20, 10) (60, 50, 40, 30, 20, 10)\n"
     ]
    }
   ],
   "source": [
    "t1=(10, 20, 30, 40, 50,60)\n",
    "print(t1[::-1], tuple(reversed(t1)))"
   ]
  },
  {
   "cell_type": "markdown",
   "id": "01e4c085",
   "metadata": {},
   "source": [
    "# swap two numbers\n",
    "7. Take two integer values in a & b. Swap their values using tuple, using temparary variable and without tuple and without temparary variable.\n",
    "Ex. a=10 b=23\n",
    "After swapping a=23 b=10"
   ]
  },
  {
   "cell_type": "code",
   "execution_count": 37,
   "id": "db3fea61",
   "metadata": {},
   "outputs": [],
   "source": []
  },
  {
   "cell_type": "code",
   "execution_count": 38,
   "id": "d2f7da7a",
   "metadata": {},
   "outputs": [
    {
     "name": "stdout",
     "output_type": "stream",
     "text": [
      "23 10\n"
     ]
    }
   ],
   "source": [
    "# method 1 direct method\n",
    "a=10\n",
    "b=23\n",
    "a,b = b,a\n",
    "print(a,b)"
   ]
  },
  {
   "cell_type": "code",
   "execution_count": 39,
   "id": "3c7f81ae",
   "metadata": {},
   "outputs": [
    {
     "name": "stdout",
     "output_type": "stream",
     "text": [
      "23 10\n"
     ]
    }
   ],
   "source": [
    "# method 2 temporary variable\n",
    "a=10\n",
    "b=23\n",
    "temp = a\n",
    "a= b\n",
    "b=temp\n",
    "print(a,b)"
   ]
  },
  {
   "cell_type": "code",
   "execution_count": 40,
   "id": "1de93c7a",
   "metadata": {},
   "outputs": [
    {
     "name": "stdout",
     "output_type": "stream",
     "text": [
      "23 10\n"
     ]
    }
   ],
   "source": [
    "# using arithmatic operation\n",
    "a=10\n",
    "b=23\n",
    "a=a+b\n",
    "b=a-b\n",
    "a=a-b\n",
    "print(a,b)"
   ]
  },
  {
   "cell_type": "code",
   "execution_count": null,
   "id": "13ca7118",
   "metadata": {},
   "outputs": [],
   "source": []
  }
 ],
 "metadata": {
  "kernelspec": {
   "display_name": "Python 3 (ipykernel)",
   "language": "python",
   "name": "python3"
  },
  "language_info": {
   "codemirror_mode": {
    "name": "ipython",
    "version": 3
   },
   "file_extension": ".py",
   "mimetype": "text/x-python",
   "name": "python",
   "nbconvert_exporter": "python",
   "pygments_lexer": "ipython3",
   "version": "3.11.4"
  }
 },
 "nbformat": 4,
 "nbformat_minor": 5
}
