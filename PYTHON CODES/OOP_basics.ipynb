{
 "cells": [
  {
   "cell_type": "markdown",
   "id": "43b3c860",
   "metadata": {},
   "source": [
    "# Example: Student Class\n",
    "Attributes: name, roll no, mod1_marks, mod2_marks\n",
    "Functions: display(), calc_total_marks()\n"
   ]
  },
  {
   "cell_type": "code",
   "execution_count": 11,
   "id": "e11ce8a7",
   "metadata": {},
   "outputs": [],
   "source": [
    "class student:\n",
    "    institute=\"IACSD\" #class variable\n",
    "    shared_resources=[] # mutable class variable\n",
    "#     self.xyz=10 # --> instance variable to be created inside a method ONLY\n",
    "    def __init__(self,name,rollno,mod1_marks=23,mod2_marks=25):#constructor\n",
    "        self.name=name # instance variable self.name\n",
    "        self.rollno=rollno # instance variable self.rollno\n",
    "        self.marks_list=[mod1_marks,mod2_marks]\n",
    "        #\n",
    "        student.class_var2=10 # class variable\n",
    "    def display(self):\n",
    "        print(self.rollno,self.name,student.institute,self.institute)"
   ]
  },
  {
   "cell_type": "code",
   "execution_count": 12,
   "id": "b5edff7c",
   "metadata": {},
   "outputs": [
    {
     "name": "stdout",
     "output_type": "stream",
     "text": [
      "239560 xyz IACSD IACSD\n",
      "239561 pqr IACSD IACSD\n"
     ]
    }
   ],
   "source": [
    "s1=student(\"xyz\",\"239560\")\n",
    "s1.display()\n",
    "s2=student(\"pqr\",\"239561\")\n",
    "s2.display()"
   ]
  },
  {
   "cell_type": "code",
   "execution_count": 13,
   "id": "52f4e934",
   "metadata": {},
   "outputs": [
    {
     "data": {
      "text/plain": [
       "[]"
      ]
     },
     "execution_count": 13,
     "metadata": {},
     "output_type": "execute_result"
    }
   ],
   "source": [
    "s1.shared_resources"
   ]
  },
  {
   "cell_type": "code",
   "execution_count": 14,
   "id": "b875e6ae",
   "metadata": {},
   "outputs": [],
   "source": [
    "s2.shared_resources.append(\"interview qs\")"
   ]
  },
  {
   "cell_type": "code",
   "execution_count": 15,
   "id": "f1b3a533",
   "metadata": {},
   "outputs": [
    {
     "data": {
      "text/plain": [
       "['interview qs']"
      ]
     },
     "execution_count": 15,
     "metadata": {},
     "output_type": "execute_result"
    }
   ],
   "source": [
    "s1.shared_resources"
   ]
  },
  {
   "cell_type": "code",
   "execution_count": 16,
   "id": "3e3e8762",
   "metadata": {},
   "outputs": [],
   "source": [
    "s1.shared_resources.append(\"apti\")"
   ]
  },
  {
   "cell_type": "code",
   "execution_count": 17,
   "id": "e3449068",
   "metadata": {},
   "outputs": [
    {
     "data": {
      "text/plain": [
       "['interview qs', 'apti']"
      ]
     },
     "execution_count": 17,
     "metadata": {},
     "output_type": "execute_result"
    }
   ],
   "source": [
    "s2.shared_resources"
   ]
  },
  {
   "cell_type": "code",
   "execution_count": null,
   "id": "a0cc4c9c",
   "metadata": {},
   "outputs": [],
   "source": []
  },
  {
   "cell_type": "markdown",
   "id": "052efd60",
   "metadata": {},
   "source": [
    "Create class car\n",
    "attributes / properties of a car\n",
    "color\n",
    "price\n",
    "avg\n",
    "type_fuel\n",
    "brand (company) = \"TATA\"\n",
    "\n",
    "functions:\n",
    "start\n",
    "stop\n",
    "turn\n",
    "break\n",
    "accelaration\n",
    "gear_change"
   ]
  },
  {
   "cell_type": "code",
   "execution_count": 20,
   "id": "151b0208",
   "metadata": {},
   "outputs": [
    {
     "name": "stdout",
     "output_type": "stream",
     "text": [
      "white 700000 12 EV\n",
      "TATA TATA 1\n",
      "red 700000 12 EV\n",
      "TATA TATA 2\n"
     ]
    }
   ],
   "source": [
    "class car:\n",
    "#     brand=\"TATA\"  # class variable / static variable\n",
    "    count=0 # class variable / static variable\n",
    "    def __init__(self,color,price,avg,type_fuel):\n",
    "        self.color = color\n",
    "        self.price = price\n",
    "        self.avg = avg\n",
    "        self.type_fuel=type_fuel\n",
    "        car.brand=\"TATA\" # class variable / static variable\n",
    "        car.count+=1\n",
    "        \n",
    "    def display(self):\n",
    "        print(self.color, self.price,self.avg, self.type_fuel)\n",
    "        print(car.brand, self.brand,car.count)\n",
    "c1=car(\"white\",700000,12,\"EV\")\n",
    "c1.display()\n",
    "c2=car(\"red\",700000,12,\"EV\")\n",
    "c2.display()"
   ]
  },
  {
   "cell_type": "code",
   "execution_count": 23,
   "id": "48b31fa0",
   "metadata": {},
   "outputs": [
    {
     "name": "stdout",
     "output_type": "stream",
     "text": [
      "<__main__.car object at 0x000002783D57B2D0> <__main__.car object at 0x000002783D4E7E50>\n"
     ]
    }
   ],
   "source": [
    "print(c1,c2)"
   ]
  },
  {
   "cell_type": "code",
   "execution_count": 26,
   "id": "e9edf53e",
   "metadata": {},
   "outputs": [
    {
     "ename": "NameError",
     "evalue": "name 'self' is not defined",
     "output_type": "error",
     "traceback": [
      "\u001b[1;31m---------------------------------------------------------------------------\u001b[0m",
      "\u001b[1;31mNameError\u001b[0m                                 Traceback (most recent call last)",
      "Cell \u001b[1;32mIn[26], line 2\u001b[0m\n\u001b[0;32m      1\u001b[0m \u001b[38;5;66;03m# Outside class car self will not work\u001b[39;00m\n\u001b[1;32m----> 2\u001b[0m \u001b[38;5;28mprint\u001b[39m(\u001b[38;5;28mself\u001b[39m\u001b[38;5;241m.\u001b[39mcolor, \u001b[38;5;28mself\u001b[39m\u001b[38;5;241m.\u001b[39mprice,\u001b[38;5;28mself\u001b[39m\u001b[38;5;241m.\u001b[39mavg, \u001b[38;5;28mself\u001b[39m\u001b[38;5;241m.\u001b[39mtype_fuel)\n",
      "\u001b[1;31mNameError\u001b[0m: name 'self' is not defined"
     ]
    }
   ],
   "source": [
    "# Outside class car self will not work\n",
    "print(self.color, self.price,self.avg, self.type_fuel)"
   ]
  },
  {
   "cell_type": "code",
   "execution_count": 27,
   "id": "5c337b19",
   "metadata": {},
   "outputs": [
    {
     "name": "stdout",
     "output_type": "stream",
     "text": [
      "white 700000 12 EV\n"
     ]
    }
   ],
   "source": [
    "# access the object attributes / properties using object name\n",
    "print(c1.color, c1.price,c1.avg, c1.type_fuel)"
   ]
  },
  {
   "cell_type": "code",
   "execution_count": 28,
   "id": "5c873f83",
   "metadata": {},
   "outputs": [
    {
     "name": "stdout",
     "output_type": "stream",
     "text": [
      "1400000\n"
     ]
    }
   ],
   "source": [
    "total = c1.price+c2.price\n",
    "print(total)"
   ]
  },
  {
   "cell_type": "code",
   "execution_count": 30,
   "id": "ef655054",
   "metadata": {},
   "outputs": [
    {
     "name": "stdout",
     "output_type": "stream",
     "text": [
      "new price of c1 is  900000\n",
      "white 900000 12 EV\n",
      "TATA TATA 2\n"
     ]
    }
   ],
   "source": [
    "# Instance variable can be modified outside the class\n",
    "c1.price=900000\n",
    "print(\"new price of c1 is \", c1.price)\n",
    "c1.display()"
   ]
  },
  {
   "cell_type": "code",
   "execution_count": 31,
   "id": "cfce375a",
   "metadata": {},
   "outputs": [
    {
     "data": {
      "text/plain": [
       "560000.0"
      ]
     },
     "execution_count": 31,
     "metadata": {},
     "output_type": "execute_result"
    }
   ],
   "source": [
    "c2.price = (1-0.2)*c2.price\n",
    "c2.price"
   ]
  },
  {
   "cell_type": "code",
   "execution_count": 32,
   "id": "102825b8",
   "metadata": {},
   "outputs": [
    {
     "name": "stdout",
     "output_type": "stream",
     "text": [
      "TATA_India\n"
     ]
    }
   ],
   "source": [
    "car.brand = \"TATA_India\"\n",
    "print(car.brand)"
   ]
  },
  {
   "cell_type": "code",
   "execution_count": 34,
   "id": "fc2ff781",
   "metadata": {},
   "outputs": [
    {
     "data": {
      "text/plain": [
       "('TATA_India', 'TATA_India')"
      ]
     },
     "execution_count": 34,
     "metadata": {},
     "output_type": "execute_result"
    }
   ],
   "source": [
    "c1.brand,c2.brand"
   ]
  },
  {
   "cell_type": "markdown",
   "id": "bf453bc6",
   "metadata": {},
   "source": [
    "# constructor"
   ]
  },
  {
   "cell_type": "code",
   "execution_count": 35,
   "id": "98afc943",
   "metadata": {},
   "outputs": [],
   "source": [
    "class demo:\n",
    "    def __init__(self):\n",
    "        print(\"Right constructor\")"
   ]
  },
  {
   "cell_type": "code",
   "execution_count": 36,
   "id": "3ff375b2",
   "metadata": {},
   "outputs": [
    {
     "name": "stdout",
     "output_type": "stream",
     "text": [
      "Right constructor\n"
     ]
    }
   ],
   "source": [
    "d=demo() # internall __init__() is called by PVM"
   ]
  },
  {
   "cell_type": "code",
   "execution_count": 1,
   "id": "029055ee",
   "metadata": {},
   "outputs": [],
   "source": [
    "class demo_typo1:\n",
    "    # by default python adds a empty constructor to this class\n",
    "    # def __init__(self):\n",
    "    #    pass\n",
    "    \n",
    "    def _init_(self):  # wrong syntax\n",
    "        print(\"Right constructor\")"
   ]
  },
  {
   "cell_type": "code",
   "execution_count": 3,
   "id": "785644ab",
   "metadata": {},
   "outputs": [
    {
     "data": {
      "text/plain": [
       "<__main__.demo_typo1 at 0x1a4aa523890>"
      ]
     },
     "execution_count": 3,
     "metadata": {},
     "output_type": "execute_result"
    }
   ],
   "source": [
    "dt1=demo_typo1()"
   ]
  },
  {
   "cell_type": "code",
   "execution_count": 39,
   "id": "740b77d6",
   "metadata": {},
   "outputs": [],
   "source": [
    "class demo_typo2:\n",
    "    def __init__():  # wrong syntax\n",
    "        print(\"Right constructor\")"
   ]
  },
  {
   "cell_type": "code",
   "execution_count": 40,
   "id": "cd9c935e",
   "metadata": {},
   "outputs": [
    {
     "ename": "TypeError",
     "evalue": "demo_typo2.__init__() takes 0 positional arguments but 1 was given",
     "output_type": "error",
     "traceback": [
      "\u001b[1;31m---------------------------------------------------------------------------\u001b[0m",
      "\u001b[1;31mTypeError\u001b[0m                                 Traceback (most recent call last)",
      "Cell \u001b[1;32mIn[40], line 1\u001b[0m\n\u001b[1;32m----> 1\u001b[0m dt2 \u001b[38;5;241m=\u001b[39m demo_typo2()\n",
      "\u001b[1;31mTypeError\u001b[0m: demo_typo2.__init__() takes 0 positional arguments but 1 was given"
     ]
    }
   ],
   "source": [
    "dt2 = demo_typo2()"
   ]
  },
  {
   "cell_type": "markdown",
   "id": "01f4fd2d",
   "metadata": {},
   "source": [
    "### Cannot have more than one __init__ in one class\n",
    "\n",
    "constructor defined at the end will be considered final\n",
    "\n",
    "OVERLOADING NOT possible"
   ]
  },
  {
   "cell_type": "code",
   "execution_count": 42,
   "id": "51774cdd",
   "metadata": {},
   "outputs": [],
   "source": [
    "class many_constructor:\n",
    "    def __init__(self,v1):\n",
    "        print(\"First constructor\", self.v1)\n",
    "    def __init__(self):\n",
    "        print(\"Second constructor\")"
   ]
  },
  {
   "cell_type": "code",
   "execution_count": 43,
   "id": "e4e5faf5",
   "metadata": {},
   "outputs": [
    {
     "name": "stdout",
     "output_type": "stream",
     "text": [
      "Second constructor\n"
     ]
    },
    {
     "data": {
      "text/plain": [
       "<__main__.many_constructor at 0x2783c899bd0>"
      ]
     },
     "execution_count": 43,
     "metadata": {},
     "output_type": "execute_result"
    }
   ],
   "source": [
    "many_constructor()"
   ]
  },
  {
   "cell_type": "markdown",
   "id": "74a69b60",
   "metadata": {},
   "source": [
    "# Method types\n",
    "\n",
    "functions:\n",
    "start\n",
    "stop\n",
    "turn\n",
    "break\n",
    "accelaration\n",
    "gear_change"
   ]
  },
  {
   "cell_type": "code",
   "execution_count": 44,
   "id": "c27bc966",
   "metadata": {},
   "outputs": [
    {
     "name": "stdout",
     "output_type": "stream",
     "text": [
      "white 700000 12 EV\n",
      "TATA TATA 1\n",
      "Car has started!\n",
      "Car has stopped!\n",
      "red 700000 12 EV\n",
      "TATA TATA 2\n",
      "Car has started!\n",
      "Car has stopped!\n"
     ]
    }
   ],
   "source": [
    "class car:\n",
    "#     brand=\"TATA\"  # class variable / static variable\n",
    "    count=0 # class variable / static variable\n",
    "    def __init__(self,color,price,avg,type_fuel):# instance method --> self first parameter\n",
    "        self.color = color\n",
    "        self.price = price\n",
    "        self.avg = avg\n",
    "        self.type_fuel=type_fuel\n",
    "        car.brand=\"TATA\" # class variable / static variable\n",
    "        car.count+=1\n",
    "        \n",
    "    def display(self): # instance method --> self first parameter\n",
    "        print(self.color, self.price,self.avg, self.type_fuel)\n",
    "        print(car.brand, self.brand,car.count)\n",
    "    \n",
    "    def start(self):\n",
    "        print(\"Car has started!\")\n",
    "        \n",
    "    def stop(self):\n",
    "        print(\"Car has stopped!\")\n",
    "    \n",
    "    \n",
    "c1=car(\"white\",700000,12,\"EV\")\n",
    "c1.display()\n",
    "c1.start()\n",
    "c1.stop()\n",
    "c2=car(\"red\",700000,12,\"EV\")\n",
    "c2.display()\n",
    "c2.start()\n",
    "c2.stop()"
   ]
  },
  {
   "cell_type": "markdown",
   "id": "ce7a2605",
   "metadata": {},
   "source": [
    "Employee class\n",
    "\n",
    "attributes: empid, name, deptno, salary, location, mgr,\n",
    "designation\n",
    "\n",
    "emp_count\n",
    "\n",
    "methods: display_id, data_analysis, display_total_emp, give_raise, promotion\n"
   ]
  },
  {
   "cell_type": "code",
   "execution_count": 67,
   "id": "53558849",
   "metadata": {},
   "outputs": [],
   "source": [
    "class Employee:\n",
    "    emp_count=0\n",
    "    def __init__(self,empid,name,deptno,salary,loc,mgr,designation=\"Employee\"):\n",
    "        self.empid=empid\n",
    "        self.salary=salary\n",
    "        Employee.emp_count += 1\n",
    "    def display_id(self):\n",
    "        print(self.empid)\n",
    "    def data_analysis(self):\n",
    "        print(\"Doing data analysis\")\n",
    "    def give_raise(self):\n",
    "        self.salary += 0.2*self.salary\n",
    "    def promotion(self):\n",
    "        self.designation=\"Manager\"\n",
    "    @classmethod  # write decorator @classmethod\n",
    "    def display_total_emp(cls):\n",
    "        print(cls.emp_count, Employee.emp_count)\n",
    "        #print(self.emp_count) # WON't work bcz self is not defined in class method\n",
    "    @staticmethod\n",
    "    def static_display_total_emp():\n",
    "        print(Employee.emp_count)\n",
    "        #print(cls.emp_count)# WON't work bcz cls is not defined in static method\n",
    "        #print(self.emp_count) # WON't work bcz self is not defined in static method"
   ]
  },
  {
   "cell_type": "code",
   "execution_count": 54,
   "id": "917da64c",
   "metadata": {},
   "outputs": [],
   "source": [
    "e1 = Employee(1,\"ss\",\"123\",56789,\"xyz\",\"pqr\")"
   ]
  },
  {
   "cell_type": "code",
   "execution_count": 55,
   "id": "278d4eb7",
   "metadata": {},
   "outputs": [
    {
     "name": "stdout",
     "output_type": "stream",
     "text": [
      "1\n"
     ]
    }
   ],
   "source": [
    "e1.display_id()"
   ]
  },
  {
   "cell_type": "code",
   "execution_count": 56,
   "id": "ff2d49aa",
   "metadata": {},
   "outputs": [
    {
     "name": "stdout",
     "output_type": "stream",
     "text": [
      "1 1\n"
     ]
    }
   ],
   "source": [
    "e1.display_total_emp()"
   ]
  },
  {
   "cell_type": "code",
   "execution_count": 58,
   "id": "3b05d346",
   "metadata": {},
   "outputs": [
    {
     "name": "stdout",
     "output_type": "stream",
     "text": [
      "1 1\n"
     ]
    }
   ],
   "source": [
    "Employee.display_total_emp()"
   ]
  },
  {
   "cell_type": "code",
   "execution_count": 57,
   "id": "158ed515",
   "metadata": {},
   "outputs": [
    {
     "name": "stdout",
     "output_type": "stream",
     "text": [
      "1\n"
     ]
    }
   ],
   "source": [
    "Employee.static_display_total_emp()"
   ]
  },
  {
   "cell_type": "markdown",
   "id": "6447966b",
   "metadata": {},
   "source": [
    "# Data Hiding"
   ]
  },
  {
   "cell_type": "code",
   "execution_count": 59,
   "id": "5fe9d69d",
   "metadata": {},
   "outputs": [],
   "source": [
    "class Employee:\n",
    "    def __init__(self,empid,salary):\n",
    "        self.empid=empid\n",
    "        self.__salary=salary # hidden variable salary"
   ]
  },
  {
   "cell_type": "code",
   "execution_count": 61,
   "id": "bd20c355",
   "metadata": {},
   "outputs": [
    {
     "ename": "AttributeError",
     "evalue": "'Employee' object has no attribute '__salary'",
     "output_type": "error",
     "traceback": [
      "\u001b[1;31m---------------------------------------------------------------------------\u001b[0m",
      "\u001b[1;31mAttributeError\u001b[0m                            Traceback (most recent call last)",
      "Cell \u001b[1;32mIn[61], line 2\u001b[0m\n\u001b[0;32m      1\u001b[0m e1 \u001b[38;5;241m=\u001b[39m Employee(\u001b[38;5;241m1\u001b[39m,\u001b[38;5;241m2500000\u001b[39m)\n\u001b[1;32m----> 2\u001b[0m e1\u001b[38;5;241m.\u001b[39m__salary\n",
      "\u001b[1;31mAttributeError\u001b[0m: 'Employee' object has no attribute '__salary'"
     ]
    }
   ],
   "source": [
    "e1 = Employee(1,2500000)\n",
    "e1.__salary # direct accessing hidden variable will result in error"
   ]
  },
  {
   "cell_type": "code",
   "execution_count": 62,
   "id": "b2849ae1",
   "metadata": {},
   "outputs": [
    {
     "data": {
      "text/plain": [
       "2500000"
      ]
     },
     "execution_count": 62,
     "metadata": {},
     "output_type": "execute_result"
    }
   ],
   "source": [
    "e1._Employee__salary"
   ]
  },
  {
   "cell_type": "code",
   "execution_count": 63,
   "id": "4ec730ba",
   "metadata": {},
   "outputs": [],
   "source": [
    "e1._Employee__salary = 10000"
   ]
  },
  {
   "cell_type": "code",
   "execution_count": 64,
   "id": "639fdc27",
   "metadata": {},
   "outputs": [
    {
     "data": {
      "text/plain": [
       "10000"
      ]
     },
     "execution_count": 64,
     "metadata": {},
     "output_type": "execute_result"
    }
   ],
   "source": [
    "e1._Employee__salary"
   ]
  },
  {
   "cell_type": "markdown",
   "id": "53329d67",
   "metadata": {},
   "source": [
    "# Class attribute __dict__"
   ]
  },
  {
   "cell_type": "code",
   "execution_count": 68,
   "id": "50214f42",
   "metadata": {},
   "outputs": [
    {
     "data": {
      "text/plain": [
       "mappingproxy({'__module__': '__main__',\n",
       "              'emp_count': 0,\n",
       "              '__init__': <function __main__.Employee.__init__(self, empid, name, deptno, salary, loc, mgr, designation='Employee')>,\n",
       "              'display_id': <function __main__.Employee.display_id(self)>,\n",
       "              'data_analysis': <function __main__.Employee.data_analysis(self)>,\n",
       "              'give_raise': <function __main__.Employee.give_raise(self)>,\n",
       "              'promotion': <function __main__.Employee.promotion(self)>,\n",
       "              'display_total_emp': <classmethod(<function Employee.display_total_emp at 0x000002783C99B1A0>)>,\n",
       "              'static_display_total_emp': <staticmethod(<function Employee.static_display_total_emp at 0x000002783C99B920>)>,\n",
       "              '__dict__': <attribute '__dict__' of 'Employee' objects>,\n",
       "              '__weakref__': <attribute '__weakref__' of 'Employee' objects>,\n",
       "              '__doc__': None})"
      ]
     },
     "execution_count": 68,
     "metadata": {},
     "output_type": "execute_result"
    }
   ],
   "source": [
    "Employee.__dict__"
   ]
  },
  {
   "cell_type": "code",
   "execution_count": null,
   "id": "48cdcb23",
   "metadata": {},
   "outputs": [],
   "source": []
  }
 ],
 "metadata": {
  "kernelspec": {
   "display_name": "Python 3 (ipykernel)",
   "language": "python",
   "name": "python3"
  },
  "language_info": {
   "codemirror_mode": {
    "name": "ipython",
    "version": 3
   },
   "file_extension": ".py",
   "mimetype": "text/x-python",
   "name": "python",
   "nbconvert_exporter": "python",
   "pygments_lexer": "ipython3",
   "version": "3.11.4"
  }
 },
 "nbformat": 4,
 "nbformat_minor": 5
}
