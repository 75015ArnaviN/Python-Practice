{
 "cells": [
  {
   "cell_type": "code",
   "execution_count": 1,
   "id": "4c9e6478",
   "metadata": {},
   "outputs": [],
   "source": [
    "l1=list()\n",
    "l2=[]"
   ]
  },
  {
   "cell_type": "code",
   "execution_count": 2,
   "id": "1bed589f",
   "metadata": {},
   "outputs": [
    {
     "name": "stdout",
     "output_type": "stream",
     "text": [
      "[]\n"
     ]
    }
   ],
   "source": [
    "print(l1)"
   ]
  },
  {
   "cell_type": "code",
   "execution_count": 3,
   "id": "490463d8",
   "metadata": {},
   "outputs": [
    {
     "name": "stdout",
     "output_type": "stream",
     "text": [
      "[]\n"
     ]
    }
   ],
   "source": [
    "print(l2)"
   ]
  },
  {
   "cell_type": "code",
   "execution_count": 6,
   "id": "7e2a8bd0",
   "metadata": {},
   "outputs": [
    {
     "name": "stdout",
     "output_type": "stream",
     "text": [
      "[51, 53, 55, 57, 59, 61, 63, 65, 67, 69, 71, 73, 75, 77, 79, 81, 83, 85, 87, 89, 91, 93, 95, 97, 99]\n",
      "[51, 53, 55, 57, 59, 61, 63, 65, 67, 69, 71, 73, 75, 77, 79, 81, 83, 85, 87, 89, 91, 93, 95, 97, 99]\n"
     ]
    }
   ],
   "source": [
    "# all odd numbers between 50 to 100\n",
    "l2 = list(range(51,100,2))\n",
    "l1 = []\n",
    "for idx in range(51,100,2):\n",
    "    l1.append(idx)\n",
    "#     print(idx)\n",
    "print(l1)\n",
    "print(l2)"
   ]
  },
  {
   "cell_type": "code",
   "execution_count": 10,
   "id": "2e41d9cc",
   "metadata": {},
   "outputs": [
    {
     "name": "stdout",
     "output_type": "stream",
     "text": [
      "[51, 57, 63, 69, 75, 77, 81, 87, 91, 93, 99]\n"
     ]
    }
   ],
   "source": [
    "l1 = []\n",
    "for idx in range(51,100,2):\n",
    "    if (idx%3 == 0) or (idx%7==0):\n",
    "        l1.append(idx)\n",
    "#     print(idx)\n",
    "print(l1)"
   ]
  },
  {
   "cell_type": "code",
   "execution_count": 11,
   "id": "12f9e81f",
   "metadata": {},
   "outputs": [
    {
     "name": "stdout",
     "output_type": "stream",
     "text": [
      "0 51\n",
      "1 57\n",
      "2 63\n",
      "3 69\n",
      "4 75\n",
      "5 77\n",
      "6 81\n",
      "7 87\n",
      "8 91\n",
      "9 93\n",
      "10 99\n"
     ]
    }
   ],
   "source": [
    "for idx,element in enumerate(l1):\n",
    "    print(idx,element)"
   ]
  },
  {
   "cell_type": "code",
   "execution_count": 13,
   "id": "5c57dbda",
   "metadata": {},
   "outputs": [
    {
     "name": "stdout",
     "output_type": "stream",
     "text": [
      "67\n",
      "89\n"
     ]
    }
   ],
   "source": [
    "# create a list of rollnos of your 5 friends\n",
    "rollnos = [54,67,98,89,77]\n",
    "#print all roll nos which are on even index \n",
    "# print all alternate lements in a list starting from first element\n",
    "for idx, element in enumerate(rollnos):\n",
    "    if idx % 2 ==0:\n",
    "        print(element)"
   ]
  },
  {
   "cell_type": "code",
   "execution_count": 14,
   "id": "26548de2",
   "metadata": {},
   "outputs": [
    {
     "name": "stdout",
     "output_type": "stream",
     "text": [
      "0\n",
      "1\n",
      "2\n",
      "3\n",
      "4\n"
     ]
    }
   ],
   "source": [
    "for idx in range(5):#[0,1,2,3,4]\n",
    "    print(idx)\n",
    "    idx +=5"
   ]
  },
  {
   "cell_type": "code",
   "execution_count": null,
   "id": "10610245",
   "metadata": {},
   "outputs": [],
   "source": [
    "L1=[5,2,8]\n",
    "L2 = [ element  for  element in L1  if element > 3]"
   ]
  },
  {
   "cell_type": "code",
   "execution_count": null,
   "id": "3923a3e4",
   "metadata": {},
   "outputs": [],
   "source": [
    "l2 = []\n",
    "for element in l1:\n",
    "    if element > 3:\n",
    "        l2.append(element)"
   ]
  },
  {
   "cell_type": "code",
   "execution_count": 15,
   "id": "7f70a1a3",
   "metadata": {},
   "outputs": [],
   "source": [
    "l1=[45,23,11,22,100]\n",
    "squares =[]"
   ]
  },
  {
   "cell_type": "code",
   "execution_count": 16,
   "id": "becdc23d",
   "metadata": {},
   "outputs": [],
   "source": [
    "for element in l1:\n",
    "    squares.append(element ** 2)"
   ]
  },
  {
   "cell_type": "code",
   "execution_count": 18,
   "id": "8202c6b7",
   "metadata": {},
   "outputs": [
    {
     "name": "stdout",
     "output_type": "stream",
     "text": [
      "[45, 23, 11, 22, 100]\n",
      "[2025, 529, 121, 484, 10000]\n"
     ]
    }
   ],
   "source": [
    "print(l1)\n",
    "print(squares)"
   ]
  },
  {
   "cell_type": "code",
   "execution_count": 19,
   "id": "c894e8ef",
   "metadata": {},
   "outputs": [
    {
     "name": "stdout",
     "output_type": "stream",
     "text": [
      "[2025, 529, 121, 484, 10000]\n"
     ]
    }
   ],
   "source": [
    "sq = [ element**2 for element in l1 ]\n",
    "print(sq)"
   ]
  },
  {
   "cell_type": "code",
   "execution_count": 26,
   "id": "7be2beae",
   "metadata": {},
   "outputs": [
    {
     "name": "stdout",
     "output_type": "stream",
     "text": [
      "[40, 1, 40, 2, 40] 5\n",
      "[40, 1, 40, 2, 40, 3] 6\n",
      "[1, 40, 2, 40, 3] 5\n",
      "[1, 2, 40, 3] 4\n"
     ]
    }
   ],
   "source": [
    "l1=[40,1,40,2,40]\n",
    "print(l1,len(l1))\n",
    "l1.append(3)\n",
    "print(l1,len(l1))\n",
    "l1.remove(40)\n",
    "print(l1,len(l1))\n",
    "del l1[1]\n",
    "print(l1,len(l1))"
   ]
  },
  {
   "cell_type": "code",
   "execution_count": 32,
   "id": "49d501c3",
   "metadata": {},
   "outputs": [
    {
     "name": "stdout",
     "output_type": "stream",
     "text": [
      "0 10\n",
      "[20, 30, 40, 50]\n",
      "1 30\n",
      "[20, 40, 50]\n",
      "2 50\n",
      "[20, 40]\n"
     ]
    }
   ],
   "source": [
    "l1=[10,20,30,40,50]\n",
    "for idx,element in enumerate(l1):\n",
    "    print(idx, element)\n",
    "    l1.remove(element)\n",
    "#     del l1[idx]\n",
    "    print(l1)"
   ]
  },
  {
   "cell_type": "markdown",
   "id": "0761303c",
   "metadata": {},
   "source": [
    "# List comprehension"
   ]
  },
  {
   "cell_type": "code",
   "execution_count": 23,
   "id": "a4a04929",
   "metadata": {},
   "outputs": [],
   "source": [
    "l1 = [90,98,67,65,43]\n",
    "l2 = [e**2 for e in l1]"
   ]
  },
  {
   "cell_type": "code",
   "execution_count": 24,
   "id": "0b93248d",
   "metadata": {},
   "outputs": [
    {
     "name": "stdout",
     "output_type": "stream",
     "text": [
      "[8100, 9604, 4489, 4225, 1849]\n"
     ]
    }
   ],
   "source": [
    "print(l2)"
   ]
  },
  {
   "cell_type": "code",
   "execution_count": 28,
   "id": "44b9d76b",
   "metadata": {},
   "outputs": [
    {
     "name": "stdout",
     "output_type": "stream",
     "text": [
      "[4489, 4225, 1849]\n",
      "[4489, 4225, 1849]\n",
      "[90.0, 98.0, 4489, 4225, 1849]\n"
     ]
    }
   ],
   "source": [
    "# select all elements from l2 which are less than 5000\n",
    "# and put in l3\n",
    "l3=[]\n",
    "for e in l2:\n",
    "    if e < 5000:\n",
    "        l3.append(e)\n",
    "print(l3)\n",
    "l3 = [ e for e in l2 if e < 5000 ]\n",
    "print(l3)\n",
    "# put square root of elements >= 5000 \n",
    "# and put the same element if element <5000\n",
    "import math\n",
    "l3 = [ e if e < 5000 else math.sqrt(e) for e in l2 ]\n",
    "print(l3)"
   ]
  },
  {
   "cell_type": "code",
   "execution_count": 29,
   "id": "37aa3e8d",
   "metadata": {},
   "outputs": [
    {
     "name": "stdout",
     "output_type": "stream",
     "text": [
      "[40, 23, 31, 32, 35, 22, 18]\n"
     ]
    }
   ],
   "source": [
    "# take a list of marks \n",
    "# select all marks which are >=16\n",
    "marks = [40,23,31,32,35,22,18,9]\n",
    "pass_list = [ m for m in marks if m>=16 ]\n",
    "print(pass_list)"
   ]
  },
  {
   "cell_type": "code",
   "execution_count": 30,
   "id": "6622810a",
   "metadata": {},
   "outputs": [
    {
     "name": "stdout",
     "output_type": "stream",
     "text": [
      "['p', 'p', 'p', 'p', 'p', 'p', 'p', 'f']\n"
     ]
    }
   ],
   "source": [
    "# take a list of marks \n",
    "# create a res list, put 'p' is marks >= 16 else put 'f' \n",
    "marks = [40,23,31,32,35,22,18,9]\n",
    "# ternary operator if else \n",
    "# true_value if condition else false_value  \n",
    "res = [ 'p' if m>=16 else 'f' for m in marks ]\n",
    "print(res)"
   ]
  },
  {
   "cell_type": "markdown",
   "id": "b00d8420",
   "metadata": {},
   "source": [
    "# Slicing in Lists"
   ]
  },
  {
   "cell_type": "code",
   "execution_count": 33,
   "id": "88e60bc3",
   "metadata": {},
   "outputs": [],
   "source": [
    "l1 = [10,20,30,40,50,60]    "
   ]
  },
  {
   "cell_type": "code",
   "execution_count": 34,
   "id": "17566389",
   "metadata": {},
   "outputs": [
    {
     "data": {
      "text/plain": [
       "[30, 40]"
      ]
     },
     "execution_count": 34,
     "metadata": {},
     "output_type": "execute_result"
    }
   ],
   "source": [
    "l1[2:4]"
   ]
  },
  {
   "cell_type": "code",
   "execution_count": 35,
   "id": "423621c7",
   "metadata": {},
   "outputs": [
    {
     "data": {
      "text/plain": [
       "[20, 30, 40, 50]"
      ]
     },
     "execution_count": 35,
     "metadata": {},
     "output_type": "execute_result"
    }
   ],
   "source": [
    "l1[-5:-1]"
   ]
  },
  {
   "cell_type": "code",
   "execution_count": 36,
   "id": "0c7d5d4a",
   "metadata": {},
   "outputs": [
    {
     "data": {
      "text/plain": [
       "[]"
      ]
     },
     "execution_count": 36,
     "metadata": {},
     "output_type": "execute_result"
    }
   ],
   "source": [
    "l1[0:0:1]"
   ]
  },
  {
   "cell_type": "code",
   "execution_count": 37,
   "id": "c409a25c",
   "metadata": {},
   "outputs": [
    {
     "data": {
      "text/plain": [
       "[]"
      ]
     },
     "execution_count": 37,
     "metadata": {},
     "output_type": "execute_result"
    }
   ],
   "source": [
    "l1[2:2:1]"
   ]
  },
  {
   "cell_type": "code",
   "execution_count": 38,
   "id": "773368b2",
   "metadata": {},
   "outputs": [
    {
     "data": {
      "text/plain": [
       "[]"
      ]
     },
     "execution_count": 38,
     "metadata": {},
     "output_type": "execute_result"
    }
   ],
   "source": [
    "l1[-1:-1:-1]"
   ]
  },
  {
   "cell_type": "code",
   "execution_count": 39,
   "id": "7039346d",
   "metadata": {},
   "outputs": [
    {
     "data": {
      "text/plain": [
       "[]"
      ]
     },
     "execution_count": 39,
     "metadata": {},
     "output_type": "execute_result"
    }
   ],
   "source": [
    "l1[4:1:1]"
   ]
  },
  {
   "cell_type": "code",
   "execution_count": 40,
   "id": "46e34bb4",
   "metadata": {},
   "outputs": [
    {
     "data": {
      "text/plain": [
       "[10]"
      ]
     },
     "execution_count": 40,
     "metadata": {},
     "output_type": "execute_result"
    }
   ],
   "source": [
    "l1[::200]"
   ]
  },
  {
   "cell_type": "code",
   "execution_count": 41,
   "id": "4e7cb1a9",
   "metadata": {},
   "outputs": [
    {
     "data": {
      "text/plain": [
       "[10, 20, 30, 40, 50, 60]"
      ]
     },
     "execution_count": 41,
     "metadata": {},
     "output_type": "execute_result"
    }
   ],
   "source": [
    "l1[:]"
   ]
  },
  {
   "cell_type": "code",
   "execution_count": 42,
   "id": "02c2580a",
   "metadata": {},
   "outputs": [
    {
     "data": {
      "text/plain": [
       "False"
      ]
     },
     "execution_count": 42,
     "metadata": {},
     "output_type": "execute_result"
    }
   ],
   "source": [
    "l1 is l1[:]"
   ]
  },
  {
   "cell_type": "code",
   "execution_count": 44,
   "id": "c1b7e43b",
   "metadata": {},
   "outputs": [
    {
     "data": {
      "text/plain": [
       "[60, 50, 40, 30, 20, 10]"
      ]
     },
     "execution_count": 44,
     "metadata": {},
     "output_type": "execute_result"
    }
   ],
   "source": [
    "l1[::-1]"
   ]
  },
  {
   "cell_type": "code",
   "execution_count": 45,
   "id": "2af8e78c",
   "metadata": {},
   "outputs": [
    {
     "data": {
      "text/plain": [
       "[10, 20, 30, 40, 50, 60]"
      ]
     },
     "execution_count": 45,
     "metadata": {},
     "output_type": "execute_result"
    }
   ],
   "source": [
    "l1"
   ]
  },
  {
   "cell_type": "code",
   "execution_count": 48,
   "id": "ed6dd6b7",
   "metadata": {},
   "outputs": [
    {
     "data": {
      "text/plain": [
       "[30, 60]"
      ]
     },
     "execution_count": 48,
     "metadata": {},
     "output_type": "execute_result"
    }
   ],
   "source": [
    "l1[2::-3]"
   ]
  },
  {
   "cell_type": "markdown",
   "id": "66f03467",
   "metadata": {},
   "source": [
    "# List within list"
   ]
  },
  {
   "cell_type": "code",
   "execution_count": 54,
   "id": "c518ca43",
   "metadata": {},
   "outputs": [],
   "source": [
    "l=[[34,12],[123,567,89],[0,[90]],100,900] "
   ]
  },
  {
   "cell_type": "code",
   "execution_count": 55,
   "id": "67921b2e",
   "metadata": {},
   "outputs": [
    {
     "data": {
      "text/plain": [
       "34"
      ]
     },
     "execution_count": 55,
     "metadata": {},
     "output_type": "execute_result"
    }
   ],
   "source": [
    "l[0][0]"
   ]
  },
  {
   "cell_type": "code",
   "execution_count": 56,
   "id": "fb3290ea",
   "metadata": {},
   "outputs": [
    {
     "data": {
      "text/plain": [
       "567"
      ]
     },
     "execution_count": 56,
     "metadata": {},
     "output_type": "execute_result"
    }
   ],
   "source": [
    "l[1][1]"
   ]
  },
  {
   "cell_type": "code",
   "execution_count": 58,
   "id": "131d85ad",
   "metadata": {},
   "outputs": [
    {
     "data": {
      "text/plain": [
       "90"
      ]
     },
     "execution_count": 58,
     "metadata": {},
     "output_type": "execute_result"
    }
   ],
   "source": [
    "l[2][1][0]"
   ]
  },
  {
   "cell_type": "markdown",
   "id": "7980cae1",
   "metadata": {},
   "source": [
    "# zip function"
   ]
  },
  {
   "cell_type": "code",
   "execution_count": 59,
   "id": "b38880cf",
   "metadata": {},
   "outputs": [
    {
     "name": "stdout",
     "output_type": "stream",
     "text": [
      "10 67\n",
      "20 78\n",
      "30 89\n"
     ]
    }
   ],
   "source": [
    "l1=[10,20,30]\n",
    "l2=[67,78,89]\n",
    "for e1,e2 in zip(l1,l2):\n",
    "    print(e1,e2)"
   ]
  },
  {
   "cell_type": "markdown",
   "id": "3bd57e16",
   "metadata": {},
   "source": [
    "# Remove duplicate elements"
   ]
  },
  {
   "cell_type": "code",
   "execution_count": 6,
   "id": "c8669394",
   "metadata": {},
   "outputs": [],
   "source": [
    "l1=[10,10,20,30,50,10]\n",
    "l2=[]\n",
    "for e in l1:\n",
    "    if e not in l2:\n",
    "        l2.append(e)"
   ]
  },
  {
   "cell_type": "code",
   "execution_count": 7,
   "id": "1af8d480",
   "metadata": {},
   "outputs": [
    {
     "name": "stdout",
     "output_type": "stream",
     "text": [
      "[10, 20, 30, 50]\n"
     ]
    }
   ],
   "source": [
    "print(l2)"
   ]
  },
  {
   "cell_type": "code",
   "execution_count": 25,
   "id": "61343069",
   "metadata": {},
   "outputs": [
    {
     "data": {
      "text/plain": [
       "[10, 20, 30, 40, 50, 10, 10, 10, 20, 30]"
      ]
     },
     "execution_count": 25,
     "metadata": {},
     "output_type": "execute_result"
    }
   ],
   "source": [
    "l1=[10,20,30,40,50,10,10]\n",
    "l2 = [10,20,30]\n",
    "l1 + l2"
   ]
  },
  {
   "cell_type": "code",
   "execution_count": 12,
   "id": "69432200",
   "metadata": {},
   "outputs": [],
   "source": [
    "l1=[10,10,20,30,50,10]\n",
    "for e in l1.copy():\n",
    "    cnt = l1.count(e)\n",
    "    if cnt > 1:\n",
    "        l1.remove(e)"
   ]
  },
  {
   "cell_type": "code",
   "execution_count": 13,
   "id": "29cb9b64",
   "metadata": {},
   "outputs": [
    {
     "name": "stdout",
     "output_type": "stream",
     "text": [
      "[20, 30, 50, 10]\n"
     ]
    }
   ],
   "source": [
    "print(l1)"
   ]
  },
  {
   "cell_type": "code",
   "execution_count": null,
   "id": "b39da3dc",
   "metadata": {},
   "outputs": [],
   "source": []
  },
  {
   "cell_type": "markdown",
   "id": "0ef47559",
   "metadata": {},
   "source": [
    "# Packing and Un packing"
   ]
  },
  {
   "cell_type": "code",
   "execution_count": 7,
   "id": "1f1bed53",
   "metadata": {},
   "outputs": [
    {
     "name": "stdout",
     "output_type": "stream",
     "text": [
      "10 45\n"
     ]
    }
   ],
   "source": [
    "x,y=[10,45] # unpacking\n",
    "print(x,y)"
   ]
  },
  {
   "cell_type": "code",
   "execution_count": 4,
   "id": "52fd2de7",
   "metadata": {},
   "outputs": [],
   "source": [
    "rollnos = [1,2,3,4,5,6,7] #packing\n",
    "rollnos_1 = [23,45]\n",
    "f1,f2,*f = rollnos_1\n"
   ]
  },
  {
   "cell_type": "code",
   "execution_count": 5,
   "id": "29314604",
   "metadata": {},
   "outputs": [
    {
     "name": "stdout",
     "output_type": "stream",
     "text": [
      "23 45\n"
     ]
    }
   ],
   "source": [
    "print(f1,f2)"
   ]
  },
  {
   "cell_type": "code",
   "execution_count": 3,
   "id": "655ca704",
   "metadata": {},
   "outputs": [
    {
     "data": {
      "text/plain": [
       "[3, 4, 5, 6, 7]"
      ]
     },
     "execution_count": 3,
     "metadata": {},
     "output_type": "execute_result"
    }
   ],
   "source": [
    "f"
   ]
  },
  {
   "cell_type": "code",
   "execution_count": 6,
   "id": "8a48f56d",
   "metadata": {},
   "outputs": [
    {
     "name": "stdout",
     "output_type": "stream",
     "text": [
      "10 89\n"
     ]
    }
   ],
   "source": [
    "ranking = [10,45,67,89]\n",
    "first,*rest,last = ranking\n",
    "print(first,last)"
   ]
  },
  {
   "cell_type": "markdown",
   "id": "ae847781",
   "metadata": {},
   "source": [
    "# Sorted"
   ]
  },
  {
   "cell_type": "code",
   "execution_count": 9,
   "id": "3eaea287",
   "metadata": {},
   "outputs": [
    {
     "name": "stdout",
     "output_type": "stream",
     "text": [
      "Return a new list containing all items from the iterable in ascending order.\n",
      "\n",
      "A custom key function can be supplied to customize the sort order, and the\n",
      "reverse flag can be set to request the result in descending order.\n"
     ]
    }
   ],
   "source": [
    "print(sorted.__doc__)"
   ]
  },
  {
   "cell_type": "code",
   "execution_count": 11,
   "id": "2dc7f423",
   "metadata": {},
   "outputs": [
    {
     "name": "stdout",
     "output_type": "stream",
     "text": [
      "After sorting: [5, 11, 23, 45, 101, 201, 301, 405]\n",
      "Original after sorting [101, 201, 301, 405, 11, 5, 45, 23]\n"
     ]
    }
   ],
   "source": [
    "itemids=[101,201,301,405,11,5,45,23]\n",
    "print(\"After sorting:\",sorted(itemids)) # returns copy of sorted list\n",
    "print(\"Original after sorting\", itemids)"
   ]
  },
  {
   "cell_type": "code",
   "execution_count": 12,
   "id": "a84ca18f",
   "metadata": {},
   "outputs": [
    {
     "name": "stdout",
     "output_type": "stream",
     "text": [
      "After sorting: [5, 11, 23, 45, 101, 201, 301, 405]\n",
      "Original after sorting [5, 11, 23, 45, 101, 201, 301, 405]\n"
     ]
    }
   ],
   "source": [
    "itemids=[101,201,301,405,11,5,45,23]\n",
    "itemids = sorted(itemids)\n",
    "print(\"After sorting:\",itemids) # returns copy of sorted list\n",
    "print(\"Original after sorting\", itemids)"
   ]
  },
  {
   "cell_type": "code",
   "execution_count": 13,
   "id": "c38ece35",
   "metadata": {},
   "outputs": [
    {
     "name": "stdout",
     "output_type": "stream",
     "text": [
      "[405, 301, 201, 101, 45, 23, 11, 5]\n"
     ]
    }
   ],
   "source": [
    "itemids=[101,201,301,405,11,5,45,23]\n",
    "print(sorted(itemids,reverse=True))"
   ]
  },
  {
   "cell_type": "code",
   "execution_count": 16,
   "id": "2f6520e1",
   "metadata": {},
   "outputs": [
    {
     "name": "stdout",
     "output_type": "stream",
     "text": [
      "[405.11, 301, 201.23, 101, 45, 23, 11.00000001, 5]\n"
     ]
    }
   ],
   "source": [
    "itemids=[101,201.23,301,405.11,11.00000001,5,45,23]\n",
    "print(sorted(itemids,reverse=True))"
   ]
  },
  {
   "cell_type": "code",
   "execution_count": 17,
   "id": "a4038de1",
   "metadata": {},
   "outputs": [
    {
     "data": {
      "text/plain": [
       "['aa', 'bigdata', 'dbms', 'lcc', 'ml', 'python']"
      ]
     },
     "execution_count": 17,
     "metadata": {},
     "output_type": "execute_result"
    }
   ],
   "source": [
    "names=['lcc','dbms','python','bigdata','ml','aa']\n",
    "sorted(names)"
   ]
  },
  {
   "cell_type": "code",
   "execution_count": 20,
   "id": "69571af0",
   "metadata": {},
   "outputs": [
    {
     "data": {
      "text/plain": [
       "[[30, 40], [30, 40, 100], [30, 60], [40, 20]]"
      ]
     },
     "execution_count": 20,
     "metadata": {},
     "output_type": "execute_result"
    }
   ],
   "source": [
    "l_l=[[40,20],[30,40],[30,40,100],[30,60]] # list comparison\n",
    "sorted(l_l)"
   ]
  },
  {
   "cell_type": "code",
   "execution_count": 15,
   "id": "b4ffee0f",
   "metadata": {},
   "outputs": [
    {
     "ename": "TypeError",
     "evalue": "'<' not supported between instances of 'str' and 'int'",
     "output_type": "error",
     "traceback": [
      "\u001b[1;31m---------------------------------------------------------------------------\u001b[0m",
      "\u001b[1;31mTypeError\u001b[0m                                 Traceback (most recent call last)",
      "Cell \u001b[1;32mIn[15], line 2\u001b[0m\n\u001b[0;32m      1\u001b[0m itemids\u001b[38;5;241m=\u001b[39m[\u001b[38;5;241m101\u001b[39m,\u001b[38;5;124m'\u001b[39m\u001b[38;5;124m201\u001b[39m\u001b[38;5;124m'\u001b[39m,\u001b[38;5;241m301\u001b[39m,\u001b[38;5;124m'\u001b[39m\u001b[38;5;124m405\u001b[39m\u001b[38;5;124m'\u001b[39m,\u001b[38;5;241m11\u001b[39m,\u001b[38;5;124m'\u001b[39m\u001b[38;5;124m5\u001b[39m\u001b[38;5;124m'\u001b[39m,\u001b[38;5;241m45\u001b[39m,\u001b[38;5;241m23\u001b[39m]\n\u001b[1;32m----> 2\u001b[0m \u001b[38;5;28mprint\u001b[39m(\u001b[38;5;28msorted\u001b[39m(itemids,reverse\u001b[38;5;241m=\u001b[39m\u001b[38;5;28;01mTrue\u001b[39;00m))\n",
      "\u001b[1;31mTypeError\u001b[0m: '<' not supported between instances of 'str' and 'int'"
     ]
    }
   ],
   "source": [
    "itemids=[101,'201',301,'405',11,'5',45,23]\n",
    "print(sorted(itemids,reverse=True))"
   ]
  },
  {
   "cell_type": "code",
   "execution_count": 14,
   "id": "df9ca515",
   "metadata": {},
   "outputs": [
    {
     "ename": "TypeError",
     "evalue": "'<' not supported between instances of 'list' and 'int'",
     "output_type": "error",
     "traceback": [
      "\u001b[1;31m---------------------------------------------------------------------------\u001b[0m",
      "\u001b[1;31mTypeError\u001b[0m                                 Traceback (most recent call last)",
      "Cell \u001b[1;32mIn[14], line 3\u001b[0m\n\u001b[0;32m      1\u001b[0m \u001b[38;5;66;03m# list within list\u001b[39;00m\n\u001b[0;32m      2\u001b[0m itemids\u001b[38;5;241m=\u001b[39m[[\u001b[38;5;241m101\u001b[39m,\u001b[38;5;241m201\u001b[39m],\u001b[38;5;241m301\u001b[39m,\u001b[38;5;241m405\u001b[39m,\u001b[38;5;241m11\u001b[39m,\u001b[38;5;241m5\u001b[39m,\u001b[38;5;241m45\u001b[39m,\u001b[38;5;241m23\u001b[39m]\n\u001b[1;32m----> 3\u001b[0m \u001b[38;5;28mprint\u001b[39m(\u001b[38;5;28msorted\u001b[39m(itemids,reverse\u001b[38;5;241m=\u001b[39m\u001b[38;5;28;01mTrue\u001b[39;00m))\n",
      "\u001b[1;31mTypeError\u001b[0m: '<' not supported between instances of 'list' and 'int'"
     ]
    }
   ],
   "source": [
    "# list within list\n",
    "itemids=[[101,201],301,405,11,5,45,23]\n",
    "print(sorted(itemids,reverse=True))"
   ]
  },
  {
   "cell_type": "markdown",
   "id": "d3be9273",
   "metadata": {},
   "source": [
    "# How lists are compared\n",
    "lexicographical ordering"
   ]
  },
  {
   "cell_type": "code",
   "execution_count": 21,
   "id": "402d1a65",
   "metadata": {},
   "outputs": [
    {
     "data": {
      "text/plain": [
       "[[30, 40], [30, 40, 100], [30, 60], [40, 20]]"
      ]
     },
     "execution_count": 21,
     "metadata": {},
     "output_type": "execute_result"
    }
   ],
   "source": [
    "l_l=[[40,20],[30,40],[30,40,100],[30,60]] # list comparison\n",
    "sorted(l_l)"
   ]
  },
  {
   "cell_type": "code",
   "execution_count": null,
   "id": "d5de13f4",
   "metadata": {},
   "outputs": [],
   "source": []
  },
  {
   "cell_type": "markdown",
   "id": "c13ad022",
   "metadata": {},
   "source": [
    "# Practice"
   ]
  },
  {
   "cell_type": "code",
   "execution_count": 16,
   "id": "1c0936bd",
   "metadata": {},
   "outputs": [
    {
     "name": "stdout",
     "output_type": "stream",
     "text": [
      "[78, 34, 33, 21, 55, 66, 25, 15, 105]\n",
      "[55, 25, 15, 105]\n",
      "[33, 55, 66]\n"
     ]
    }
   ],
   "source": [
    "# WAP to create 2 lists from given list\n",
    "# in first list put all elements divisible by 5\n",
    "# in second list put all elements divisible by 11\n",
    "l1= [78,34,33,21,55,66,25,15,105]\n",
    "l5=[]\n",
    "l11=[]\n",
    "for e in l1:\n",
    "    if e % 5 == 0:\n",
    "        l5.append(e)\n",
    "    if e%11 == 0:\n",
    "        l11.append(e)\n",
    "print(l1)\n",
    "print(l5)\n",
    "print(l11)"
   ]
  },
  {
   "cell_type": "markdown",
   "id": "2c981266",
   "metadata": {},
   "source": [
    "Armstrong Number.\n",
    "    It is a number with 'n' digits. Here (sum of every digit ^ n) equal to ( number itself)\n",
    "\n",
    "    1) 1^3 5^3 3^3=153 ( here number of digits(n) is 3)\n",
    "    2) 1^1 = 1 ( here number of digits is 1)\n",
    "    3) 1634 = 1^4 + 6^4 + 3^4 + 4^4 ( here number of digits is 4)"
   ]
  },
  {
   "cell_type": "code",
   "execution_count": 21,
   "id": "1f0bccf5",
   "metadata": {},
   "outputs": [
    {
     "name": "stdout",
     "output_type": "stream",
     "text": [
      "Enter a number1634\n",
      "1634\n"
     ]
    }
   ],
   "source": [
    "# C type code\n",
    "num= input(\"Enter a number\")\n",
    "num_digits=len(num)\n",
    "num_int = int(num)\n",
    "total = 0\n",
    "while(num_int>0):\n",
    "    digit = num_int %10\n",
    "    total += digit ** num_digits\n",
    "    num_int=num_int // 10\n",
    "print(total)"
   ]
  },
  {
   "cell_type": "code",
   "execution_count": 23,
   "id": "a3607824",
   "metadata": {},
   "outputs": [
    {
     "name": "stdout",
     "output_type": "stream",
     "text": [
      "Enter a number153\n",
      "153\n"
     ]
    }
   ],
   "source": [
    "# python\n",
    "num= input(\"Enter a number\")\n",
    "num_digits=len(num)\n",
    "total = 0\n",
    "for digit in num:\n",
    "    total = total + int(digit) ** num_digits\n",
    "print(total)"
   ]
  },
  {
   "cell_type": "code",
   "execution_count": 26,
   "id": "53f5dcbf",
   "metadata": {
    "scrolled": true
   },
   "outputs": [
    {
     "ename": "TypeError",
     "evalue": "can only assign an iterable",
     "output_type": "error",
     "traceback": [
      "\u001b[1;31m---------------------------------------------------------------------------\u001b[0m",
      "\u001b[1;31mTypeError\u001b[0m                                 Traceback (most recent call last)",
      "Cell \u001b[1;32mIn[26], line 2\u001b[0m\n\u001b[0;32m      1\u001b[0m l1 \u001b[38;5;241m=\u001b[39m [\u001b[38;5;241m10\u001b[39m,\u001b[38;5;241m20\u001b[39m,\u001b[38;5;241m30\u001b[39m]\n\u001b[1;32m----> 2\u001b[0m l1[:\u001b[38;5;241m2\u001b[39m] \u001b[38;5;241m=\u001b[39m \u001b[38;5;241m0\u001b[39m\n",
      "\u001b[1;31mTypeError\u001b[0m: can only assign an iterable"
     ]
    }
   ],
   "source": [
    "l1 = [10,20,30]\n",
    "l1[:2] = 0"
   ]
  },
  {
   "cell_type": "code",
   "execution_count": null,
   "id": "4e852b27",
   "metadata": {},
   "outputs": [],
   "source": []
  }
 ],
 "metadata": {
  "kernelspec": {
   "display_name": "Python 3 (ipykernel)",
   "language": "python",
   "name": "python3"
  },
  "language_info": {
   "codemirror_mode": {
    "name": "ipython",
    "version": 3
   },
   "file_extension": ".py",
   "mimetype": "text/x-python",
   "name": "python",
   "nbconvert_exporter": "python",
   "pygments_lexer": "ipython3",
   "version": "3.11.4"
  }
 },
 "nbformat": 4,
 "nbformat_minor": 5
}
