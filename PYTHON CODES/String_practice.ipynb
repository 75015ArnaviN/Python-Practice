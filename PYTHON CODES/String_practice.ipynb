{
 "cells": [
  {
   "cell_type": "code",
   "execution_count": 1,
   "id": "28d57e5c",
   "metadata": {},
   "outputs": [
    {
     "name": "stdout",
     "output_type": "stream",
     "text": [
      "str(object='') -> str\n",
      "str(bytes_or_buffer[, encoding[, errors]]) -> str\n",
      "\n",
      "Create a new string object from the given object. If encoding or\n",
      "errors is specified, then the object must expose a data buffer\n",
      "that will be decoded using the given encoding and error handler.\n",
      "Otherwise, returns the result of object.__str__() (if defined)\n",
      "or repr(object).\n",
      "encoding defaults to sys.getdefaultencoding().\n",
      "errors defaults to 'strict'.\n"
     ]
    }
   ],
   "source": [
    "print(str.__doc__)"
   ]
  },
  {
   "cell_type": "code",
   "execution_count": 2,
   "id": "250ea98c",
   "metadata": {},
   "outputs": [
    {
     "data": {
      "text/plain": [
       "'10'"
      ]
     },
     "execution_count": 2,
     "metadata": {},
     "output_type": "execute_result"
    }
   ],
   "source": [
    "str(10)"
   ]
  },
  {
   "cell_type": "code",
   "execution_count": 3,
   "id": "65063460",
   "metadata": {},
   "outputs": [
    {
     "data": {
      "text/plain": [
       "'99.99'"
      ]
     },
     "execution_count": 3,
     "metadata": {},
     "output_type": "execute_result"
    }
   ],
   "source": [
    "str(99.99)"
   ]
  },
  {
   "cell_type": "code",
   "execution_count": 4,
   "id": "34e749d0",
   "metadata": {},
   "outputs": [
    {
     "data": {
      "text/plain": [
       "'[90, 67, 45]'"
      ]
     },
     "execution_count": 4,
     "metadata": {},
     "output_type": "execute_result"
    }
   ],
   "source": [
    "str([90,67,45])"
   ]
  },
  {
   "cell_type": "code",
   "execution_count": 5,
   "id": "9b74ef3c",
   "metadata": {},
   "outputs": [
    {
     "name": "stdout",
     "output_type": "stream",
     "text": [
      "DYPatilCollege of enggPune\n"
     ]
    }
   ],
   "source": [
    "college = \"DYPatil\" \"College of engg\" \"Pune\"\n",
    "print(college)"
   ]
  },
  {
   "cell_type": "markdown",
   "id": "0280e052",
   "metadata": {},
   "source": [
    "# raw string"
   ]
  },
  {
   "cell_type": "code",
   "execution_count": 7,
   "id": "cf90232f",
   "metadata": {},
   "outputs": [
    {
     "name": "stdout",
     "output_type": "stream",
     "text": [
      "Sept\n",
      "2023\n",
      "Sept\\n2023\n"
     ]
    }
   ],
   "source": [
    "batch=\"Sept\\n2023\"\n",
    "print(batch)\n",
    "raw_batch=r\"Sept\\n2023\"\n",
    "print(raw_batch)"
   ]
  },
  {
   "cell_type": "markdown",
   "id": "30719ec5",
   "metadata": {},
   "source": [
    "# string copy by assignment"
   ]
  },
  {
   "cell_type": "code",
   "execution_count": 8,
   "id": "14c43f49",
   "metadata": {},
   "outputs": [],
   "source": [
    "s1=\"DBDA\"\n",
    "s2 = s1"
   ]
  },
  {
   "cell_type": "code",
   "execution_count": 9,
   "id": "8ba97ad8",
   "metadata": {},
   "outputs": [
    {
     "name": "stdout",
     "output_type": "stream",
     "text": [
      "DBDA DBDA\n"
     ]
    }
   ],
   "source": [
    "print(s1,s2)"
   ]
  },
  {
   "cell_type": "code",
   "execution_count": 10,
   "id": "4a97279b",
   "metadata": {},
   "outputs": [
    {
     "data": {
      "text/plain": [
       "True"
      ]
     },
     "execution_count": 10,
     "metadata": {},
     "output_type": "execute_result"
    }
   ],
   "source": [
    "s1 is s2"
   ]
  },
  {
   "cell_type": "markdown",
   "id": "4b4e0477",
   "metadata": {},
   "source": [
    "# String comparison"
   ]
  },
  {
   "cell_type": "code",
   "execution_count": 11,
   "id": "27a7356c",
   "metadata": {},
   "outputs": [
    {
     "data": {
      "text/plain": [
       "True"
      ]
     },
     "execution_count": 11,
     "metadata": {},
     "output_type": "execute_result"
    }
   ],
   "source": [
    "s1=\"DBDA\"\n",
    "s2=\"ditiss\"\n",
    "s1 < s2 # lexicographical ordering"
   ]
  },
  {
   "cell_type": "code",
   "execution_count": 12,
   "id": "1b16d8d0",
   "metadata": {},
   "outputs": [
    {
     "data": {
      "text/plain": [
       "True"
      ]
     },
     "execution_count": 12,
     "metadata": {},
     "output_type": "execute_result"
    }
   ],
   "source": [
    "s1=\"dbda\"\n",
    "s2=\"ditiss\"\n",
    "s1 < s2 # lexicographical ordering"
   ]
  },
  {
   "cell_type": "code",
   "execution_count": 13,
   "id": "1f3be85b",
   "metadata": {},
   "outputs": [
    {
     "data": {
      "text/plain": [
       "False"
      ]
     },
     "execution_count": 13,
     "metadata": {},
     "output_type": "execute_result"
    }
   ],
   "source": [
    "s1=\"dbda\"\n",
    "s2=\"dac\"\n",
    "s1 < s2 # lexicographical ordering"
   ]
  },
  {
   "cell_type": "code",
   "execution_count": 16,
   "id": "1edfecbb",
   "metadata": {},
   "outputs": [
    {
     "data": {
      "text/plain": [
       "('     IACSD     ', '*****IACSD*****')"
      ]
     },
     "execution_count": 16,
     "metadata": {},
     "output_type": "execute_result"
    }
   ],
   "source": [
    "s1=\"IACSD\"\n",
    "s1.center(15),s1.center(15,'*') "
   ]
  },
  {
   "cell_type": "code",
   "execution_count": 2,
   "id": "d5c60794",
   "metadata": {},
   "outputs": [
    {
     "data": {
      "text/plain": [
       "(2, 1)"
      ]
     },
     "execution_count": 2,
     "metadata": {},
     "output_type": "execute_result"
    }
   ],
   "source": [
    "s1=\"CDAC ACTS\"\n",
    "s1.count(\"AC\"),s1.count('T')"
   ]
  },
  {
   "cell_type": "code",
   "execution_count": 20,
   "id": "5f5e14f9",
   "metadata": {},
   "outputs": [
    {
     "data": {
      "text/plain": [
       "(True, True)"
      ]
     },
     "execution_count": 20,
     "metadata": {},
     "output_type": "execute_result"
    }
   ],
   "source": [
    "s1=\"saw\"\n",
    "s1.endswith('w'),s1.endswith('aw')"
   ]
  },
  {
   "cell_type": "code",
   "execution_count": 23,
   "id": "5e4afa20",
   "metadata": {},
   "outputs": [
    {
     "data": {
      "text/plain": [
       "(0, 5, -1)"
      ]
     },
     "execution_count": 23,
     "metadata": {},
     "output_type": "execute_result"
    }
   ],
   "source": [
    "s1=\"CDAC ACTS\"\n",
    "s1.find('C'),s1.find(\"ACT\"),s1.find(\"IACSD\")"
   ]
  },
  {
   "cell_type": "code",
   "execution_count": 29,
   "id": "bee33b38",
   "metadata": {},
   "outputs": [
    {
     "data": {
      "text/plain": [
       "(True, False, False)"
      ]
     },
     "execution_count": 29,
     "metadata": {},
     "output_type": "execute_result"
    }
   ],
   "source": [
    "title=\"My Poem\" # title case\n",
    "title1=\"CDAC Center\"\n",
    "title2=\"Cdac center\"\n",
    "title.istitle(), title1.istitle(),title2.istitle()"
   ]
  },
  {
   "cell_type": "code",
   "execution_count": 7,
   "id": "75f6f80f",
   "metadata": {},
   "outputs": [
    {
     "data": {
      "text/plain": [
       "(('10', ',', '20,30'), ('10,20,30', '', ''))"
      ]
     },
     "execution_count": 7,
     "metadata": {},
     "output_type": "execute_result"
    }
   ],
   "source": [
    "s1=\"10,20,30\"\n",
    "s1.partition(\",\"),s1.partition('.')"
   ]
  },
  {
   "cell_type": "code",
   "execution_count": 32,
   "id": "8fefb357",
   "metadata": {},
   "outputs": [
    {
     "data": {
      "text/plain": [
       "(('10,20', ',', '30'), ('', '', '10,20,30'))"
      ]
     },
     "execution_count": 32,
     "metadata": {},
     "output_type": "execute_result"
    }
   ],
   "source": [
    "s1=\"10,20,30\"\n",
    "s1.rpartition(\",\"),s1.rpartition('.')"
   ]
  },
  {
   "cell_type": "markdown",
   "id": "0deb1ab4",
   "metadata": {},
   "source": [
    "# Split and join functions"
   ]
  },
  {
   "cell_type": "code",
   "execution_count": 34,
   "id": "ffc462c6",
   "metadata": {},
   "outputs": [
    {
     "data": {
      "text/plain": [
       "['10', '20', '30']"
      ]
     },
     "execution_count": 34,
     "metadata": {},
     "output_type": "execute_result"
    }
   ],
   "source": [
    "s1=\"10,20,30\"\n",
    "s1.split(\",\")"
   ]
  },
  {
   "cell_type": "code",
   "execution_count": 35,
   "id": "cc40470b",
   "metadata": {},
   "outputs": [
    {
     "data": {
      "text/plain": [
       "['10', '', '20', '30']"
      ]
     },
     "execution_count": 35,
     "metadata": {},
     "output_type": "execute_result"
    }
   ],
   "source": [
    "s1=\"10,,20,30\"\n",
    "s1.split(\",\")"
   ]
  },
  {
   "cell_type": "code",
   "execution_count": 10,
   "id": "11f295dc",
   "metadata": {},
   "outputs": [],
   "source": [
    "sent=\"This is a sentence We will convert it to words\"\n",
    "words = sent.split()"
   ]
  },
  {
   "cell_type": "code",
   "execution_count": 11,
   "id": "1d9852c7",
   "metadata": {},
   "outputs": [
    {
     "name": "stdout",
     "output_type": "stream",
     "text": [
      "<class 'list'>\n"
     ]
    }
   ],
   "source": [
    "print(words)"
   ]
  },
  {
   "cell_type": "code",
   "execution_count": 38,
   "id": "5fd86a8e",
   "metadata": {},
   "outputs": [
    {
     "data": {
      "text/plain": [
       "['1', '2', '3']"
      ]
     },
     "execution_count": 38,
     "metadata": {},
     "output_type": "execute_result"
    }
   ],
   "source": [
    "'1<>2<>3'.split('<>') "
   ]
  },
  {
   "cell_type": "code",
   "execution_count": 39,
   "id": "f74dd072",
   "metadata": {},
   "outputs": [
    {
     "data": {
      "text/plain": [
       "[\"10.10.10.2,'This is a n/w packet',345\"]"
      ]
     },
     "execution_count": 39,
     "metadata": {},
     "output_type": "execute_result"
    }
   ],
   "source": [
    "# common mistake in split\n",
    "log=\"10.10.10.2,'This is a n/w packet',345\"\n",
    "log.split(\",.\") # Wrong output"
   ]
  },
  {
   "cell_type": "code",
   "execution_count": 42,
   "id": "bf3a1480",
   "metadata": {},
   "outputs": [
    {
     "data": {
      "text/plain": [
       "(['s', 'q', '1', '3'], [], [])"
      ]
     },
     "execution_count": 42,
     "metadata": {},
     "output_type": "execute_result"
    }
   ],
   "source": [
    "\"s q  1   3\".split(), \"\".split(), \"           \".split()"
   ]
  },
  {
   "cell_type": "code",
   "execution_count": 44,
   "id": "c2b87747",
   "metadata": {},
   "outputs": [
    {
     "name": "stdout",
     "output_type": "stream",
     "text": [
      "10 20 30 ['10', '20', '30']\n"
     ]
    }
   ],
   "source": [
    "s1=\"10,20,30\"\n",
    "num_list= s1.split(\",\")\n",
    "num_str=\" \".join(num_list)\n",
    "print(num_str,num_list)"
   ]
  },
  {
   "cell_type": "markdown",
   "id": "0ae424ff",
   "metadata": {},
   "source": [
    "# zfill"
   ]
  },
  {
   "cell_type": "code",
   "execution_count": 15,
   "id": "4d5bd2f6",
   "metadata": {},
   "outputs": [
    {
     "data": {
      "text/plain": [
       "'12345'"
      ]
     },
     "execution_count": 15,
     "metadata": {},
     "output_type": "execute_result"
    }
   ],
   "source": [
    "acno=\"12345\"\n",
    "acno.zfill(7)"
   ]
  },
  {
   "cell_type": "code",
   "execution_count": null,
   "id": "1088083e",
   "metadata": {},
   "outputs": [],
   "source": []
  }
 ],
 "metadata": {
  "kernelspec": {
   "display_name": "Python 3 (ipykernel)",
   "language": "python",
   "name": "python3"
  },
  "language_info": {
   "codemirror_mode": {
    "name": "ipython",
    "version": 3
   },
   "file_extension": ".py",
   "mimetype": "text/x-python",
   "name": "python",
   "nbconvert_exporter": "python",
   "pygments_lexer": "ipython3",
   "version": "3.11.4"
  }
 },
 "nbformat": 4,
 "nbformat_minor": 5
}
