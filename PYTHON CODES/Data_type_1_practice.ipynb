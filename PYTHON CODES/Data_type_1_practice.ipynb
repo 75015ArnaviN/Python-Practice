{
 "cells": [
  {
   "cell_type": "code",
   "execution_count": 1,
   "id": "f9b8749d",
   "metadata": {},
   "outputs": [],
   "source": [
    "import sys"
   ]
  },
  {
   "cell_type": "code",
   "execution_count": 14,
   "id": "1d2ad94a",
   "metadata": {},
   "outputs": [],
   "source": [
    "num=10"
   ]
  },
  {
   "cell_type": "code",
   "execution_count": 15,
   "id": "13a4b37c",
   "metadata": {},
   "outputs": [
    {
     "data": {
      "text/plain": [
       "140725441369160"
      ]
     },
     "execution_count": 15,
     "metadata": {},
     "output_type": "execute_result"
    }
   ],
   "source": [
    "id(num)"
   ]
  },
  {
   "cell_type": "code",
   "execution_count": 3,
   "id": "2ffa13bc",
   "metadata": {},
   "outputs": [
    {
     "data": {
      "text/plain": [
       "28"
      ]
     },
     "execution_count": 3,
     "metadata": {},
     "output_type": "execute_result"
    }
   ],
   "source": [
    "sys.getsizeof(num) #bytes"
   ]
  },
  {
   "cell_type": "code",
   "execution_count": 16,
   "id": "daded163",
   "metadata": {},
   "outputs": [],
   "source": [
    "num=100000000000000000000000000000"
   ]
  },
  {
   "cell_type": "code",
   "execution_count": 17,
   "id": "4d69c036",
   "metadata": {},
   "outputs": [
    {
     "data": {
      "text/plain": [
       "1934835521776"
      ]
     },
     "execution_count": 17,
     "metadata": {},
     "output_type": "execute_result"
    }
   ],
   "source": [
    "id(num)"
   ]
  },
  {
   "cell_type": "code",
   "execution_count": 5,
   "id": "1aff93e2",
   "metadata": {},
   "outputs": [
    {
     "data": {
      "text/plain": [
       "40"
      ]
     },
     "execution_count": 5,
     "metadata": {},
     "output_type": "execute_result"
    }
   ],
   "source": [
    "sys.getsizeof(num) #bytes"
   ]
  },
  {
   "cell_type": "code",
   "execution_count": 6,
   "id": "ad60d4ba",
   "metadata": {},
   "outputs": [],
   "source": [
    "num=0"
   ]
  },
  {
   "cell_type": "code",
   "execution_count": 7,
   "id": "32a28ca3",
   "metadata": {},
   "outputs": [
    {
     "data": {
      "text/plain": [
       "28"
      ]
     },
     "execution_count": 7,
     "metadata": {},
     "output_type": "execute_result"
    }
   ],
   "source": [
    "sys.getsizeof(num) #bytes"
   ]
  },
  {
   "cell_type": "code",
   "execution_count": 8,
   "id": "55d6b078",
   "metadata": {},
   "outputs": [],
   "source": [
    "area=56.34"
   ]
  },
  {
   "cell_type": "code",
   "execution_count": 9,
   "id": "e6e86622",
   "metadata": {},
   "outputs": [
    {
     "data": {
      "text/plain": [
       "24"
      ]
     },
     "execution_count": 9,
     "metadata": {},
     "output_type": "execute_result"
    }
   ],
   "source": [
    "sys.getsizeof(area)"
   ]
  },
  {
   "cell_type": "code",
   "execution_count": 12,
   "id": "198677ff",
   "metadata": {},
   "outputs": [
    {
     "data": {
      "text/plain": [
       "49"
      ]
     },
     "execution_count": 12,
     "metadata": {},
     "output_type": "execute_result"
    }
   ],
   "source": [
    "name=\"\"\n",
    "sys.getsizeof(name)"
   ]
  },
  {
   "cell_type": "markdown",
   "id": "8a34c500",
   "metadata": {},
   "source": [
    "# Interning of int values"
   ]
  },
  {
   "cell_type": "code",
   "execution_count": 19,
   "id": "e88bc064",
   "metadata": {},
   "outputs": [
    {
     "name": "stdout",
     "output_type": "stream",
     "text": [
      "value of i 10 id of i is 140725441369160\n",
      "value of j 10 id of j is 140725441369160\n",
      "value of i 20 id of i is 140725441369480\n",
      "value of i 20  value of j 10\n"
     ]
    }
   ],
   "source": [
    "i=10\n",
    "print(\"value of i\", i,\"id of i is\", id(i))\n",
    "j=10\n",
    "print(\"value of j\", j,\"id of j is\", id(j))\n",
    "i=20\n",
    "print(\"value of i\", i,\"id of i is\", id(i))\n",
    "print(\"value of i\", i, \" value of j\", j)"
   ]
  },
  {
   "cell_type": "markdown",
   "id": "b6b8b024",
   "metadata": {},
   "source": [
    "# Size of int in python"
   ]
  },
  {
   "cell_type": "code",
   "execution_count": 20,
   "id": "86d0e0cc",
   "metadata": {},
   "outputs": [
    {
     "data": {
      "text/plain": [
       "28"
      ]
     },
     "execution_count": 20,
     "metadata": {},
     "output_type": "execute_result"
    }
   ],
   "source": [
    "total=0\n",
    "sys.getsizeof(total)"
   ]
  },
  {
   "cell_type": "code",
   "execution_count": 21,
   "id": "c20b0570",
   "metadata": {},
   "outputs": [
    {
     "data": {
      "text/plain": [
       "32"
      ]
     },
     "execution_count": 21,
     "metadata": {},
     "output_type": "execute_result"
    }
   ],
   "source": [
    "total=2 ** 30\n",
    "sys.getsizeof(total)"
   ]
  },
  {
   "cell_type": "code",
   "execution_count": 22,
   "id": "b9b71068",
   "metadata": {},
   "outputs": [
    {
     "data": {
      "text/plain": [
       "36"
      ]
     },
     "execution_count": 22,
     "metadata": {},
     "output_type": "execute_result"
    }
   ],
   "source": [
    "total=2 ** 60\n",
    "sys.getsizeof(total)"
   ]
  },
  {
   "cell_type": "code",
   "execution_count": 23,
   "id": "41941cee",
   "metadata": {},
   "outputs": [
    {
     "data": {
      "text/plain": [
       "0.3333333333333333"
      ]
     },
     "execution_count": 23,
     "metadata": {},
     "output_type": "execute_result"
    }
   ],
   "source": [
    "1/3"
   ]
  },
  {
   "cell_type": "code",
   "execution_count": 24,
   "id": "cb831dba",
   "metadata": {},
   "outputs": [
    {
     "data": {
      "text/plain": [
       "(5998794703657501, 18014398509481984)"
      ]
     },
     "execution_count": 24,
     "metadata": {},
     "output_type": "execute_result"
    }
   ],
   "source": [
    "(0.333).as_integer_ratio()"
   ]
  },
  {
   "cell_type": "markdown",
   "id": "613fd1d2",
   "metadata": {},
   "source": [
    "# Complex numbers"
   ]
  },
  {
   "cell_type": "code",
   "execution_count": 25,
   "id": "1e03bcce",
   "metadata": {},
   "outputs": [
    {
     "data": {
      "text/plain": [
       "(3+4j)"
      ]
     },
     "execution_count": 25,
     "metadata": {},
     "output_type": "execute_result"
    }
   ],
   "source": [
    "complex(3,4)"
   ]
  },
  {
   "cell_type": "code",
   "execution_count": null,
   "id": "f202146b",
   "metadata": {},
   "outputs": [],
   "source": [
    "complex(0)"
   ]
  },
  {
   "cell_type": "markdown",
   "id": "2d3c5091",
   "metadata": {},
   "source": [
    "# Convert binary to int"
   ]
  },
  {
   "cell_type": "code",
   "execution_count": null,
   "id": "863ceb7c",
   "metadata": {},
   "outputs": [],
   "source": [
    "bin_num = input(\"Enter a binary num\")"
   ]
  },
  {
   "cell_type": "code",
   "execution_count": 30,
   "id": "e63f03ef",
   "metadata": {},
   "outputs": [
    {
     "data": {
      "text/plain": [
       "4"
      ]
     },
     "execution_count": 30,
     "metadata": {},
     "output_type": "execute_result"
    }
   ],
   "source": [
    "int(bin_num,2)"
   ]
  },
  {
   "cell_type": "markdown",
   "id": "e5a6c9aa",
   "metadata": {},
   "source": [
    "# Q8 from assignment\n",
    "Q8. WAP to take an int from user. Print number of 1's and 0's in binary format of given number.\n",
    "NOTE: '0b' is suffix in binary string. It should not be included in calculation."
   ]
  },
  {
   "cell_type": "code",
   "execution_count": 31,
   "id": "ddc2506e",
   "metadata": {},
   "outputs": [
    {
     "name": "stdout",
     "output_type": "stream",
     "text": [
      "Enter a number10\n"
     ]
    }
   ],
   "source": [
    "num=int(input(\"Enter a number\"))"
   ]
  },
  {
   "cell_type": "code",
   "execution_count": 34,
   "id": "bc40ec0c",
   "metadata": {},
   "outputs": [
    {
     "name": "stdout",
     "output_type": "stream",
     "text": [
      "0b1010 <class 'str'>\n"
     ]
    }
   ],
   "source": [
    "bin_num=bin(num)\n",
    "print(bin_num, type(bin_num))"
   ]
  },
  {
   "cell_type": "code",
   "execution_count": 35,
   "id": "3a11f6c7",
   "metadata": {},
   "outputs": [
    {
     "name": "stdout",
     "output_type": "stream",
     "text": [
      "0\n",
      "b\n",
      "1\n",
      "0\n",
      "1\n",
      "0\n"
     ]
    }
   ],
   "source": [
    "for char in bin_num:\n",
    "    print(char)"
   ]
  },
  {
   "cell_type": "code",
   "execution_count": 36,
   "id": "ac7cebd7",
   "metadata": {},
   "outputs": [
    {
     "name": "stdout",
     "output_type": "stream",
     "text": [
      "Equal\n"
     ]
    }
   ],
   "source": [
    "if( 10 == 10.00 ):\n",
    "  print(\"Equal\")\n",
    "else:\n",
    "  print(\"not Equal\")"
   ]
  },
  {
   "cell_type": "code",
   "execution_count": null,
   "id": "6ae79ce2",
   "metadata": {},
   "outputs": [],
   "source": []
  }
 ],
 "metadata": {
  "kernelspec": {
   "display_name": "Python 3 (ipykernel)",
   "language": "python",
   "name": "python3"
  },
  "language_info": {
   "codemirror_mode": {
    "name": "ipython",
    "version": 3
   },
   "file_extension": ".py",
   "mimetype": "text/x-python",
   "name": "python",
   "nbconvert_exporter": "python",
   "pygments_lexer": "ipython3",
   "version": "3.11.4"
  }
 },
 "nbformat": 4,
 "nbformat_minor": 5
}
