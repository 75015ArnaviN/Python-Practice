{
 "cells": [
  {
   "cell_type": "markdown",
   "metadata": {
    "id": "V2wrKElzG0IY"
   },
   "source": [
    "# Match (Structural Pattern Matching in Python )\n",
    "\n",
    "### Introduction\n",
    "- It is similar to switch case in C or java but more powerful\n",
    "- It can match patterns than just direct match\n",
    "- It supports traditional matching to a number, string, value\n",
    "- In single 'case' supports use of OR (|) operator to select one of the given patterns\n",
    "- In 'case' it allows to capture input pattern in a variable. This variable can be further used in the program\n",
    "- In 'case' pattern captured in variable, then it can have guard condition (if condition) for error checking\n",
    "- Pattern containing multiple values like lists , tuple ,etc can be matched\n",
    "- Pattern with multiple values can have variable number of values and 'case' can extract only relevent values from the complete values coming in the pattern\n",
    "- Patterns of custom objects can be matched\n",
    "- Patterns of dictionary type can also be matched here\n",
    "- Limitation : Match doesn't support set based patterns\n",
    "\n",
    "\n",
    "\n",
    "We will discuss each point in details\n",
    "\n"
   ]
  },
  {
   "cell_type": "markdown",
   "metadata": {
    "id": "sQzxNMmDMSue"
   },
   "source": [
    "### Similarity of match and switch case\n",
    "\n",
    "- Syntax of mtach statement is much similar to switch case\n",
    "- It has 'match' and 'case' keywords\n",
    "- There is no need of 'break' inside match\n",
    "- It has optional case with wildcard (case _:). This case can match any pattern. It should be kept at the end.\n",
    "\n",
    "\n",
    "Syntax"
   ]
  },
  {
   "cell_type": "code",
   "execution_count": null,
   "metadata": {
    "id": "glAGZfhyPDMI"
   },
   "outputs": [],
   "source": [
    "match <input_pattern>:\n",
    "  case <pattern1>:\n",
    "    <statements>\n",
    "  case <pattern2>:\n",
    "    <statements>\n",
    "  case _: # Wildcard case\n",
    "    <statements>"
   ]
  },
  {
   "cell_type": "markdown",
   "metadata": {
    "id": "Bp2e4WWEBm2m"
   },
   "source": [
    "--"
   ]
  },
  {
   "cell_type": "markdown",
   "metadata": {
    "id": "rF5nr3mzO_yz"
   },
   "source": [
    "Example"
   ]
  },
  {
   "cell_type": "code",
   "execution_count": null,
   "metadata": {
    "id": "GmfhkxFyMYie"
   },
   "outputs": [],
   "source": [
    "match num:\n",
    "  case 1:\n",
    "    print(\"One\")\n",
    "  case 2:\n",
    "    print(\"two\")\n",
    "  case _:\n",
    "    print(\"Anything else than 1 and 2\")"
   ]
  },
  {
   "cell_type": "markdown",
   "metadata": {
    "id": "OzB5014BQPiX"
   },
   "source": [
    "### match supports traditional matching to a number, string, value\n",
    "\n",
    "- In match simplest pattern can be of single integer , float, or string like traditional switch case in C or java\n",
    "\n",
    "Example"
   ]
  },
  {
   "cell_type": "code",
   "execution_count": null,
   "metadata": {
    "id": "hrmUSkuOQg92"
   },
   "outputs": [],
   "source": [
    "match operation:\n",
    "  case \"add\":\n",
    "    print(\"Adding two numbers\")\n",
    "  case \"sub\":\n",
    "    print(\"Subtracting two numbers\")\n",
    "  case \"mult\":\n",
    "    print(\"Multiplying two numbers\")\n",
    "  case \"div\":\n",
    "    print(\"Dividing two numbers\")"
   ]
  },
  {
   "cell_type": "markdown",
   "metadata": {
    "id": "0XqH4_0sQSxG"
   },
   "source": [
    "### Single case with OR (|)\n",
    "\n",
    "- In match single case can check multiple patterns using OR (|). Any one of the pattern matched then that case will be executed\n",
    "\n",
    "Example"
   ]
  },
  {
   "cell_type": "code",
   "execution_count": null,
   "metadata": {
    "id": "r335oEQJSWPT"
   },
   "outputs": [],
   "source": [
    "match age:\n",
    "  case \"kid\":\n",
    "    print(\"Be dependent full time\")\n",
    "  case \"young\" | \"adult\":\n",
    "    print(\"Be independent with dependence\")\n",
    "  case \"old\":\n",
    "    print(\"Again dependent!\")"
   ]
  },
  {
   "cell_type": "markdown",
   "metadata": {
    "id": "xX-_FM3tnpBW"
   },
   "source": [
    "### Pattern containing multiple values like lists , tuple ,etc can be matched\n",
    "\n",
    "- Match allows sequences to be taken as a pattern\n",
    "- Sequence in python can be list ( like array), tuple, set, dictionary\n",
    "- Each case can have different type and number of input values to be matched\n",
    "- NOTE: if case has fixed values then order of values needs to be maintained!\n",
    "\n",
    "\n",
    "Example"
   ]
  },
  {
   "cell_type": "code",
   "execution_count": null,
   "metadata": {
    "id": "VuWLgzzfoCtG"
   },
   "outputs": [],
   "source": [
    "itemid_list=[101,105]\n",
    "match itemid_list:\n",
    "  case [101,105,110]:\n",
    "    print(\"Three ids discounted order\")\n",
    "  case [101,105]:\n",
    "    print(\"Two ids Discounted order\")\n",
    "  case _:\n",
    "    print(\"Everything else\")"
   ]
  },
  {
   "cell_type": "markdown",
   "metadata": {
    "id": "E0whZ-LDw3t_"
   },
   "source": [
    "### Capture input pattern in a variable\n",
    "\n",
    "- Case can capture part of pattern in a variable\n",
    "- For pattern with multiple values, multiple variables can be used\n",
    "- Its like unpacking of sequence to variables ( will be explained in further topics of list and tuples)\n",
    "\n",
    "Example"
   ]
  },
  {
   "cell_type": "code",
   "execution_count": null,
   "metadata": {
    "id": "qn4SYIeDoyBc"
   },
   "outputs": [],
   "source": [
    "# vals=[0,90]\n",
    "# vals=[23,0]\n",
    "# vals=[90,40]\n",
    "vals=[1,255,30]\n",
    "# vals=[1,2,3,4,5,6]\n",
    "match vals:\n",
    "  case [0,num2]:\n",
    "    print(\"First num is 0\")\n",
    "  case [num1,0]:\n",
    "    print(\"Second num is 0\")\n",
    "  case [num1, num2]:\n",
    "    print(\"Calculator Addition \", num1+num2)\n",
    "  case num1,num2,num3: # <-- Observe square brakets NOT given, still Works!\n",
    "    if (num1 < num2 < num3):\n",
    "      print(num3, \" is highest\")\n",
    "    if (num1 > num2 > num3):\n",
    "      print(num1, \" is highest\")\n",
    "    if (num1 < num2 > num3):\n",
    "      print(num2, \" is highest\")\n",
    "  case _:\n",
    "    print(\"Menu: 2 numbers then calculation , 3 numbers then find the highest\")"
   ]
  },
  {
   "cell_type": "markdown",
   "metadata": {
    "id": "HJODP2Ff6kH2"
   },
   "source": [
    "Another example (from the documentation)"
   ]
  },
  {
   "cell_type": "code",
   "execution_count": null,
   "metadata": {
    "id": "0LOIf-Cg6nLk"
   },
   "outputs": [],
   "source": [
    "# point is an (x, y) tuple\n",
    "point=(0,0)\n",
    "# point=(0,5)\n",
    "# point=(90,0)\n",
    "# point=(99,34)\n",
    "match point:\n",
    "    case (0, 0):\n",
    "        print(\"Origin\")\n",
    "    case (0, y):\n",
    "        print(\"Y=\",y)\n",
    "    case (x, 0):\n",
    "        print(\"X=\",x)\n",
    "    case (x, y):\n",
    "        print(\"X=\",x, \"Y=\",y)\n",
    "    case _:\n",
    "        raise ValueError(\"Not a point\")"
   ]
  },
  {
   "cell_type": "markdown",
   "metadata": {
    "id": "RvKNDcbV4BkJ"
   },
   "source": [
    "### Guard condition (if condition) for error checking\n",
    "\n",
    "- When pattern is captured in one or more variables then we can use guard condition\n",
    "- Gaurd condition means if condition\n",
    "- When this condition is true ONLY then case is executed else execution goes to the next case"
   ]
  },
  {
   "cell_type": "code",
   "execution_count": null,
   "metadata": {
    "id": "L8SEVaoX5GXY"
   },
   "outputs": [],
   "source": [
    "# number=\"9890717884\"\n",
    "number=\"12.12.10.10\"\n",
    "match number:\n",
    "  case mob if (len(mob) == 10) and mob.isdigit():\n",
    "    print(\"Valid mobile no, without country code\")\n",
    "  case mob if(len(mob) == 13) and mob[0] =='+' and mob[1:].isdigit():\n",
    "    print(\"Valid mobile no, with country code\")\n",
    "  case ip if (len(ip)>=7)and (ip.count(\".\") ==3):\n",
    "    print(\"number is similar to an ip address\")\n",
    "  case _:\n",
    "    print(\"Enter valid mobile no or ip address!\")"
   ]
  },
  {
   "cell_type": "markdown",
   "metadata": {
    "id": "p3lyllqoAuPv"
   },
   "source": [
    "### 'case' can extract relevent values from the complete values coming in the pattern\n",
    "\n",
    "- When sequence like list,tuple, etc is passed then relevant values can be extracted and other values can be captured as extra\n",
    "- relevant values can be\n",
    "-- all at starting positions\n",
    "-- all at ending positions\n",
    "-- few at starting and few at end positions\n",
    "\n",
    "Example"
   ]
  },
  {
   "cell_type": "code",
   "execution_count": null,
   "metadata": {
    "id": "3QQ6oZonBVPb"
   },
   "outputs": [],
   "source": [
    "# message=\"thank you for your services!\"\n",
    "message=\"It was nice experience, thank you\"\n",
    "match message.split(): # get list of words from the string\n",
    "  case [w1,w2,*_] if (w1 =='thank') and (w2 =='you'):\n",
    "    print(\"You are welcome!, we would be happy to help futher\")\n",
    "  case [*_,w1,w2] if (w1 =='thank') and (w2 =='you'):\n",
    "    print(\"You are welcome!, we would be happy to help futher\")\n",
    "  case _:\n",
    "    print(\"we would be happy to help futher, thank you\")"
   ]
  },
  {
   "cell_type": "markdown",
   "metadata": {
    "id": "f8kLzg08FugC"
   },
   "source": [
    "### match can be used to identify type of object and find right case for it\n",
    "\n",
    "- match can work to ientify type and according perform operation\n",
    "\n",
    "Example\n",
    "\n",
    "Given list of values,\n",
    "Take one value from list at a time\n",
    "if value is integer or float then add it to total, if value is string then concat to name ,\n",
    "else print message cannot handle value"
   ]
  },
  {
   "cell_type": "code",
   "execution_count": null,
   "metadata": {
    "colab": {
     "base_uri": "https://localhost:8080/"
    },
    "executionInfo": {
     "elapsed": 486,
     "status": "ok",
     "timestamp": 1694517506777,
     "user": {
      "displayName": "shantanu sp1010",
      "userId": "06429835069678775799"
     },
     "user_tz": -330
    },
    "id": "-rCB2vvCGmWw",
    "outputId": "82b9ddf8-939a-4407-a4ba-bb594e97eaac"
   },
   "outputs": [
    {
     "name": "stdout",
     "output_type": "stream",
     "text": [
      "total is 66.5\n",
      "name is  iacsd\n"
     ]
    }
   ],
   "source": [
    "vals=[1,2.1,'i',3,'a',56,'cs',4.4,'d']\n",
    "total=0\n",
    "name=\"\"\n",
    "for value in vals:\n",
    "  match value:\n",
    "    case int() | float():\n",
    "      total +=value\n",
    "    case str():\n",
    "      name += value\n",
    "\n",
    "print(\"total is\",total)\n",
    "print(\"name is \", name)"
   ]
  },
  {
   "cell_type": "markdown",
   "metadata": {
    "id": "20HbKhCnEeY3"
   },
   "source": [
    "### match can be used for custom (user defined) objects\n",
    "\n",
    "- In python user can create classes and create custom objects\n",
    "-match supports patterns of such custom objects as well\n",
    "\n",
    "Example from the documentation\n"
   ]
  },
  {
   "cell_type": "code",
   "execution_count": null,
   "metadata": {
    "colab": {
     "base_uri": "https://localhost:8080/"
    },
    "executionInfo": {
     "elapsed": 388,
     "status": "ok",
     "timestamp": 1694517747588,
     "user": {
      "displayName": "shantanu sp1010",
      "userId": "06429835069678775799"
     },
     "user_tz": -330
    },
    "id": "KvCECMN1E8Nr",
    "outputId": "76d2bb82-24c7-4fdc-dbcb-4ea622d0a393"
   },
   "outputs": [
    {
     "name": "stdout",
     "output_type": "stream",
     "text": [
      "On X axis, X= 10\n"
     ]
    }
   ],
   "source": [
    "class Point:\n",
    "    def __init__(self, x, y):\n",
    "        self.x = x\n",
    "        self.y = y\n",
    "\n",
    "# point = Point(10,10)\n",
    "point = Point(10,0)\n",
    "# point = Point(0,10)\n",
    "# point = Point(0,0)\n",
    "\n",
    "match point:\n",
    "    case Point(x=0, y=0):\n",
    "        print(\"Origin\")\n",
    "    case Point(x=0, y=y):\n",
    "        print(\"On Y-axis, Y=\",y)\n",
    "    case Point(x=x, y=0):\n",
    "        print(\"On X axis, X=\",x)\n",
    "    case Point():\n",
    "        print(\"Somewhere else in the coordinate system\")\n",
    "    case _:\n",
    "        print(\"Not a point\")"
   ]
  },
  {
   "cell_type": "markdown",
   "metadata": {
    "id": "5wOPR9q0JTrr"
   },
   "source": [
    "### match on patterns in dictionaries\n",
    "\n",
    "- dictionaries have key value pairs\n",
    "- match supports when getting data in key value pairs finding relevant keys and their values is important\n",
    "-  Using dictionary patterns only mensioned key and values will be selected and all other elements will be neglected for case\n",
    "- also we can have guard conditions here\n",
    "\n",
    "Example"
   ]
  },
  {
   "cell_type": "code",
   "execution_count": null,
   "metadata": {
    "id": "-fmVqQQAJnKd"
   },
   "outputs": [],
   "source": [
    "# user_details={'name':'ravi','address':'pune','age':34}\n",
    "user_details={'name':'tanvi','address':'mumbai','age':55}\n",
    "match user_details:\n",
    "  case {'name':n,'age':a} if a > 50:\n",
    "    print(\"Important user, \",n)\n",
    "  case {'address':'pune'}: # all other field are not considered in comparison\n",
    "    print(\"User is from pune\")"
   ]
  },
  {
   "cell_type": "markdown",
   "metadata": {
    "id": "EzCkGA9BAedw"
   },
   "source": [
    "### Limitation : Match doesn't support set based patterns\n",
    "\n",
    "In pattern set can't be used. (Documentation doesn't mension specific reason for this move)\n",
    "\n",
    "Example ( It gives Syntax Error!!)"
   ]
  },
  {
   "cell_type": "code",
   "execution_count": null,
   "metadata": {
    "id": "Oe2NOb3SAsDJ"
   },
   "outputs": [],
   "source": [
    "set_pattern = {1,2,3}\n",
    "match set_pattern:\n",
    "  case {1,2,3}: # Syntax error On this line!\n",
    "    print(\"Set {1,2,3} matched!\")"
   ]
  },
  {
   "cell_type": "markdown",
   "metadata": {
    "id": "BIWcUFnwMn8V"
   },
   "source": [
    "# Further reference"
   ]
  },
  {
   "cell_type": "markdown",
   "metadata": {
    "id": "ACfOqL_DE7UG"
   },
   "source": [
    "Python Enhancement proposal (PEP 636)  https://peps.python.org/pep-0636/\n",
    "\n",
    "Documentation https://docs.python.org/3/tutorial/controlflow.html"
   ]
  },
  {
   "cell_type": "code",
   "execution_count": null,
   "metadata": {
    "id": "knbxK51ZEvZe"
   },
   "outputs": [],
   "source": []
  }
 ],
 "metadata": {
  "colab": {
   "authorship_tag": "ABX9TyO0KOcPVDDMM5nmkTCyj8mP",
   "provenance": []
  },
  "kernelspec": {
   "display_name": "Python 3 (ipykernel)",
   "language": "python",
   "name": "python3"
  },
  "language_info": {
   "codemirror_mode": {
    "name": "ipython",
    "version": 3
   },
   "file_extension": ".py",
   "mimetype": "text/x-python",
   "name": "python",
   "nbconvert_exporter": "python",
   "pygments_lexer": "ipython3",
   "version": "3.11.4"
  }
 },
 "nbformat": 4,
 "nbformat_minor": 1
}
