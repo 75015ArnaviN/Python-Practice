{
 "cells": [
  {
   "cell_type": "code",
   "execution_count": 5,
   "id": "960a4a16",
   "metadata": {},
   "outputs": [
    {
     "name": "stdout",
     "output_type": "stream",
     "text": [
      "['Analytics']\n"
     ]
    }
   ],
   "source": [
    "# Write a code snippet to convert a string to a list.\n",
    "str1 = \"Analytics Vidhya\"\n",
    "print(str1.split(\" \"))"
   ]
  },
  {
   "cell_type": "code",
   "execution_count": 7,
   "id": "811d726c",
   "metadata": {},
   "outputs": [
    {
     "name": "stdout",
     "output_type": "stream",
     "text": [
      "ayhdiV scitylanA\n",
      "The original string is:  Analytics Vidhya\n",
      "The reversed string is:  ayhdiV scitylanA\n"
     ]
    }
   ],
   "source": [
    "# Write a code snippet to reverse a string.\n",
    "str1 = \"Analytics Vidhya\"\n",
    "str2 = \"\"\n",
    "for i in str1:\n",
    "    str2 = i + str2\n",
    "print(\"The original string is: \", str1)\n",
    "print(\"The reversed string is: \", str2)"
   ]
  },
  {
   "cell_type": "code",
   "execution_count": 3,
   "id": "01af1b62",
   "metadata": {},
   "outputs": [
    {
     "name": "stdout",
     "output_type": "stream",
     "text": [
      "[1, 2, 3]\n"
     ]
    }
   ],
   "source": [
    "#Write a code snippet to sort a list in Python.\n",
    "my_list = [3, 2, 1]\n",
    "my_list.sort()\n",
    "print(my_list)"
   ]
  },
  {
   "cell_type": "code",
   "execution_count": 4,
   "id": "e3c186ff",
   "metadata": {},
   "outputs": [],
   "source": [
    "# What is the difference between mutable and immutable?\n",
    "# Ans. Mutable objects: They can be updated once defined. e.g., list.\n",
    "# Immutable objects: They cannot be updated. e.g., tuples."
   ]
  },
  {
   "cell_type": "code",
   "execution_count": 5,
   "id": "cc13f1b1",
   "metadata": {},
   "outputs": [
    {
     "ename": "FileNotFoundError",
     "evalue": "[WinError 2] The system cannot find the file specified: 'txt1.txt'",
     "output_type": "error",
     "traceback": [
      "\u001b[1;31m---------------------------------------------------------------------------\u001b[0m",
      "\u001b[1;31mFileNotFoundError\u001b[0m                         Traceback (most recent call last)",
      "Cell \u001b[1;32mIn[5], line 3\u001b[0m\n\u001b[0;32m      1\u001b[0m \u001b[38;5;66;03m#How can you delete a file in Python?\u001b[39;00m\n\u001b[0;32m      2\u001b[0m \u001b[38;5;28;01mimport\u001b[39;00m \u001b[38;5;21;01mos\u001b[39;00m\n\u001b[1;32m----> 3\u001b[0m os\u001b[38;5;241m.\u001b[39mremove(\u001b[38;5;124m\"\u001b[39m\u001b[38;5;124mtxt1.txt\u001b[39m\u001b[38;5;124m\"\u001b[39m)\n",
      "\u001b[1;31mFileNotFoundError\u001b[0m: [WinError 2] The system cannot find the file specified: 'txt1.txt'"
     ]
    }
   ],
   "source": [
    "#How can you delete a file in Python?\n",
    "import os\n",
    "os.remove(\"txt1.txt\")"
   ]
  },
  {
   "cell_type": "markdown",
   "id": "2770ed16",
   "metadata": {},
   "source": [
    "How to access an element of a list?\n",
    "Ans. The element in a list can be accessed using list_name [index]. For instance:\n",
    "\n",
    "Given a list [1, 2, 3, 4].\n",
    "\n",
    "The indexing of the list starts from 0.\n",
    "\n",
    "The first element of the list can be accessed using list[0], which will print element “1”.\n",
    "\n",
    "The second element can be accessed using list[1] and so on."
   ]
  },
  {
   "cell_type": "code",
   "execution_count": 6,
   "id": "1616ea3f",
   "metadata": {},
   "outputs": [
    {
     "name": "stdout",
     "output_type": "stream",
     "text": [
      "[1, 3, 4]\n",
      "[1, 4]\n"
     ]
    }
   ],
   "source": [
    "# Discuss different ways of deleting an element from a list.\n",
    "# Ans. There are two ways in which we can delete elements from the list:\n",
    "\n",
    "# 1. By using the remove() function\n",
    "# 2. By using the pop() function\n",
    "\n",
    "# The remove () function deletes the mentioned element from the list.\n",
    "\n",
    "list1 = [1, 2, 3, 4]\n",
    "list1.remove(2)\n",
    "print(list1)\n",
    "\n",
    "# Pop() function delete element mentioned at a specific index from the list\n",
    "\n",
    "list1.pop(1)\n",
    "print(list1)"
   ]
  },
  {
   "cell_type": "code",
   "execution_count": 8,
   "id": "b68aa87e",
   "metadata": {},
   "outputs": [
    {
     "data": {
      "text/plain": [
       "[]"
      ]
     },
     "execution_count": 8,
     "metadata": {},
     "output_type": "execute_result"
    }
   ],
   "source": [
    "# Write a code snippet to delete an entire list.\n",
    "list1 = [1, 2, 3, 4]\n",
    "list1.clear()\n",
    "list1"
   ]
  },
  {
   "cell_type": "code",
   "execution_count": 10,
   "id": "cb30f715",
   "metadata": {},
   "outputs": [
    {
     "name": "stdout",
     "output_type": "stream",
     "text": [
      "[4 3 2 1]\n",
      "[4 3 2 1]\n"
     ]
    }
   ],
   "source": [
    "# Write a code snippet to reverse an array.\n",
    "\n",
    "# 1. Using the flip() function\n",
    "import numpy as np\n",
    "arr1 = np.array([1, 2, 3, 4])\n",
    "arr2 = np.flip(arr1)\n",
    "print(arr2)\n",
    "\n",
    "# 2. Without using any function\n",
    "import numpy as np\n",
    "arr1 = np.array([1, 2, 3, 4])\n",
    "arr2 = arr1[::-1]\n",
    "print(arr2)"
   ]
  },
  {
   "cell_type": "code",
   "execution_count": 14,
   "id": "3025b7ee",
   "metadata": {},
   "outputs": [
    {
     "name": "stdout",
     "output_type": "stream",
     "text": [
      "[2 3 4]\n"
     ]
    }
   ],
   "source": [
    "# Write a code snippet to get an element, delete an element, and update an element in an array.\n",
    "\n",
    "# Access: We can access an element of an array by using array_name[index].\n",
    "# print(arr[index])\n",
    "\n",
    "# Delete: We can delete the element of an array using the delete() function.\n",
    "import numpy as np\n",
    "arr2 = [1, 2, 3, 4]\n",
    "x = np.delete(arr2, 0)\n",
    "print(x)\n",
    "\n",
    "# Update: We can update the element of an array using the below syntax:\n",
    "# array_name[index] = element"
   ]
  },
  {
   "cell_type": "code",
   "execution_count": 20,
   "id": "70425171",
   "metadata": {},
   "outputs": [
    {
     "name": "stdout",
     "output_type": "stream",
     "text": [
      "['we', 'a ', 'writing', 'blog']\n"
     ]
    }
   ],
   "source": [
    "# Write a code snippet to concatenate lists.\n",
    "list1= [\"w\", \"a\", \"w\", \"b\"]\n",
    "list2 = [\"e\", \" \",\"riting\",\"log\"]\n",
    "list3 = [x + y for x, y in zip(list1, list2)]\n",
    "print(list3)"
   ]
  },
  {
   "cell_type": "code",
   "execution_count": 21,
   "id": "170c51ab",
   "metadata": {},
   "outputs": [
    {
     "name": "stdout",
     "output_type": "stream",
     "text": [
      "[1, 4, 9, 16]\n"
     ]
    }
   ],
   "source": [
    "# Write a code snippet to generate the square of every element of a list.\n",
    "lst = [1, 2, 3, 4]\n",
    "lst_final = []\n",
    "for x in lst:\n",
    "    lst_final.append(x * x)\n",
    "print(lst_final)"
   ]
  },
  {
   "cell_type": "markdown",
   "id": "cecc4878",
   "metadata": {},
   "source": [
    "# What is the difference between range and xrange?\n",
    "In Python 2, range() returns a list, and xrange() returns an iterator. But in Python 3 xrange() no longer exists while range() returns an iterator."
   ]
  },
  {
   "cell_type": "markdown",
   "id": "d2874073",
   "metadata": {},
   "source": [
    "# What is pickling and unpickling in Python?\n",
    "Ans. Pickling is converting a Python object (list, dict, function, etc.) to a byte stream(0s and 1s), and unpickling is converting the byte stream back to a python object. It is used to transfer and store various Python objects. We can use pickle or dill Python packages for this."
   ]
  },
  {
   "cell_type": "markdown",
   "id": "51771649",
   "metadata": {},
   "source": [
    "# What is init in Python?\n",
    "Ans. __init__ method is used in Python to initialize the attributes of the object when the object is created. So, it is similar to the constructor in Java or C++. It is declared within the class as a reserved method."
   ]
  },
  {
   "cell_type": "markdown",
   "id": "09b8475b",
   "metadata": {},
   "source": [
    "# Which is faster, Python list or Numpy arrays, and why?\n",
    "Ans. NumPy arrays are faster than Python lists for numerical operations.\n",
    "\n",
    "NumPy is an open-source library for working with arrays in Python, and it provides a number of functions for performing operations on arrays efficiently.\n",
    "\n",
    "They are faster than Python lists because they are implemented in C, while Python lists are implemented in Python. This means that operations on NumPy arrays are implemented in a compiled language, which makes them faster than operations on Python lists, which are implemented in an interpreted language.\n",
    "\n",
    "Python also has an inbuilt array library for basic operations. W can use it as ‘import array as arr’"
   ]
  },
  {
   "cell_type": "code",
   "execution_count": 23,
   "id": "fc9e8fe0",
   "metadata": {},
   "outputs": [
    {
     "name": "stdout",
     "output_type": "stream",
     "text": [
      "13\n",
      "Hello, World!\n",
      "Hello, Universe!\n",
      "['Hello', ' World!']\n",
      "HELLO, WORLD!\n",
      "hello, world!\n"
     ]
    }
   ],
   "source": [
    "# Explain the top 5 functions used for Python strings.\n",
    "\n",
    "# len(): This function returns the length of a string.\n",
    "s = 'Hello, World!'\n",
    "print(len(s))\n",
    "# 13\n",
    "\n",
    "# strip(): This function removes leading and trailing whitespace from a string.\n",
    "s = '   Hello, World!   '\n",
    "print(s.strip())\n",
    "# ‘Hello, World!’\n",
    "\n",
    "# replace(): This function replaces all occurrences of a specified string with another string.\n",
    "s = 'Hello, World!'\n",
    "print(s.replace('World', 'Universe'))\n",
    "# ‘Hello, Universe!’\n",
    "\n",
    "# split(): This function splits a string into a list of substrings based on a delimiter.\n",
    "s = 'Hello, World!'\n",
    "print(s.split(','))\n",
    "# [‘Hello’, ‘ World!’]\n",
    "\n",
    "# upper() and lower(): These functions convert a string to uppercase or lowercase, respectively.\n",
    "s = 'Hello, World!'\n",
    "print(s.upper())\n",
    "# ‘HELLO, WORLD!’\n",
    "\n",
    "print(s.lower())"
   ]
  },
  {
   "cell_type": "markdown",
   "id": "db97a837",
   "metadata": {},
   "source": [
    "# What is the use of the pass keyword in Python?\n",
    "Ans. Pass is a null statement that does nothing. It is often used as a placeholder where a statement is required syntactically, but no action needs to be taken. For example, if you want to define a function or a class but haven’t yet decided what it should do, you can use the pass as a placeholder."
   ]
  },
  {
   "cell_type": "code",
   "execution_count": null,
   "id": "fba405c7",
   "metadata": {},
   "outputs": [],
   "source": []
  }
 ],
 "metadata": {
  "kernelspec": {
   "display_name": "Python 3 (ipykernel)",
   "language": "python",
   "name": "python3"
  },
  "language_info": {
   "codemirror_mode": {
    "name": "ipython",
    "version": 3
   },
   "file_extension": ".py",
   "mimetype": "text/x-python",
   "name": "python",
   "nbconvert_exporter": "python",
   "pygments_lexer": "ipython3",
   "version": "3.11.4"
  }
 },
 "nbformat": 4,
 "nbformat_minor": 5
}
