{
 "cells": [
  {
   "cell_type": "markdown",
   "id": "fdbd34c7",
   "metadata": {},
   "source": [
    "# WAP to print the odd numbers from 1 to 99. Prints one number per line."
   ]
  },
  {
   "cell_type": "code",
   "execution_count": 1,
   "id": "e157c60b",
   "metadata": {},
   "outputs": [
    {
     "name": "stdout",
     "output_type": "stream",
     "text": [
      "1 2 3 4 5 6 7 8 9 10 11 12 13 14 15 16 17 18 19 20 21 22 23 24 25 26 27 28 29 30 31 32 33 34 35 36 37 38 39 40 41 42 43 44 45 46 47 48 49 50 51 52 53 54 55 56 57 58 59 60 61 62 63 64 65 66 67 68 69 70 71 72 73 74 75 76 77 78 79 80 81 82 83 84 85 86 87 88 89 90 91 92 93 94 95 96 97 98 99 100 "
     ]
    }
   ],
   "source": [
    "for i in range(1,101,1):\n",
    "    print(i,end=\" \")"
   ]
  },
  {
   "cell_type": "markdown",
   "id": "d6a26f81",
   "metadata": {},
   "source": [
    "# WAP  to accept a number and check the number is even or not. Prints 1 if the number is even or 0 if the number is odd.\n"
   ]
  },
  {
   "cell_type": "code",
   "execution_count": 24,
   "id": "6367761a",
   "metadata": {},
   "outputs": [
    {
     "name": "stdout",
     "output_type": "stream",
     "text": [
      "Enter number: 1\n",
      "0\n"
     ]
    }
   ],
   "source": [
    "num=int(input(\"Enter number: \"))\n",
    "def check_even_or_odd(number):\n",
    "    if num%2 ==0:\n",
    "        return 1\n",
    "    else :\n",
    "        return 0\n",
    "result = check_even_or_odd(num)\n",
    "print(result)\n",
    "# if num % 2==0:\n",
    "#     print(\"1\")\n",
    "# else :\n",
    "#     print(\"0\")"
   ]
  },
  {
   "cell_type": "markdown",
   "id": "5eb020eb",
   "metadata": {},
   "source": [
    "# WAP to print numbers between 1 to 100 which are divisible by 3, 5 and by both\n",
    "( total 3 list of numbers to be printed)\n"
   ]
  },
  {
   "cell_type": "code",
   "execution_count": 2,
   "id": "e0c06ccc",
   "metadata": {},
   "outputs": [
    {
     "name": "stdout",
     "output_type": "stream",
     "text": [
      "No's. divisible by 3 : [3, 6, 9, 12, 15, 18, 21, 24, 27, 30, 33, 36, 39, 42, 45, 48, 51, 54, 57, 60, 63, 66, 69, 72, 75, 78, 81, 84, 87, 90, 93, 96, 99]\n",
      "No's. divisible by 5 : [5, 10, 15, 20, 25, 30, 35, 40, 45, 50, 55, 60, 65, 70, 75, 80, 85, 90, 95]\n",
      "No's. divisible by both 3 and 5 : [15, 30, 45, 60, 75, 90]\n"
     ]
    }
   ],
   "source": [
    "list3=[]\n",
    "list5=[]\n",
    "list_both=[]\n",
    "for i in range(1,100,1):\n",
    "    if i%3==0:\n",
    "        list3.append(i)\n",
    "    if i%5==0:\n",
    "        list5.append(i)\n",
    "    if (i%3==0 and i%5==0):\n",
    "        list_both.append(i)\n",
    "        \n",
    "print(f\"No's. divisible by 3 : {list3}\")\n",
    "print(f\"No's. divisible by 5 : {list5}\")\n",
    "print(f\"No's. divisible by both 3 and 5 : {list_both}\") "
   ]
  },
  {
   "cell_type": "markdown",
   "id": "f565fca6",
   "metadata": {},
   "source": [
    "# WAP that accepts three integers from the user and return true if two or more of them (integers ) have the same rightmost digit. The integers are non-negative "
   ]
  },
  {
   "cell_type": "code",
   "execution_count": 66,
   "id": "ccedcc01",
   "metadata": {},
   "outputs": [
    {
     "name": "stdout",
     "output_type": "stream",
     "text": [
      "no.1 : 12\n",
      "no.2 : 324\n",
      "no.3 : 424\n",
      "True\n"
     ]
    }
   ],
   "source": [
    "a=int(input(\"no.1 : \"))\n",
    "b=int(input(\"no.2 : \"))\n",
    "c=int(input(\"no.3 : \"))\n",
    "a%=10\n",
    "b%=10\n",
    "c%=10\n",
    "if a==b or b==c or c==a and a==b==c:\n",
    "    print(\"True\")\n",
    "else:\n",
    "    print(\"False\") "
   ]
  },
  {
   "cell_type": "markdown",
   "id": "e73a31f0",
   "metadata": {},
   "source": [
    "# WAP to convert input number of seconds to HH:MM:SS."
   ]
  },
  {
   "cell_type": "code",
   "execution_count": 63,
   "id": "c29516ee",
   "metadata": {},
   "outputs": [
    {
     "name": "stdout",
     "output_type": "stream",
     "text": [
      "seconds to convert : 232\n",
      "00:03:52\n"
     ]
    }
   ],
   "source": [
    "def seconds_to_hms(seconds):\n",
    "    hours, remainder = divmod(seconds, 3600)\n",
    "    minutes, seconds = divmod(remainder, 60)\n",
    "    return f\"{hours:02}:{minutes:02}:{seconds:02}\"\n",
    "try:\n",
    "    seconds=int(input(\"seconds to convert : \"))\n",
    "    if seconds>=0:\n",
    "        result=seconds_to_hms(seconds)\n",
    "        print(result)\n",
    "    else:\n",
    "        print(\"Invalid number!\")\n",
    "except Exception as e:\n",
    "    print(f\"ERROR: {e}\")"
   ]
  },
  {
   "cell_type": "markdown",
   "id": "1ebed288",
   "metadata": {},
   "source": [
    "# WAP to print all leap years between 2000 to 2100. Apply all conditions of checking leap year ( (divisible by 4 and not divisible by 100) OR (divisible by 400))"
   ]
  },
  {
   "cell_type": "code",
   "execution_count": 69,
   "id": "c90a39a3",
   "metadata": {},
   "outputs": [
    {
     "name": "stdout",
     "output_type": "stream",
     "text": [
      "Leap years between 2000 and 2100 are: [2000, 2004, 2008, 2012, 2016, 2020, 2024, 2028, 2032, 2036, 2040, 2044, 2048, 2052, 2056, 2060, 2064, 2068, 2072, 2076, 2080, 2084, 2088, 2092, 2096]\n"
     ]
    },
    {
     "data": {
      "text/plain": [
       "True"
      ]
     },
     "execution_count": 69,
     "metadata": {},
     "output_type": "execute_result"
    }
   ],
   "source": [
    "def is_leap_year(year):\n",
    "    return (year % 4 == 0 and year % 100 != 0) or (year % 400 == 0)\n",
    "\n",
    "def print_leap_years_between(start, end):\n",
    "    leap_years = [year for year in range(start, end + 1) if is_leap_year(year)]\n",
    "    print(\"Leap years between\", start, \"and\", end, \"are:\", leap_years)\n",
    "\n",
    "print_leap_years_between(2000, 2100)\n",
    "is_leap_year(2004)"
   ]
  },
  {
   "cell_type": "markdown",
   "id": "3965dbd2",
   "metadata": {},
   "source": [
    "# WAP to print calender for a month. Take how many days are there in month and starting day of the month as input.\n",
    "    Ex. input no of days : 30  starting day of month : Thursday\n",
    "    Ouput :: Day wise Calender (just like June 2022 month)\n"
   ]
  },
  {
   "cell_type": "markdown",
   "id": "0f603e1e",
   "metadata": {},
   "source": [
    "# WAP to print day of input date when given day for 1st day of that month"
   ]
  },
  {
   "cell_type": "code",
   "execution_count": 72,
   "id": "36dc4bcd",
   "metadata": {},
   "outputs": [
    {
     "name": "stdout",
     "output_type": "stream",
     "text": [
      "Enter the year: 2024\n",
      "Enter the month (1-12): 1\n",
      "Enter the day for the 1st day of the month: Monday\n",
      "Day\t1\t2\t3\t4\t5\t6\t7\t8\t9\t10\t11\t12\t13\t14\t15\t16\t17\t18\t19\t20\t21\t22\t23\t24\t25\t26\t27\t28\t29\t30\t31\n",
      "Mon\tTue\tWed\tThu\tFri\tSat\tSun\tMon\tTue\tWed\tThu\tFri\tSat\tSun\tMon\tTue\tWed\tThu\tFri\tSat\tSun\tMon\tTue\tWed\tThu\tFri\tSat\tSun\tMon\tTue\tWed\t\n"
     ]
    }
   ],
   "source": [
    "import datetime\n",
    "\n",
    "def print_month_days(first_day, year, month):\n",
    "    # Parse the input first day\n",
    "    first_day_date = datetime.datetime.strptime(f\"{year}-{month}-01\", \"%Y-%m-%d\")\n",
    "    \n",
    "    # Define the days of the week\n",
    "    days_of_week = [\"Monday\", \"Tuesday\", \"Wednesday\", \"Thursday\", \"Friday\", \"Saturday\", \"Sunday\"]\n",
    "    \n",
    "    # Find the index of the input first day\n",
    "    start_day_index = days_of_week.index(first_day.capitalize())\n",
    "\n",
    "    # Print the header\n",
    "    print(\"Day\\t1\\t2\\t3\\t4\\t5\\t6\\t7\\t8\\t9\\t10\\t11\\t12\\t13\\t14\\t15\\t16\\t17\\t18\\t19\\t20\\t21\\t22\\t23\\t24\\t25\\t26\\t27\\t28\\t29\\t30\\t31\")\n",
    "    # Print the calendar rows\n",
    "    for day in range(1, 32):\n",
    "        # Calculate the day index for the current date\n",
    "        current_day_index = (start_day_index + day - 1) % 7\n",
    "        print(f\"{days_of_week[current_day_index][:3]}\\t\", end='')\n",
    "    print()\n",
    "if __name__ == \"__main__\":\n",
    "    try:\n",
    "        year = int(input(\"Enter the year: \"))\n",
    "        month = int(input(\"Enter the month (1-12): \"))\n",
    "        first_day = input(\"Enter the day for the 1st day of the month: \")\n",
    "\n",
    "        if 1 <= month <= 12:\n",
    "            print_month_days(first_day, year, month)\n",
    "        else:\n",
    "            print(\"Invalid month. Please enter a month between 1 and 12.\")\n",
    "    except ValueError:\n",
    "        print(\"Please enter valid numerical values for year and month.\")\n"
   ]
  },
  {
   "cell_type": "code",
   "execution_count": 3,
   "id": "3c1ceb2a",
   "metadata": {},
   "outputs": [
    {
     "name": "stdout",
     "output_type": "stream",
     "text": [
      "0 1 2 3 5 8 13 21 34 55 "
     ]
    }
   ],
   "source": [
    "# Fibonacci numbers using Recursion   \n",
    "n=10\n",
    "num1=0\n",
    "num2=0\n",
    "next_no=num2\n",
    "count=1\n",
    "while count<=n:\n",
    "    if num2==0:\n",
    "        num2+=1\n",
    "#         print(next_no,end=\" \")\n",
    "    else:\n",
    "        print(next_no,end=\" \")\n",
    "        num1,num2=num2,next_no\n",
    "        next_no=num1+num2\n",
    "        count+=1"
   ]
  },
  {
   "cell_type": "code",
   "execution_count": 10,
   "id": "3cff1fd1",
   "metadata": {},
   "outputs": [
    {
     "name": "stdout",
     "output_type": "stream",
     "text": [
      "enter the num10\n",
      "Fibonacci series\n",
      "0 1 1 2 3 5 8 13 21 34 "
     ]
    }
   ],
   "source": [
    "def fibonaci(num):\n",
    "    if num<=1:\n",
    "        return num\n",
    "    else:\n",
    "        return fibonaci(num-1)+fibonaci(num-2)\n",
    "term=int(input(\"enter the num\"))\n",
    "print(\"Fibonacci series\")\n",
    "for i in range(term):\n",
    "    print(fibonaci(i), end=\" \")"
   ]
  },
  {
   "cell_type": "code",
   "execution_count": 3,
   "id": "57ed9412",
   "metadata": {},
   "outputs": [
    {
     "name": "stdout",
     "output_type": "stream",
     "text": [
      "Enter a string: 12321\n",
      "The string is a palindrome.\n"
     ]
    }
   ],
   "source": [
    "def is_palindrome(s):\n",
    "    s = ''.join(char.lower() for char in s if char.isalnum())\n",
    "    return s == s[::-1]\n",
    "\n",
    "string = input(\"Enter a string: \")\n",
    "if is_palindrome(string):\n",
    "    print(\"The string is a palindrome.\")\n",
    "else:\n",
    "    print(\"The string is not a palindrome.\")\n"
   ]
  },
  {
   "cell_type": "code",
   "execution_count": null,
   "id": "fdcac6dc",
   "metadata": {},
   "outputs": [],
   "source": [
    "s1=\"kdfhsudsakjgfgacmkdmag\""
   ]
  },
  {
   "cell_type": "code",
   "execution_count": null,
   "id": "4cdf46c7",
   "metadata": {},
   "outputs": [],
   "source": []
  }
 ],
 "metadata": {
  "kernelspec": {
   "display_name": "Python 3 (ipykernel)",
   "language": "python",
   "name": "python3"
  },
  "language_info": {
   "codemirror_mode": {
    "name": "ipython",
    "version": 3
   },
   "file_extension": ".py",
   "mimetype": "text/x-python",
   "name": "python",
   "nbconvert_exporter": "python",
   "pygments_lexer": "ipython3",
   "version": "3.11.4"
  }
 },
 "nbformat": 4,
 "nbformat_minor": 5
}
