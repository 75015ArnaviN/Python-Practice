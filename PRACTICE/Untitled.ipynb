{
 "cells": [
  {
   "cell_type": "code",
   "execution_count": 3,
   "id": "6a31ee44",
   "metadata": {},
   "outputs": [
    {
     "data": {
      "text/plain": [
       "['Arnavi', 'Nimbalkar']"
      ]
     },
     "execution_count": 3,
     "metadata": {},
     "output_type": "execute_result"
    }
   ],
   "source": [
    "# Write a code snippet to convert a string to a list.\n",
    "str1=\"Arnavi Nimbalkar\"\n",
    "str1.split(\" \")"
   ]
  },
  {
   "cell_type": "code",
   "execution_count": 9,
   "id": "a45be870",
   "metadata": {},
   "outputs": [
    {
     "data": {
      "text/plain": [
       "'raklabmiN ivanrA'"
      ]
     },
     "execution_count": 9,
     "metadata": {},
     "output_type": "execute_result"
    }
   ],
   "source": [
    "# Write a code snippet to reverse a string.\n",
    "string=\"Arnavi Nimbalkar\"\n",
    "reverse_string=\"\"\n",
    "for i in str2:\n",
    "    reverse_string=i+reverse_string\n",
    "reverse_string"
   ]
  },
  {
   "cell_type": "code",
   "execution_count": 12,
   "id": "5696bec1",
   "metadata": {},
   "outputs": [
    {
     "data": {
      "text/plain": [
       "[1, 3, 5, 6, 8]"
      ]
     },
     "execution_count": 12,
     "metadata": {},
     "output_type": "execute_result"
    }
   ],
   "source": [
    "# Write a code snippet to sort a list in Python.\n",
    "list1=[3,5,1,8,6]\n",
    "list1.sort()\n",
    "list1"
   ]
  },
  {
   "cell_type": "code",
   "execution_count": 14,
   "id": "22bdc23e",
   "metadata": {},
   "outputs": [
    {
     "ename": "FileNotFoundError",
     "evalue": "[WinError 2] The system cannot find the file specified: 'xyz.txt'",
     "output_type": "error",
     "traceback": [
      "\u001b[1;31m---------------------------------------------------------------------------\u001b[0m",
      "\u001b[1;31mFileNotFoundError\u001b[0m                         Traceback (most recent call last)",
      "Cell \u001b[1;32mIn[14], line 3\u001b[0m\n\u001b[0;32m      1\u001b[0m \u001b[38;5;66;03m#How can you delete a file in Python?\u001b[39;00m\n\u001b[0;32m      2\u001b[0m \u001b[38;5;28;01mimport\u001b[39;00m \u001b[38;5;21;01mos\u001b[39;00m\n\u001b[1;32m----> 3\u001b[0m os\u001b[38;5;241m.\u001b[39mremove(\u001b[38;5;124m\"\u001b[39m\u001b[38;5;124mxyz.txt\u001b[39m\u001b[38;5;124m\"\u001b[39m)\n",
      "\u001b[1;31mFileNotFoundError\u001b[0m: [WinError 2] The system cannot find the file specified: 'xyz.txt'"
     ]
    }
   ],
   "source": [
    "#How can you delete a file in Python?\n",
    "import os\n",
    "os.remove(\"xyz.txt\")"
   ]
  },
  {
   "cell_type": "code",
   "execution_count": 39,
   "id": "d0b164a8",
   "metadata": {},
   "outputs": [
    {
     "data": {
      "text/plain": [
       "3"
      ]
     },
     "execution_count": 39,
     "metadata": {},
     "output_type": "execute_result"
    }
   ],
   "source": [
    "# How to access an element of a list?\n",
    "list2 = [3,2,7,8,9]\n",
    "list2[0]"
   ]
  },
  {
   "cell_type": "code",
   "execution_count": 40,
   "id": "aa7931ac",
   "metadata": {},
   "outputs": [
    {
     "data": {
      "text/plain": [
       "[2, 7, 8]"
      ]
     },
     "execution_count": 40,
     "metadata": {},
     "output_type": "execute_result"
    }
   ],
   "source": [
    "# Discuss different ways of deleting an element from a list.\n",
    "# pop()\n",
    "# remove()\n",
    "list2.pop()    # from last\n",
    "list2.remove(3)\n",
    "list2"
   ]
  },
  {
   "cell_type": "code",
   "execution_count": 42,
   "id": "6dbf4344",
   "metadata": {},
   "outputs": [
    {
     "data": {
      "text/plain": [
       "[]"
      ]
     },
     "execution_count": 42,
     "metadata": {},
     "output_type": "execute_result"
    }
   ],
   "source": [
    "# Write a code snippet to delete an entire list.\n",
    "list2.clear()\n",
    "list2"
   ]
  },
  {
   "cell_type": "code",
   "execution_count": 49,
   "id": "95389ec5",
   "metadata": {},
   "outputs": [
    {
     "data": {
      "text/plain": [
       "['Arnavi', 'Nimbalkar']"
      ]
     },
     "execution_count": 49,
     "metadata": {},
     "output_type": "execute_result"
    }
   ],
   "source": [
    "# Write a code snippet to concatenate lists.\n",
    "list1=[\"A\",\"N\"]\n",
    "list2=[\"rnavi\",\"imbalkar\"]\n",
    "list3=[x+y for x, y in zip(list1,list2)]\n",
    "list3"
   ]
  },
  {
   "cell_type": "code",
   "execution_count": 53,
   "id": "613ce797",
   "metadata": {},
   "outputs": [
    {
     "data": {
      "text/plain": [
       "[16, 25, 36, 49, 64, 81, 100]"
      ]
     },
     "execution_count": 53,
     "metadata": {},
     "output_type": "execute_result"
    }
   ],
   "source": [
    "# Write a code snippet to generate the square of every element of a list.\n",
    "list1=[x for x in range(4,11)]\n",
    "list2=[x**2 for x in list1]\n",
    "list2"
   ]
  },
  {
   "cell_type": "code",
   "execution_count": null,
   "id": "f69391f8",
   "metadata": {},
   "outputs": [],
   "source": []
  }
 ],
 "metadata": {
  "kernelspec": {
   "display_name": "Python 3 (ipykernel)",
   "language": "python",
   "name": "python3"
  },
  "language_info": {
   "codemirror_mode": {
    "name": "ipython",
    "version": 3
   },
   "file_extension": ".py",
   "mimetype": "text/x-python",
   "name": "python",
   "nbconvert_exporter": "python",
   "pygments_lexer": "ipython3",
   "version": "3.11.4"
  }
 },
 "nbformat": 4,
 "nbformat_minor": 5
}
