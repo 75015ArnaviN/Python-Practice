{
 "cells": [
  {
   "cell_type": "markdown",
   "id": "c1e3c37e",
   "metadata": {},
   "source": [
    "# Simple calculator"
   ]
  },
  {
   "cell_type": "code",
   "execution_count": 1,
   "id": "83571d28",
   "metadata": {},
   "outputs": [
    {
     "name": "stdout",
     "output_type": "stream",
     "text": [
      "Enter first no12\n",
      "Enter second no23\n",
      "Enter the operation 1.add 2.sub 3.mult 4.div 5.Exit1\n",
      "adition is 35.0\n",
      "Enter first no65\n",
      "Enter second no32\n",
      "Enter the operation 1.add 2.sub 3.mult 4.div 5.Exit2\n",
      "Sutraction is 97.0\n",
      "Enter first no5\n",
      "Enter second no5\n",
      "Enter the operation 1.add 2.sub 3.mult 4.div 5.Exit5\n",
      "Exiting ..\n"
     ]
    }
   ],
   "source": [
    "# Solution 1\n",
    "while(True):\n",
    "    no1=float(input(\"Enter first no\"))\n",
    "    no2=float(input(\"Enter second no\"))\n",
    "    op=int(input(\"Enter the operation 1.add 2.sub 3.mult 4.div 5.Exit\"))\n",
    "    match op:\n",
    "        case 1:\n",
    "            print(\"adition is\", no1+no2)\n",
    "        case 2:\n",
    "            print(\"Sutraction is\", no1+no2)\n",
    "        case 3:\n",
    "            print(\"Multiplication is\", no1+no2)\n",
    "        case 4:\n",
    "            print(\"Division is\", no1+no2)\n",
    "        case 5:\n",
    "            print(\"Exiting ..\")\n",
    "            break\n",
    "        case _:\n",
    "            print(\"Enter valid input ...\")"
   ]
  },
  {
   "cell_type": "code",
   "execution_count": 3,
   "id": "7b69004e",
   "metadata": {},
   "outputs": [
    {
     "name": "stdout",
     "output_type": "stream",
     "text": [
      "Enter two comma seperated numbers23,45\n",
      "Enter the operation add(+),sub(-),mult(*),div(/),Exit(e)e\n",
      "Exiting ...\n"
     ]
    }
   ],
   "source": [
    "# Solution 2\n",
    "while(True):\n",
    "    nos=input(\"Enter two comma seperated numbers\")\n",
    "    op=input(\"Enter the operation add(+),sub(-),mult(*),div(/),Exit(e)\")\n",
    "    no1, no2 = nos.split(\",\")\n",
    "    no1=int(no1)\n",
    "    no2=int(no2)\n",
    "    match op:\n",
    "        case \"+\" | \"add\" | \"Add\":\n",
    "            print(\"adition is\", no1+no2)\n",
    "        case \"-\" | \"sub\" | \"Sub\":\n",
    "            print(\"Subtraction is\", no1-no2)\n",
    "        case \"*\" | \"mult\" | \"Mult\":\n",
    "            print(\"Subtraction is\", no1*no2)\n",
    "        case \"/\" | \"div\" | \"Div\":\n",
    "            print(\"Subtraction is\", no1/no2)\n",
    "        case \"e\" | 'E':\n",
    "            print(\"Exiting ...\")\n",
    "            break"
   ]
  },
  {
   "cell_type": "code",
   "execution_count": null,
   "id": "8e45fc98",
   "metadata": {},
   "outputs": [],
   "source": []
  }
 ],
 "metadata": {
  "kernelspec": {
   "display_name": "Python 3 (ipykernel)",
   "language": "python",
   "name": "python3"
  },
  "language_info": {
   "codemirror_mode": {
    "name": "ipython",
    "version": 3
   },
   "file_extension": ".py",
   "mimetype": "text/x-python",
   "name": "python",
   "nbconvert_exporter": "python",
   "pygments_lexer": "ipython3",
   "version": "3.11.4"
  }
 },
 "nbformat": 4,
 "nbformat_minor": 5
}
