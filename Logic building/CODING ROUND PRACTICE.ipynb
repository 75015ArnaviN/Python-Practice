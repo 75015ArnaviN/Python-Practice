{
 "cells": [
  {
   "cell_type": "code",
   "execution_count": 22,
   "id": "85d56112",
   "metadata": {},
   "outputs": [
    {
     "data": {
      "text/plain": [
       "datetime.datetime(1900, 1, 25, 0, 0)"
      ]
     },
     "execution_count": 22,
     "metadata": {},
     "output_type": "execute_result"
    }
   ],
   "source": [
    "from datetime import datetime\n",
    "datetime.strptime(\"25\", \"%d\")"
   ]
  },
  {
   "cell_type": "code",
   "execution_count": 34,
   "id": "5ab3d342",
   "metadata": {},
   "outputs": [
    {
     "name": "stdout",
     "output_type": "stream",
     "text": [
      "Local\n"
     ]
    }
   ],
   "source": [
    "def func():\n",
    "   global value\n",
    "   value = \"Local\"\n",
    "   \n",
    "value = \"Global\"\n",
    "func()\n",
    "print(value)"
   ]
  },
  {
   "cell_type": "code",
   "execution_count": 18,
   "id": "187dab76",
   "metadata": {},
   "outputs": [
    {
     "name": "stdout",
     "output_type": "stream",
     "text": [
      "1 2\n",
      "2 3\n",
      "3 4\n"
     ]
    }
   ],
   "source": [
    "def MinAbsoluteDiffPairs(arr):\n",
    "    result = []\n",
    "    n = len(arr)\n",
    "    arr.sort()\n",
    "    minDiff = 10 ** 9\n",
    "    for i in range(n - 1):\n",
    "        minDiff = min(minDiff,abs(arr[i] - arr[i + 1]))\n",
    "    for i in range(n - 1):\n",
    "        pairs = []\n",
    "        if (abs(arr[i] - arr[i + 1]) == minDiff):\n",
    "            pairs.append(min(arr[i], arr[i + 1]))\n",
    "            pairs.append(max(arr[i], arr[i + 1]))\n",
    "            result.append(pairs)\n",
    "             \n",
    "    return result\n",
    "arr = [ 4, 2, 1, 3 ]\n",
    "N = len(arr)\n",
    "pairs = MinAbsoluteDiffPairs(arr)\n",
    "for v in pairs:\n",
    "    print(f\"{v[0]} {v[1]}\")\n",
    "    \n",
    "    \n",
    "    \n",
    "# import math as Math\n",
    "# def minAbsDiffPairs(arr):\n",
    "#     ans = []\n",
    "#     n = len(arr)\n",
    "#     arr.sort()\n",
    "#     minDiff = 10 ** 9\n",
    "#     for i in range(n - 1):\n",
    "#         minDiff = min(minDiff, Math.fabs(arr[i] -\n",
    "#                                          arr[i + 1]))\n",
    "#     for i in range(n - 1):\n",
    "#         pair = []\n",
    "#         if (Math.fabs(arr[i] - arr[i + 1]) == minDiff):\n",
    "#             pair.append(min(arr[i], arr[i + 1]))\n",
    "#             pair.append(max(arr[i], arr[i + 1]))\n",
    "#             ans.append(pair)\n",
    "             \n",
    "#     return ans\n",
    "# arr = [ 4, 2, 1, 3 ]\n",
    "# N = len(arr)\n",
    "# pairs = minAbsDiffPairs(arr)\n",
    "# for v in pairs:\n",
    "#     print(f\"{v[0]} {v[1]}\")"
   ]
  },
  {
   "cell_type": "markdown",
   "id": "b08c816c",
   "metadata": {},
   "source": [
    "# Q1 \n",
    "Write a function in Python to check duplicate letters inside a word, without considering case. It must accept a string, i.e., a sentence. The function should return True if the sentence has any word with duplicate letters, else return False. "
   ]
  },
  {
   "cell_type": "code",
   "execution_count": 1,
   "id": "1ccbc48a",
   "metadata": {},
   "outputs": [
    {
     "name": "stdout",
     "output_type": "stream",
     "text": [
      "True\n"
     ]
    }
   ],
   "source": [
    "def has_duplicate_letters(sentence):\n",
    "    words = sentence.split()\n",
    "    for word in words:\n",
    "        lower_word = word.lower() \n",
    "        unique_letters = set()\n",
    "        for letter in lower_word:\n",
    "            if letter in unique_letters:\n",
    "                return True\n",
    "            else:\n",
    "                unique_letters.add(letter)\n",
    "    return False\n",
    "result = has_duplicate_letters(\"I am glad to be here!\")\n",
    "print(result)"
   ]
  },
  {
   "cell_type": "markdown",
   "id": "2bceee53",
   "metadata": {},
   "source": [
    "# Q2\n",
    "Write a function in Python to parse a string such that it accepts a parameter- an encoded string. This encoded string will contain a first name, last name, and an id. You can separate the values in the string by any number of zeros. The id will not contain any zeros. The function should return a Python dictionary with the first name, last name, and id values. For example, if the input would be \"John000Doe000123\". Then the function should return: { \"first_name\": \"John\", \"last_name\": \"Doe\", \"id\": \"123\" }\n"
   ]
  },
  {
   "cell_type": "code",
   "execution_count": 28,
   "id": "fbc7dfeb",
   "metadata": {},
   "outputs": [
    {
     "name": "stdout",
     "output_type": "stream",
     "text": [
      "{'first_name': 'John', 'last_name': 'Doe', 'id': '123'}\n"
     ]
    }
   ],
   "source": [
    "def parse_encoded_string(encoded_string):\n",
    "    parts = encoded_string.split('000')\n",
    "    first_name = parts[0]\n",
    "    last_name = parts[1]\n",
    "    user_id = parts[2]\n",
    "    result_dict = {\n",
    "        \"first_name\": first_name,\n",
    "        \"last_name\": last_name,\n",
    "        \"id\": user_id\n",
    "    }\n",
    "    return result_dict\n",
    "encoded_string = \"John000Doe000123\"\n",
    "result = parse_encoded_string(encoded_string)\n",
    "print(result)\n"
   ]
  },
  {
   "cell_type": "markdown",
   "id": "66b0d37b",
   "metadata": {},
   "source": [
    "# Q3 \n",
    "Write a function in Python to convert a decimal to a hex. It must accept a string of ASCII characters as input. The function should return the value of each character as a hexadecimal string. You have to remove the suffix 0x from all hex representations. You have to separate each byte by a space and return all alpha hexadecimal characters as lowercase."
   ]
  },
  {
   "cell_type": "code",
   "execution_count": 34,
   "id": "9175bd7a",
   "metadata": {},
   "outputs": [
    {
     "name": "stdout",
     "output_type": "stream",
     "text": [
      "40 32 31 5a\n"
     ]
    }
   ],
   "source": [
    "def ascii_to_hex(input_string):\n",
    "    hex_result = []\n",
    "    for char in input_string:\n",
    "        # Convert the character to its ASCII value and then to hexadecimal\n",
    "        hex_representation = hex(ord(char))[2:]\n",
    "        # Convert any uppercase letters to lowercase\n",
    "        hex_representation = hex_representation.lower()\n",
    "        # Add the hex representation to the result list\n",
    "        hex_result.append(hex_representation)\n",
    "\n",
    "   # Join the list elements with spaces and return the result\n",
    "    return ' '.join(hex_result)\n",
    "\n",
    "# Example usage:\n",
    "input_string = \"@21Z\"\n",
    "result = ascii_to_hex(input_string)\n",
    "print(result)\n"
   ]
  },
  {
   "cell_type": "markdown",
   "id": "a15ed83a",
   "metadata": {},
   "source": [
    "# Q4 \n",
    "Compress the given string S using following rules, \n",
    "- If the string contains a alphabate or special char, that occurs 4 times consecutively, then replace it with its compressed representation, (4, given character) in the string. \n",
    "- Neglect the case of latters when counting the repeatitions and creating compressed representation. \n",
    "- If there are multiple spaces then take them as a single space only, and replace with (1, ).\n",
    "- S is containing only aphabates or special characters, anything other than this should be kept as it is in the output"
   ]
  },
  {
   "cell_type": "code",
   "execution_count": 35,
   "id": "e19d2be2",
   "metadata": {},
   "outputs": [
    {
     "name": "stdout",
     "output_type": "stream",
     "text": [
      "aaa(7, b)ccc(4, d)   e\n"
     ]
    }
   ],
   "source": [
    "def compress_string(s):\n",
    "    compressed = []\n",
    "    current_char = \"\"\n",
    "    count = 0\n",
    "    for char in s:\n",
    "        if char.isalpha() or char.isspace():  # Check if the character is alphabetic or space\n",
    "            char_lower = char.lower()\n",
    "            if char_lower == current_char:\n",
    "                count += 1\n",
    "            else:\n",
    "                if count >= 4:\n",
    "                    compressed.append(f\"({count}, {current_char})\")\n",
    "                else:\n",
    "                    compressed.extend([current_char] * count)\n",
    "                current_char = char_lower\n",
    "                count = 1\n",
    "        else:\n",
    "            # Non-alphabetic and non-space characters are kept as is\n",
    "            if count >= 4:\n",
    "                compressed.append(f\"({count}, {current_char})\")\n",
    "            else:\n",
    "                compressed.extend([current_char] * count)\n",
    "            compressed.append(char)\n",
    "            current_char = \"\"\n",
    "            count = 0\n",
    "\n",
    "    # Handle the last character(s)\n",
    "    if count >= 4:\n",
    "        compressed.append(f\"({count}, {current_char})\")\n",
    "    else:\n",
    "        compressed.extend([current_char] * count)\n",
    "\n",
    "    return ''.join(compressed)\n",
    "\n",
    "# Example usage:\n",
    "input_string = \"aaabbbbbbbccCDddd   E\"\n",
    "result = compress_string(input_string)\n",
    "print(result)\n"
   ]
  },
  {
   "cell_type": "markdown",
   "id": "34111bd6",
   "metadata": {},
   "source": [
    "# Q5 \n",
    "Write a function named 'format_number' that takes a number as its only parameter. Your function should convert the number to a string and add commas as a thousand separators. For example, calling format_number(1000000) should return \"1,000,000\". \n",
    "- In case negetive number then print error message"
   ]
  },
  {
   "cell_type": "code",
   "execution_count": 36,
   "id": "db34b671",
   "metadata": {},
   "outputs": [
    {
     "name": "stdout",
     "output_type": "stream",
     "text": [
      "1,000,000\n",
      "Error: Negative numbers are not supported.\n"
     ]
    }
   ],
   "source": [
    "def format_number(num):\n",
    "    if num < 0:\n",
    "        print(\"Error: Negative numbers are not supported.\")\n",
    "        return\n",
    "\n",
    "    formatted_num = \"{:,}\".format(num)\n",
    "    return formatted_num\n",
    "\n",
    "# Example usage:\n",
    "number = 1000000\n",
    "result = format_number(number)\n",
    "print(result)  # This will print \"1,000,000\"\n",
    "\n",
    "# Example with a negative number:\n",
    "negative_number = -5000\n",
    "format_number(negative_number)  # This will print the error message\n"
   ]
  },
  {
   "cell_type": "markdown",
   "id": "65c59b25",
   "metadata": {},
   "source": [
    "# Q6 \n",
    "There is pizza shop. When order is given it takes name of the person as input. There can be typo mistakes, so system allows to edit the name. Write a function which takes a name string as input, position, and new character. Then it changes character in name for given position with new character. Return the edited string from the function.\n"
   ]
  },
  {
   "cell_type": "code",
   "execution_count": 37,
   "id": "643a15ea",
   "metadata": {},
   "outputs": [
    {
     "name": "stdout",
     "output_type": "stream",
     "text": [
      "Joxn\n"
     ]
    }
   ],
   "source": [
    "def edit_name(name, position, new_char):\n",
    "    if position < 0 or position >= len(name):\n",
    "        print(\"Error: Invalid position.\")\n",
    "        return name\n",
    "\n",
    "    edited_name = list(name)\n",
    "    edited_name[position] = new_char\n",
    "    return ''.join(edited_name)\n",
    "\n",
    "# Example usage:\n",
    "original_name = \"John\"\n",
    "position_to_edit = 2\n",
    "new_character = \"x\"\n",
    "\n",
    "edited_result = edit_name(original_name, position_to_edit, new_character)\n",
    "print(edited_result)\n"
   ]
  },
  {
   "cell_type": "markdown",
   "id": "e9d2da00",
   "metadata": {},
   "source": [
    "# Q7 \n",
    "Ms. Gabriel Williams is a botany professor at District College. One day, she asked her student Mickey to compute the average of all the plants with distinct heights in her greenhouse.\n",
    "\n",
    "Formula used:\n",
    "Average = Sum of Distinct Heights/Total Number of Distinct Heights\n",
    "\n",
    "Function Description\n",
    "The average has the following parameters:\n",
    "    Input string containing all heights seperated by space\n",
    "Returns\n",
    "    float: the resulting float value rounded to 3 places after the decimal\n",
    "\n",
    "Input Format\n",
    "The first line contains the integer, N, the size or arr.\n",
    "The second line contains the N space-separated integers, arr[i].\n",
    "Constraints\n",
    "\n",
    "0 < N <= 100\n",
    "Sample Input\n",
    "STDIN                                       Function\n",
    "-----                                       --------\n",
    "10                                          arr[] size N = 10\n",
    "161 182 161 154 176 170 167 171 170 174     arr = [161, 181, ..., 174]\n",
    "\n",
    "Sample Output\n",
    "169.375\n",
    "\n",
    "Explanation\n",
    "Here, 154 161 167 170 171 174 176 182 are distinct values from input.\n",
    "So, \n",
    "Average = 1355/8 = 169.375"
   ]
  },
  {
   "cell_type": "code",
   "execution_count": 40,
   "id": "3d5cb3ff",
   "metadata": {},
   "outputs": [
    {
     "name": "stdout",
     "output_type": "stream",
     "text": [
      "Enter the size of the array: 4\n",
      "Enter space-separated heights: 12 5 6 37\n",
      "15.0\n"
     ]
    }
   ],
   "source": [
    "def average_of_distinct_heights(heights):\n",
    "    distinct_heights = set(heights)\n",
    "    sum_of_heights = sum(distinct_heights)\n",
    "    total_distinct_heights = len(distinct_heights)\n",
    "\n",
    "    if total_distinct_heights == 0:\n",
    "        return 0  # Avoid division by zero\n",
    "\n",
    "    average = sum_of_heights / total_distinct_heights\n",
    "    return round(average, 3)\n",
    "\n",
    "# Example usage:\n",
    "if __name__ == \"__main__\":\n",
    "    # Sample input\n",
    "    n = int(input(\"Enter the size of the array: \"))\n",
    "    arr = list(map(int, input(\"Enter space-separated heights: \").split()))\n",
    "\n",
    "    # Check constraints\n",
    "    if 0 < n <= 100:\n",
    "        result = average_of_distinct_heights(arr)\n",
    "        print(result)\n",
    "    else:\n",
    "        print(\"Error: Invalid array size. Must be between 1 and 100.\")\n"
   ]
  },
  {
   "cell_type": "markdown",
   "id": "7ab0ab2c",
   "metadata": {},
   "source": [
    "# Q8 \n",
    "There is an array of n integers. There are also 2 disjoint sets, A and B, each containing m integers. You like all the integers in set A and dislike all the integers in set B. Your initial happiness is 0. For each i integer in the array, if i belongs to A, you add 1 to your happiness. If i belongs to B, you add -1 to your happiness. Otherwise, your happiness does not change. Output your final happiness at the end.\n",
    "\n",
    "Note: Since A and B are sets, they have no repeated elements. However, the array might contain duplicate elements.\n",
    "Constraints\n",
    "    1 <= n <= 105\n",
    "    1 <= m <= 105\n",
    "    1 <= Any integer in the input <= 109\n",
    "\n",
    "Input Format\n",
    "The first line contains integers n and m separated by a space.\n",
    "The second line contains n integers, the elements of the array.\n",
    "The third and fourth lines contain m integers, A and B, respectively.\n",
    "\n",
    "Output Format\n",
    "Output a single integer, your total happiness.\n",
    "\n",
    "Sample Input\n",
    "3 2\n",
    "1 5 3\n",
    "3 1\n",
    "5 7\n",
    "\n",
    "Sample Output\n",
    "1\n"
   ]
  },
  {
   "cell_type": "code",
   "execution_count": 13,
   "id": "13e4fd8c",
   "metadata": {},
   "outputs": [
    {
     "name": "stdout",
     "output_type": "stream",
     "text": [
      "input 1:3 2\n",
      "input 2:1 5 3\n",
      "input 3:3 1\n",
      "input 4:5 7\n",
      "Result = 1\n"
     ]
    }
   ],
   "source": [
    "def calculate_happiness(n, m, array, set_A, set_B):\n",
    "    happiness = 0\n",
    "\n",
    "    for num in array:\n",
    "        if num in set_A:\n",
    "            happiness += 1\n",
    "        elif num in set_B:\n",
    "            happiness -= 1\n",
    "\n",
    "    return happiness\n",
    "\n",
    "# Example usage:\n",
    "if __name__ == \"__main__\":\n",
    "    # Parse input\n",
    "    n, m = map(int, input(\"input 1:\").split())\n",
    "    array = list(map(int, input(\"input 2:\").split()))\n",
    "    set_A = set(map(int, input(\"input 3:\").split()))\n",
    "    set_B = set(map(int, input(\"input 4:\").split()))\n",
    "\n",
    "    # Check constraints\n",
    "    if 1 <= n <= 10**5 and 1 <= m <= 10**5:\n",
    "        result = calculate_happiness(n, m, array, set_A, set_B)\n",
    "        print(f\"Result = {result}\")\n",
    "    else:\n",
    "        print(\"Error: Invalid input constraints.\")\n"
   ]
  },
  {
   "cell_type": "markdown",
   "id": "df51f475",
   "metadata": {},
   "source": [
    "# Q9 \n",
    "There is an essay writting competition. Winner will be a person who uses maximum number of unique valid words in his/her essay. There is a bonus score if essay has numbers in it. Take 5 essays as input from user. Print the winner essay number using following function.\n",
    "\n",
    "The function takes input a string containing an essay and returns the total score.\n",
    "- There are multiple sentences in one essay.\n",
    "- After every word there is a space\n",
    "- Sentence can end with 3 characters --> .?!\n",
    "- A valid word contains minimum 2 characters\n",
    "- All other special characters should be neglected\n",
    "- Bonus score to each whole number is 1\n"
   ]
  },
  {
   "cell_type": "code",
   "execution_count": 14,
   "id": "5a196fda",
   "metadata": {},
   "outputs": [
    {
     "name": "stdout",
     "output_type": "stream",
     "text": [
      "Enter Essay 1: 323 23sd ded ded\n",
      "Enter Essay 2: fef fesfe fefewf fef\n",
      "Enter Essay 3: fewf fef\n",
      "Enter Essay 4: fesf feffes fefee efeweed ed\n",
      "Enter Essay 5: ew\n",
      "Essay 1: 3 points\n",
      "Essay 2: 3 points\n",
      "Essay 3: 2 points\n",
      "Essay 4: 5 points\n",
      "Essay 5: 1 points\n",
      "\n",
      "Winner: Essay 4 with 5 points\n"
     ]
    }
   ],
   "source": [
    "import re\n",
    "\n",
    "def calculate_score(essay):\n",
    "    words = re.findall(r'\\b(?:\\d+|[a-zA-Z]{2,})\\b', essay)\n",
    "    unique_words = set(words)\n",
    "    bonus_score = sum(1 for word in words if word.isdigit())\n",
    "\n",
    "    total_score = len(unique_words) + bonus_score\n",
    "    return total_score\n",
    "\n",
    "def find_winner_essay(essays):\n",
    "    max_score = -1\n",
    "    winner_number = -1\n",
    "\n",
    "    for i, essay in enumerate(essays, start=1):\n",
    "        score = calculate_score(essay)\n",
    "        print(f\"Essay {i}: {score} points\")\n",
    "        \n",
    "        if score > max_score:\n",
    "            max_score = score\n",
    "            winner_number = i\n",
    "\n",
    "    print(f\"\\nWinner: Essay {winner_number} with {max_score} points\")\n",
    "\n",
    "# Example usage:\n",
    "if __name__ == \"__main__\":\n",
    "    essays = []\n",
    "\n",
    "    for i in range(5):\n",
    "        essay = input(f\"Enter Essay {i + 1}: \")\n",
    "        essays.append(essay)\n",
    "\n",
    "    find_winner_essay(essays)\n"
   ]
  },
  {
   "cell_type": "markdown",
   "id": "42720328",
   "metadata": {},
   "source": [
    "# Super Advanced Practice (10 +)"
   ]
  },
  {
   "cell_type": "markdown",
   "id": "5865bdd4",
   "metadata": {},
   "source": [
    "# 1.\n",
    "There is company which maintains emloyee records in a python list containing dictionaries.  Write a function that takes this list of dictionaries as input. Dictionary has name, age and gender of a person. Sort all entries by age. If there is a tie then sort by gender. If still there is tie then sort by name. In names capital letters are considered as higher than lower case letters.\n",
    "In case of negative age, special characters in name, or gender other than 'M' or 'F' give appropriate error message and don't include the record in the output list.\n",
    "\n",
    "Format of dictionary {'name':'emp_name','age':'emp_age','geder':'emp_gender'}\n",
    "\n",
    "Ex. \n",
    "input: \n",
    "[ {'name':'ss','age':'23','geder':'F'},\n",
    "{'name':'xy','age':'19','geder':'F'},\n",
    "{'name':'abc','age':'23','geder':'F'},\n",
    "{'name':'iam','age':'23','geder':'M'},\n",
    "{'name':'aa','age':'45','geder':'M'},\n",
    "]\n",
    "\n",
    "Output :\n",
    "[ {'name':'xy','age':'19','geder':'F'},\n",
    "{'name':'abc','age':'23','geder':'F'},\n",
    "{'name':'ss','age':'23','geder':'F'},\n",
    "{'name':'iam','age':'23','geder':'M'},\n",
    "{'name':'aa','age':'45','geder':'M'},\n",
    "]"
   ]
  },
  {
   "cell_type": "code",
   "execution_count": 8,
   "id": "d5a660dd",
   "metadata": {},
   "outputs": [
    {
     "name": "stdout",
     "output_type": "stream",
     "text": [
      "{'name': 'xy', 'age': '19', 'geder': 'F'}\n",
      "{'name': 'abc', 'age': '23', 'geder': 'F'}\n",
      "{'name': 'ss', 'age': '23', 'geder': 'F'}\n",
      "{'name': 'iam', 'age': '23', 'geder': 'M'}\n",
      "{'name': 'aa', 'age': '45', 'geder': 'M'}\n"
     ]
    }
   ],
   "source": [
    "def sort_employee_records(employee_list):\n",
    "    def custom_sort(record):\n",
    "        try:\n",
    "            age = int(record['age'])\n",
    "            gender = record['geder']\n",
    "            name = record['name']\n",
    "        except ValueError:\n",
    "            return float('inf'), float('inf'), name\n",
    "\n",
    "        if age < 0 or gender not in ('M', 'F'):\n",
    "            raise ValueError(\"Invalid age, gender, or name format.\")\n",
    "\n",
    "        return age, gender, name\n",
    "\n",
    "    try:\n",
    "        sorted_records = sorted(employee_list, key=custom_sort)\n",
    "        return sorted_records\n",
    "    except ValueError as e:\n",
    "        print(f\"Error: {e}\")\n",
    "        return []\n",
    "\n",
    "# Example usage:\n",
    "if __name__ == \"__main__\":\n",
    "    employee_records = [\n",
    "        {'name': 'ss', 'age': '23', 'geder': 'F'},\n",
    "        {'name': 'xy', 'age': '19', 'geder': 'F'},\n",
    "        {'name': 'abc', 'age': '23', 'geder': 'F'},\n",
    "        {'name': 'iam', 'age': '23', 'geder': 'M'},\n",
    "        {'name': 'aa', 'age': '45', 'geder': 'M'},\n",
    "    ]\n",
    "\n",
    "    result = sort_employee_records(employee_records)\n",
    "    for element in result:\n",
    "        print(element)\n"
   ]
  },
  {
   "cell_type": "markdown",
   "id": "050d1b64",
   "metadata": {},
   "source": [
    "# 2.\n",
    "Q Mr. Vincent works in a door mat manufacturing company. One day, he designed a new door mat with the following specifications:\n",
    "\n",
    "Mat size must be N X M. (N is an odd natural number, and M is 3 times N.)\n",
    "The design should have ‘WELCOME’ written in the center.\n",
    "The design pattern should only use |, . and – characters.\n",
    "\n",
    "Sample Designs\n",
    "Size: 7 x 21 \n",
    "    ---------.|.---------\n",
    "    ------.|..|..|.------\n",
    "    ---.|..|..|..|..|.---\n",
    "    -------WELCOME-------\n",
    "    ---.|..|..|..|..|.---\n",
    "    ------.|..|..|.------\n",
    "    ---------.|.---------\n",
    "    \n",
    "    Size: 11 x 33\n",
    "    ---------------.|.---------------\n",
    "    ------------.|..|..|.------------\n",
    "    ---------.|..|..|..|..|.---------\n",
    "    ------.|..|..|..|..|..|..|.------\n",
    "    ---.|..|..|..|..|..|..|..|..|.---\n",
    "    -------------WELCOME-------------\n",
    "    ---.|..|..|..|..|..|..|..|..|.---\n",
    "    ------.|..|..|..|..|..|..|.------\n",
    "    ---------.|..|..|..|..|.---------\n",
    "    ------------.|..|..|.------------\n",
    "    ---------------.|.---------------\n",
    "\n",
    "Input Format\n",
    "A single line containing the space-separated values of N and M.\n",
    "\n",
    "Constraints\n",
    "    5 < N < 101\n",
    "    15 < M < 303\n",
    "\n",
    "Output Format\n",
    "Output the design pattern.\n",
    "\n",
    "Sample Input\n",
    "9 27\n",
    "\n",
    "Sample Output\n",
    "\n",
    "------------.|.------------\n",
    "---------.|..|..|.---------\n",
    "------.|..|..|..|..|.------\n",
    "---.|..|..|..|..|..|..|.---\n",
    "----------WELCOME----------\n",
    "---.|..|..|..|..|..|..|.---\n",
    "------.|..|..|..|..|.------\n",
    "---------.|..|..|.---------\n",
    "------------.|.------------\n"
   ]
  },
  {
   "cell_type": "code",
   "execution_count": 2,
   "id": "c5fa537f",
   "metadata": {},
   "outputs": [
    {
     "name": "stdout",
     "output_type": "stream",
     "text": [
      "Enter space seperated no. of lines and no. of '-'11 33\n",
      "---------------.|.---------------\n",
      "------------.|..|..|.------------\n",
      "---------.|..|..|..|..|.---------\n",
      "------.|..|..|..|..|..|..|.------\n",
      "---.|..|..|..|..|..|..|..|..|.---\n",
      "-------------WELCOME-------------\n",
      "---.|..|..|..|..|..|..|..|..|.---\n",
      "------.|..|..|..|..|..|..|.------\n",
      "---------.|..|..|..|..|.---------\n",
      "------------.|..|..|.------------\n",
      "---------------.|.---------------\n"
     ]
    }
   ],
   "source": [
    "def print_door_mat(n, m):\n",
    "    pattern = [('.|.' * (2 * i + 1)).center(m, '-') for i in range(n // 2)]\n",
    "\n",
    "    welcome_line = 'WELCOME'.center(m, '-')\n",
    "\n",
    "    door_mat = '\\n'.join(pattern + [welcome_line] + pattern[::-1])\n",
    "\n",
    "    print(door_mat)\n",
    "\n",
    "# Example usage:\n",
    "if __name__ == \"__main__\":\n",
    "    # Sample input\n",
    "    n, m = map(int, input(\"Enter space seperated no. of lines and no. of '-'\").split())\n",
    "\n",
    "    # Check constraints\n",
    "    if 5 < n < 101 and 15 < m < 303 and n % 2 == 1 and m == 3 * n:\n",
    "        print_door_mat(n, m)\n",
    "    else:\n",
    "        print(\"Error: Invalid input constraints.\")\n",
    "        "
   ]
  },
  {
   "cell_type": "markdown",
   "id": "334e739b",
   "metadata": {},
   "source": [
    "# 3. \n",
    "There is an airport which maintains data of passengers coming in list of entries. Each entry is a string of format \"name:TicketID\". TicketId is of 5 characters. TicketID contains first two letters as airline code and last 3 letters as seat number.\n",
    "Also, there is another list of airline data. Here each entry is a string of format \"AirlineCode:Capacity\". \n",
    "Write a function which takes these two lists as input \n",
    "Function returns list of airline codes which are not full\n",
    "\n",
    "Example\n",
    "input:\n",
    "[ \"Simba:AA003\", \"Prayas:DA006\", \"Pran:DA023\", \"Rama:AA001\", \"Abhay:SJ098\"]\n",
    "[ \"AA:02\", \"DA:04\", \"SJ:100\"]\n",
    "\n",
    "Output:\n",
    "[DA, SJ ]\n"
   ]
  },
  {
   "cell_type": "code",
   "execution_count": 5,
   "id": "9e0dde8e",
   "metadata": {},
   "outputs": [
    {
     "name": "stdout",
     "output_type": "stream",
     "text": [
      "['DA', 'SJ']\n"
     ]
    }
   ],
   "source": [
    "def non_full_airlines(passenger_entries, airline_data):\n",
    "    # Create a dictionary to store the current occupancy for each airline code\n",
    "    occupancy = {code: 0 for code, _ in [entry.split(':') for entry in airline_data]}\n",
    "\n",
    "    # Iterate through passenger entries to update occupancy\n",
    "    for entry in passenger_entries:\n",
    "        _, ticket_id = entry.split(':')\n",
    "        airline_code = ticket_id[:2]\n",
    "\n",
    "        if airline_code in occupancy:\n",
    "            occupancy[airline_code] += 1\n",
    "\n",
    "    # Get the list of airline codes that are not full\n",
    "    non_full_airlines = [code for code in occupancy if occupancy[code] < int([capacity for airline, capacity in [entry.split(':') for entry in airline_data] if airline == code][0])]\n",
    "\n",
    "    return non_full_airlines\n",
    "\n",
    "# Example usage:\n",
    "if __name__ == \"__main__\":\n",
    "    passenger_entries = [\"Simba:AA003\", \"Prayas:DA006\", \"Pran:DA023\", \"Rama:AA001\", \"Abhay:SJ098\"]\n",
    "    airline_data = [\"AA:02\", \"DA:04\", \"SJ:100\"]\n",
    "\n",
    "    result = non_full_airlines(passenger_entries, airline_data)\n",
    "    print(result)\n"
   ]
  }
 ],
 "metadata": {
  "kernelspec": {
   "display_name": "Python 3 (ipykernel)",
   "language": "python",
   "name": "python3"
  },
  "language_info": {
   "codemirror_mode": {
    "name": "ipython",
    "version": 3
   },
   "file_extension": ".py",
   "mimetype": "text/x-python",
   "name": "python",
   "nbconvert_exporter": "python",
   "pygments_lexer": "ipython3",
   "version": "3.11.4"
  }
 },
 "nbformat": 4,
 "nbformat_minor": 5
}
