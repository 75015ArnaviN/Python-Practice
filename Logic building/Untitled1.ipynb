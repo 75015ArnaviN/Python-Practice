{
 "cells": [
  {
   "cell_type": "code",
   "execution_count": 9,
   "id": "41f7d1ca",
   "metadata": {},
   "outputs": [
    {
     "name": "stdout",
     "output_type": "stream",
     "text": [
      "Enter a number:11\n"
     ]
    },
    {
     "data": {
      "text/plain": [
       "False"
      ]
     },
     "execution_count": 9,
     "metadata": {},
     "output_type": "execute_result"
    }
   ],
   "source": [
    "import math\n",
    "def is_prime(no):\n",
    "    flag= False\n",
    "    for i in range(1,int(math.sqrt(no))):\n",
    "        if no%i==0:\n",
    "            return flag\n",
    "        else:\n",
    "            flag= True\n",
    "            return flag\n",
    "\n",
    "    \n",
    "number=int(input(\"Enter a number:\"))\n",
    "is_prime(number)"
   ]
  },
  {
   "cell_type": "markdown",
   "id": "05001b3a",
   "metadata": {},
   "source": []
  }
 ],
 "metadata": {
  "kernelspec": {
   "display_name": "Python 3 (ipykernel)",
   "language": "python",
   "name": "python3"
  },
  "language_info": {
   "codemirror_mode": {
    "name": "ipython",
    "version": 3
   },
   "file_extension": ".py",
   "mimetype": "text/x-python",
   "name": "python",
   "nbconvert_exporter": "python",
   "pygments_lexer": "ipython3",
   "version": "3.11.4"
  }
 },
 "nbformat": 4,
 "nbformat_minor": 5
}
