{
 "cells": [
  {
   "cell_type": "code",
   "execution_count": 1,
   "id": "ca9c285b",
   "metadata": {},
   "outputs": [
    {
     "ename": "SyntaxError",
     "evalue": "invalid syntax (594021927.py, line 1)",
     "output_type": "error",
     "traceback": [
      "\u001b[1;36m  Cell \u001b[1;32mIn[1], line 1\u001b[1;36m\u001b[0m\n\u001b[1;33m    Q1. What will be output of following\u001b[0m\n\u001b[1;37m             ^\u001b[0m\n\u001b[1;31mSyntaxError\u001b[0m\u001b[1;31m:\u001b[0m invalid syntax\n"
     ]
    }
   ],
   "source": [
    "\n",
    "Take a number from user. Find its square root. And check if square root is an integer or not. (Hint: Use built-in function from float data type functions for last part)\n",
    "\n",
    "import math\n",
    "\n",
    "a=int(input(\"Enter the number\"))\n",
    "\n",
    "print(math.sqrt(a))\n",
    "\n",
    "isinstance(a,float)\n",
    "Enter the number64\n",
    "8.0\n",
    "False\n",
    "c. Take hexadecimal string from user and convert it to float Ex. User input string: '0x1.67e30' o/p 1.4058074951171875\n",
    "\n",
    "a= int(input(\"Enter the string\"))\n",
    "\n",
    "x=float(a)\n",
    "print(x)\n",
    "Enter the string0x1.67e30\n",
    "---------------------------------------------------------------------------\n",
    "ValueError                                Traceback (most recent call last)\n",
    "Cell In[7], line 1\n",
    "----> 1 a= int(input(\"Enter the string\"))\n",
    "      3 x=float(a)\n",
    "      4 print(x)\n",
    "\n",
    "ValueError: invalid literal for int() with base 10: '0x1.67e30'\n",
    "WAP to convert given floating point number into fraction i..e numerator and denominator, and print them.\n",
    "\n",
    "(0.25).as_integer_ratio()\n",
    "(1, 4)\n",
    "Q15. WAP to create simple calculator in python.\n",
    "\n",
    "Take two numbers from user and give following options\n",
    "\n",
    "a. add b. subtract c. divide d. multiply e. integer division f. mod operation g. check if both numbers are same h. power operation i. square root of both numbers\n",
    "j. log of both numbers k. gcd (find the the greatest common divisor of the two integers) l. lcm (least common multiple) (Hint: Use inbuilt functions)\n",
    "\n",
    "print(\"press 1 for add\")\n",
    "print(\"press 2 for subtract\")\n",
    "print(\"press 3 for divide\")\n",
    "print(\"press 4 fro multiply \")\n",
    "print(\"press 5 for integer division\")\n",
    "print(\"press 6 for mod operation\")\n",
    "print(\"press 7 for operation\")\n",
    "print(\"press 4 to quit \")\n",
    "a=int(input(\"Enter the choice\"))"
   ]
  },
  {
   "cell_type": "markdown",
   "id": "22963799",
   "metadata": {},
   "source": [
    "# Q1. What will be output of following\n",
    "a. type(0) b. type(0.0) c. type('A') d. type(print) -> remember print is function e. type(3+3j) f. type(True)\n"
   ]
  },
  {
   "cell_type": "code",
   "execution_count": 12,
   "id": "407ca43b",
   "metadata": {},
   "outputs": [
    {
     "data": {
      "text/plain": [
       "int"
      ]
     },
     "execution_count": 12,
     "metadata": {},
     "output_type": "execute_result"
    }
   ],
   "source": [
    "type(0)"
   ]
  },
  {
   "cell_type": "code",
   "execution_count": 13,
   "id": "d6e0fbc4",
   "metadata": {},
   "outputs": [
    {
     "data": {
      "text/plain": [
       "float"
      ]
     },
     "execution_count": 13,
     "metadata": {},
     "output_type": "execute_result"
    }
   ],
   "source": [
    "type(0.0)"
   ]
  },
  {
   "cell_type": "code",
   "execution_count": 14,
   "id": "0a981a5d",
   "metadata": {},
   "outputs": [
    {
     "data": {
      "text/plain": [
       "str"
      ]
     },
     "execution_count": 14,
     "metadata": {},
     "output_type": "execute_result"
    }
   ],
   "source": [
    "type('A')"
   ]
  },
  {
   "cell_type": "code",
   "execution_count": 15,
   "id": "5aaa092b",
   "metadata": {},
   "outputs": [
    {
     "data": {
      "text/plain": [
       "builtin_function_or_method"
      ]
     },
     "execution_count": 15,
     "metadata": {},
     "output_type": "execute_result"
    }
   ],
   "source": [
    "type(print)"
   ]
  },
  {
   "cell_type": "code",
   "execution_count": 16,
   "id": "21a48c3c",
   "metadata": {},
   "outputs": [
    {
     "data": {
      "text/plain": [
       "complex"
      ]
     },
     "execution_count": 16,
     "metadata": {},
     "output_type": "execute_result"
    }
   ],
   "source": [
    "# builtin_function_or_method\n",
    "type(3+3j)"
   ]
  },
  {
   "cell_type": "code",
   "execution_count": 17,
   "id": "2c1ffd0a",
   "metadata": {},
   "outputs": [
    {
     "data": {
      "text/plain": [
       "bool"
      ]
     },
     "execution_count": 17,
     "metadata": {},
     "output_type": "execute_result"
    }
   ],
   "source": [
    "type(True)"
   ]
  },
  {
   "cell_type": "markdown",
   "id": "1718523c",
   "metadata": {},
   "source": [
    "# Q2. What will be output of following\n",
    "\n",
    "a. isinstance(10,int) b. isinstance(10,float) c. isinstance(1,bool) d. isinstance(0,bool) e. isinstance(78.8,int) f. isinstance(78.8,float) g. isinstance(78.8,complex) h. isinstance(True,bool)\n"
   ]
  },
  {
   "cell_type": "code",
   "execution_count": 18,
   "id": "588753b4",
   "metadata": {},
   "outputs": [
    {
     "data": {
      "text/plain": [
       "True"
      ]
     },
     "execution_count": 18,
     "metadata": {},
     "output_type": "execute_result"
    }
   ],
   "source": [
    "isinstance(10,int)"
   ]
  },
  {
   "cell_type": "code",
   "execution_count": 19,
   "id": "34447203",
   "metadata": {},
   "outputs": [
    {
     "data": {
      "text/plain": [
       "False"
      ]
     },
     "execution_count": 19,
     "metadata": {},
     "output_type": "execute_result"
    }
   ],
   "source": [
    "isinstance(10,float)"
   ]
  },
  {
   "cell_type": "code",
   "execution_count": 20,
   "id": "31bd2a35",
   "metadata": {},
   "outputs": [
    {
     "data": {
      "text/plain": [
       "False"
      ]
     },
     "execution_count": 20,
     "metadata": {},
     "output_type": "execute_result"
    }
   ],
   "source": [
    "isinstance(0,bool)"
   ]
  },
  {
   "cell_type": "code",
   "execution_count": 21,
   "id": "c171e9a0",
   "metadata": {},
   "outputs": [
    {
     "data": {
      "text/plain": [
       "False"
      ]
     },
     "execution_count": 21,
     "metadata": {},
     "output_type": "execute_result"
    }
   ],
   "source": [
    "isinstance(1,bool)"
   ]
  },
  {
   "cell_type": "code",
   "execution_count": 22,
   "id": "633ec55c",
   "metadata": {},
   "outputs": [
    {
     "data": {
      "text/plain": [
       "False"
      ]
     },
     "execution_count": 22,
     "metadata": {},
     "output_type": "execute_result"
    }
   ],
   "source": [
    "isinstance(78.8,int)"
   ]
  },
  {
   "cell_type": "code",
   "execution_count": 23,
   "id": "8a70ad8c",
   "metadata": {},
   "outputs": [
    {
     "data": {
      "text/plain": [
       "True"
      ]
     },
     "execution_count": 23,
     "metadata": {},
     "output_type": "execute_result"
    }
   ],
   "source": [
    "isinstance(78.8,float)"
   ]
  },
  {
   "cell_type": "code",
   "execution_count": 24,
   "id": "7005bc73",
   "metadata": {},
   "outputs": [
    {
     "data": {
      "text/plain": [
       "False"
      ]
     },
     "execution_count": 24,
     "metadata": {},
     "output_type": "execute_result"
    }
   ],
   "source": [
    "isinstance(78.8,complex)"
   ]
  },
  {
   "cell_type": "code",
   "execution_count": 25,
   "id": "43539bfd",
   "metadata": {},
   "outputs": [
    {
     "data": {
      "text/plain": [
       "True"
      ]
     },
     "execution_count": 25,
     "metadata": {},
     "output_type": "execute_result"
    }
   ],
   "source": [
    "isinstance(True,bool)"
   ]
  },
  {
   "cell_type": "markdown",
   "id": "d0ce00a0",
   "metadata": {},
   "source": [
    "Q3. WAP to take following from user, roll no : should be int : store in a variable percentage marks : should be float: store in a variable Any complex number : should be a complex number : store in a variable name of student: should be a string : store in a variable"
   ]
  },
  {
   "cell_type": "code",
   "execution_count": null,
   "id": "58eb5269",
   "metadata": {},
   "outputs": [],
   "source": [
    "rollno= int(input(\"Enter your roll no :\"))\n",
    "print(rollno)\n",
    "per=float(input(\"Enter your percentage :\"))\n",
    "print(per)\n",
    "name=input(\"Enter your name :\")\n",
    "print(name)\n",
    "comp=complex(input(\"Enter the complex number :\"))\n",
    "print(comp)"
   ]
  },
  {
   "cell_type": "markdown",
   "id": "64a48ed4",
   "metadata": {},
   "source": [
    "# Q4. WAP to convert given integer to binary, hex and octal format"
   ]
  },
  {
   "cell_type": "code",
   "execution_count": 27,
   "id": "ee16ea40",
   "metadata": {},
   "outputs": [
    {
     "name": "stdout",
     "output_type": "stream",
     "text": [
      "0b1000001\n",
      "0x41\n",
      "A\n",
      "65\n"
     ]
    }
   ],
   "source": [
    "num=65\n",
    "\n",
    "print(bin(num))\n",
    "print(hex(num))\n",
    "print(chr(num))\n",
    "print(ord('A'))"
   ]
  },
  {
   "cell_type": "code",
   "execution_count": null,
   "id": "b8bf5edf",
   "metadata": {},
   "outputs": [],
   "source": [
    "# Q5. WAP to convert given binary string to an integer. NOTE: Binary string should start with '0b' always\n",
    "\n",
    "b= 0b000100\n",
    "print(int(b))"
   ]
  },
  {
   "cell_type": "code",
   "execution_count": null,
   "id": "001f1bca",
   "metadata": {},
   "outputs": [],
   "source": [
    "# Q6. WAP to convert given octal string to an integer. NOTE: Binary string should start with '0o' always\n",
    "\n",
    "a=input(\"enter the octal string\")\n",
    "\n",
    "int(a,8)"
   ]
  },
  {
   "cell_type": "code",
   "execution_count": null,
   "id": "13a5449c",
   "metadata": {},
   "outputs": [],
   "source": [
    "# Q7. WAP to convert given hex string to an integer. NOTE: Binary string should start with '0x' always\n",
    "\n",
    "a=input(\"enter the Hexa string\")\n",
    "\n",
    "int(a,16)\n"
   ]
  },
  {
   "cell_type": "code",
   "execution_count": 1,
   "id": "c7d65822",
   "metadata": {},
   "outputs": [
    {
     "name": "stdout",
     "output_type": "stream",
     "text": [
      "enter the number65\n",
      "65\n",
      "0\n",
      "b\n",
      "1\n",
      "0\n",
      "0\n",
      "0\n",
      "0\n",
      "0\n",
      "1\n"
     ]
    }
   ],
   "source": [
    "# Q8. WAP to take an int from user. Print number of 1's and 0's in binary format of given number. NOTE: '0b' is suffix in binary string. It should not be included in calculation\n",
    "\n",
    "a =int(input(\"enter the number\"))\n",
    "print(a)\n",
    "\n",
    "b=bin(a)\n",
    "\n",
    "for char in b:\n",
    "    print(char)"
   ]
  },
  {
   "cell_type": "code",
   "execution_count": 2,
   "id": "91804fc9",
   "metadata": {},
   "outputs": [
    {
     "name": "stdout",
     "output_type": "stream",
     "text": [
      "Enter the choice4\n"
     ]
    }
   ],
   "source": [
    "# Q9. Write a menu driven program. Ask the user which input needs to be converted\n",
    "\n",
    "# binary 2. Octal 3. Hex Then convert given string to integer using int() function\n",
    "# print(\"press 1 to conert into binary\")\n",
    "# print(\"press 2 to conert into octal\")\n",
    "# print(\"press 3 to conert into hexa\")\n",
    "# print(\"press 4 to quit \")\n",
    "a=int(input(\"Enter the choice\"))\n",
    "while a<4:\n",
    "    b=int(input(\"Enter the number\"))\n",
    "    if a==1:\n",
    "        print(bin(b))\n",
    "    \n",
    "    elif a==2:\n",
    "        print(oct(b))\n",
    "        \n",
    "    elif a==3:\n",
    "        print(hex(b))\n",
    "    \n",
    "    else:\n",
    "        break\n",
    "        \n",
    "    a=int(input(\"Enter the choice\"))\n",
    "\n",
    "# else:\n",
    "#     quit\n",
    "        "
   ]
  },
  {
   "cell_type": "code",
   "execution_count": 4,
   "id": "575963e7",
   "metadata": {},
   "outputs": [
    {
     "name": "stdout",
     "output_type": "stream",
     "text": [
      "False\n",
      "False\n",
      "False\n",
      "False\n",
      "False\n",
      "True\n",
      "True\n",
      "True\n",
      "True\n",
      "True\n",
      "True\n",
      "False\n",
      "True\n"
     ]
    }
   ],
   "source": [
    "# Q10. Manually tell output (Truth value) of following expression, then verify it in python You can get truth value of an expression by passing it to bool() Ex. bool(100+56*3) returns True\n",
    "\n",
    "# a. '' (empty string) b. 10-10 c. 19.99-19.9 d. [] (empty list) e. range(0) f. None g. 0+0.1j h. -10 i. -9.6 j. 'ABC'+'KL' k. '-' l. 'False' m. False n. 'None'\n",
    "\n",
    "print(bool())\n",
    "print(bool(10-10))\n",
    "print(bool(19.99-19.99))\n",
    "print(bool())\n",
    "print(bool(range(0)))\n",
    "print(bool(0+0.1j))\n",
    "print(bool(-10))\n",
    "print(bool(-9.6))\n",
    "print(bool('ABC'+'KL'))\n",
    "print(bool('_'))\n",
    "print(bool('False'))\n",
    "print(bool(False))\n",
    "print(bool('None'))"
   ]
  },
  {
   "cell_type": "code",
   "execution_count": 5,
   "id": "d9e00635",
   "metadata": {},
   "outputs": [
    {
     "name": "stdout",
     "output_type": "stream",
     "text": [
      "28\n",
      "28\n",
      "28\n",
      "32\n",
      "36\n"
     ]
    }
   ],
   "source": [
    "# Q11. Find the size of x when x is given following values Hint : Size of object can be found by sys.getsizeof() function a. x=0 Check what is size of x b. x=1 Check what is size of x c. x=2 ** 20 Check what is size of x d. x=2 ** 32 Check what is size of x e. x=2 ** 60 Check what is size of x\n",
    "\n",
    "import sys\n",
    "x=0\n",
    "print(sys.getsizeof(x))\n",
    "x=1\n",
    "print(sys.getsizeof(x))\n",
    "x=2**20\n",
    "print(sys.getsizeof(x))\n",
    "x=2**32\n",
    "print(sys.getsizeof(x))\n",
    "x=2**60\n",
    "print(sys.getsizeof(x))"
   ]
  },
  {
   "cell_type": "code",
   "execution_count": 6,
   "id": "bb7dc9bf",
   "metadata": {},
   "outputs": [
    {
     "name": "stdout",
     "output_type": "stream",
     "text": [
      "11\n",
      "0\n",
      "0b0\n",
      "0x1\n",
      "1578.67\n",
      "1\n",
      "0\n",
      "-8\n",
      "1.0\n",
      "42.0\n",
      "1000.0\n",
      "inf\n"
     ]
    }
   ],
   "source": [
    "# Q12. Find output of following\n",
    "\n",
    "# a. 10 + True b. int(False) c. bin(False) d. hex(True) e. 1578.67 + False f. int(5/4) g. int(9/10) h. int(-89/10) i. float(True) j. float(6*7) k. float(1e3) l. float(1e323)\n",
    "\n",
    "print((10 + True))\n",
    "print(int(False))\n",
    "print(bin(False))\n",
    "print(hex(True))\n",
    "print(1578.67 + False)\n",
    "print(int(5/4))\n",
    "print(int(9/10))\n",
    "print(int(-89/10))\n",
    "print(float(True))\n",
    "print(float(6*7))\n",
    "print(float(1e3))\n",
    "print(float(1e323))"
   ]
  },
  {
   "cell_type": "code",
   "execution_count": 9,
   "id": "ec591ca7",
   "metadata": {},
   "outputs": [
    {
     "name": "stdout",
     "output_type": "stream",
     "text": [
      "4\n",
      "0b1000\n"
     ]
    }
   ],
   "source": [
    "# Q13. Solve following\n",
    "\n",
    "# a. Print value of int.bit_length(10) Print value of bin(10) Explain output of both functions\n",
    "\n",
    "# Ans: bin fuction is use to convert the integer to binary and where as int.bitlength gives a Returns the number of bits required to represent an integer in binary, excluding the sign and leading zeros\n",
    "\n",
    "print(int.bit_length(8))\n",
    "\n",
    "print(bin(8))"
   ]
  },
  {
   "cell_type": "code",
   "execution_count": null,
   "id": "aee6350b",
   "metadata": {},
   "outputs": [],
   "source": [
    "\n",
    "# Q14. Take a number from user. Find its square root. And check if square root is an integer or not. (Hint: Use built-in function from float data type functions for last part)\n",
    "\n",
    "import math\n",
    "\n",
    "a=int(input(\"Enter the number\"))\n",
    "\n",
    "root=math.sqrt(a)\n",
    "print(root)\n",
    "ans=isinstance(root,float)\n",
    "print(ans)\n",
    "# c. Take hexadecimal string from user and convert it to float Ex. User input string: '0x1.67e30' o/p 1.4058074951171875\n",
    "\n",
    "a= int(input(\"Enter the string\"))\n",
    "\n",
    "x=float(a)\n",
    "print(x)"
   ]
  },
  {
   "cell_type": "code",
   "execution_count": null,
   "id": "48a7a5be",
   "metadata": {},
   "outputs": [],
   "source": []
  }
 ],
 "metadata": {
  "kernelspec": {
   "display_name": "Python 3 (ipykernel)",
   "language": "python",
   "name": "python3"
  },
  "language_info": {
   "codemirror_mode": {
    "name": "ipython",
    "version": 3
   },
   "file_extension": ".py",
   "mimetype": "text/x-python",
   "name": "python",
   "nbconvert_exporter": "python",
   "pygments_lexer": "ipython3",
   "version": "3.11.4"
  }
 },
 "nbformat": 4,
 "nbformat_minor": 5
}
